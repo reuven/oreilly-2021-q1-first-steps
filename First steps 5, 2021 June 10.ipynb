{
 "cells": [
  {
   "cell_type": "markdown",
   "metadata": {},
   "source": [
    "# Agenda\n",
    "\n",
    "1. Local vs. global variables\n",
    "2. `**kwargs`\n",
    "3. Modules\n",
    "    - What are they?\n",
    "    - `import` and what it does\n",
    "    - Using modules in the standard library\n",
    "    - Writing (simple) modules\n",
    "    - Modules vs. packages\n",
    "    - PyPI (Python Package Index)\n",
    "    - `pip` for installing packages"
   ]
  },
  {
   "cell_type": "code",
   "execution_count": null,
   "metadata": {},
   "outputs": [],
   "source": []
  }
 ],
 "metadata": {
  "kernelspec": {
   "display_name": "Python 3",
   "language": "python",
   "name": "python3"
  },
  "language_info": {
   "codemirror_mode": {
    "name": "ipython",
    "version": 3
   },
   "file_extension": ".py",
   "mimetype": "text/x-python",
   "name": "python",
   "nbconvert_exporter": "python",
   "pygments_lexer": "ipython3",
   "version": "3.9.5"
  }
 },
 "nbformat": 4,
 "nbformat_minor": 4
}
