{
 "cells": [
  {
   "cell_type": "markdown",
   "metadata": {},
   "source": [
    "# Agenda\n",
    "\n",
    "1. Local vs. global variables\n",
    "2. `**kwargs`\n",
    "3. Modules\n",
    "    - What are they?\n",
    "    - `import` and what it does\n",
    "    - Using modules in the standard library\n",
    "    - Writing (simple) modules\n",
    "    - Modules vs. packages\n",
    "    - PyPI (Python Package Index)\n",
    "    - `pip` for installing packages"
   ]
  },
  {
   "cell_type": "code",
   "execution_count": 1,
   "metadata": {},
   "outputs": [
    {
     "data": {
      "text/plain": [
       "str"
      ]
     },
     "execution_count": 1,
     "metadata": {},
     "output_type": "execute_result"
    }
   ],
   "source": [
    "s = 'abcdefghijklmnopqrstuvwxyz'\n",
    "type(s)"
   ]
  },
  {
   "cell_type": "code",
   "execution_count": 2,
   "metadata": {},
   "outputs": [
    {
     "data": {
      "text/plain": [
       "'k'"
      ]
     },
     "execution_count": 2,
     "metadata": {},
     "output_type": "execute_result"
    }
   ],
   "source": [
    "# retrieve from one index in s using []\n",
    "s[10]"
   ]
  },
  {
   "cell_type": "code",
   "execution_count": 3,
   "metadata": {},
   "outputs": [
    {
     "data": {
      "text/plain": [
       "'u'"
      ]
     },
     "execution_count": 3,
     "metadata": {},
     "output_type": "execute_result"
    }
   ],
   "source": [
    "s[20]"
   ]
  },
  {
   "cell_type": "code",
   "execution_count": 4,
   "metadata": {},
   "outputs": [
    {
     "data": {
      "text/plain": [
       "'fghijklmnopqrst'"
      ]
     },
     "execution_count": 4,
     "metadata": {},
     "output_type": "execute_result"
    }
   ],
   "source": [
    "# what if I want to get all characters from index 5 until index 20?\n",
    "# it's always \"up to and not including\" the end index\n",
    "s[5:20]  # this is known as a \"slice\""
   ]
  },
  {
   "cell_type": "code",
   "execution_count": 5,
   "metadata": {},
   "outputs": [
    {
     "data": {
      "text/plain": [
       "'abcdefghij'"
      ]
     },
     "execution_count": 5,
     "metadata": {},
     "output_type": "execute_result"
    }
   ],
   "source": [
    "# what if I want all of the characters in s from the start\n",
    "# until index 10?\n",
    "s[0:10]  # this will work!"
   ]
  },
  {
   "cell_type": "code",
   "execution_count": 6,
   "metadata": {},
   "outputs": [
    {
     "data": {
      "text/plain": [
       "'abcdefghij'"
      ]
     },
     "execution_count": 6,
     "metadata": {},
     "output_type": "execute_result"
    }
   ],
   "source": [
    "# better (more Pythonic / more idiomatic)\n",
    "s[:10]  # same as s[0:10]"
   ]
  },
  {
   "cell_type": "code",
   "execution_count": 7,
   "metadata": {},
   "outputs": [
    {
     "data": {
      "text/plain": [
       "'uvwxy'"
      ]
     },
     "execution_count": 7,
     "metadata": {},
     "output_type": "execute_result"
    }
   ],
   "source": [
    "# get all characters from index 20 until the end\n",
    "# will this work?\n",
    "s[20:25]  # index 25 is the last character, but also until-not-including"
   ]
  },
  {
   "cell_type": "code",
   "execution_count": 8,
   "metadata": {},
   "outputs": [
    {
     "data": {
      "text/plain": [
       "'uvwxyz'"
      ]
     },
     "execution_count": 8,
     "metadata": {},
     "output_type": "execute_result"
    }
   ],
   "source": [
    "# one solution: go beyond the end\n",
    "s[20:26]  # slices are very forgiving... but this is kinda ugly"
   ]
  },
  {
   "cell_type": "code",
   "execution_count": 9,
   "metadata": {},
   "outputs": [
    {
     "data": {
      "text/plain": [
       "'uvwxyz'"
      ]
     },
     "execution_count": 9,
     "metadata": {},
     "output_type": "execute_result"
    }
   ],
   "source": [
    "# more idiomatic: leave off the end index\n",
    "s[20:]  # from 20 through the end"
   ]
  },
  {
   "cell_type": "code",
   "execution_count": 10,
   "metadata": {},
   "outputs": [
    {
     "data": {
      "text/plain": [
       "'abc'"
      ]
     },
     "execution_count": 10,
     "metadata": {},
     "output_type": "execute_result"
    }
   ],
   "source": [
    "s[:3] # from the start until (not including) index 3"
   ]
  },
  {
   "cell_type": "code",
   "execution_count": 11,
   "metadata": {},
   "outputs": [
    {
     "data": {
      "text/plain": [
       "'efghijklmnopqrstuvwxyz'"
      ]
     },
     "execution_count": 11,
     "metadata": {},
     "output_type": "execute_result"
    }
   ],
   "source": [
    "s[4:]  # from index 4 through the end"
   ]
  },
  {
   "cell_type": "code",
   "execution_count": 13,
   "metadata": {},
   "outputs": [
    {
     "name": "stdout",
     "output_type": "stream",
     "text": [
      "x = 100\n"
     ]
    }
   ],
   "source": [
    "x = 100\n",
    "\n",
    "# we're outside of a function, so look for a global variable named 'x'\n",
    "print(f'x = {x}') "
   ]
  },
  {
   "cell_type": "code",
   "execution_count": 14,
   "metadata": {},
   "outputs": [
    {
     "data": {
      "text/plain": [
       "True"
      ]
     },
     "execution_count": 14,
     "metadata": {},
     "output_type": "execute_result"
    }
   ],
   "source": [
    "# how does it look for a global variable?\n",
    "# search for 'x' (the string) as a key in globals(), a dict\n",
    "'x' in globals()"
   ]
  },
  {
   "cell_type": "code",
   "execution_count": 15,
   "metadata": {},
   "outputs": [
    {
     "data": {
      "text/plain": [
       "100"
      ]
     },
     "execution_count": 15,
     "metadata": {},
     "output_type": "execute_result"
    }
   ],
   "source": [
    "# never use this is in a real program!\n",
    "globals()['x']"
   ]
  },
  {
   "cell_type": "code",
   "execution_count": 17,
   "metadata": {},
   "outputs": [
    {
     "name": "stdout",
     "output_type": "stream",
     "text": [
      "Before, x = 100\n",
      "In myfunc, x = 100\n",
      "After, x = 100\n"
     ]
    }
   ],
   "source": [
    "x = 100\n",
    "\n",
    "def myfunc():\n",
    "\n",
    "    # because we're inside of a function here, Python first\n",
    "    # checks -- is there a *local* variable x, one that was\n",
    "    # defined in the function?  If so, it gets priority\n",
    "    \n",
    "    # answer: no\n",
    "\n",
    "    # we next try global variables\n",
    "    # we find a global 'x', and get its value, 100\n",
    "\n",
    "    print(f'In myfunc, x = {x}')     \n",
    "\n",
    "print(f'Before, x = {x}') # is x global? Yes, and it's 100\n",
    "myfunc() \n",
    "print(f'After, x = {x}')  # is x global? Yes, and it's 100"
   ]
  },
  {
   "cell_type": "code",
   "execution_count": 19,
   "metadata": {},
   "outputs": [
    {
     "name": "stdout",
     "output_type": "stream",
     "text": [
      "Before, x = 100\n",
      "In myfunc, x = 200\n",
      "After, x = 100\n"
     ]
    }
   ],
   "source": [
    "x = 100\n",
    "\n",
    "def myfunc():\n",
    "    x = 200  # this is the local variable x, COMPLETELY DIFFERENT\n",
    "             # from the global variable x!  No connection whatsoever\n",
    "    \n",
    "    # is x a local variable?  YES, because it was defined/\n",
    "    # assigned to inside of the function.  That is the test\n",
    "    # of a local variable. \n",
    "    \n",
    "    # Python checks if 'x' in locals()\n",
    "    # locals() returns a dict of local variables\n",
    "    print(f'In myfunc, x = {x}')     \n",
    "\n",
    "print(f'Before, x = {x}') # is x global? Yes, and it's 100\n",
    "myfunc() \n",
    "print(f'After, x = {x}')  # is x global? Yes, and it's 100"
   ]
  },
  {
   "cell_type": "markdown",
   "metadata": {},
   "source": [
    "# Variable lookup rule\n",
    "\n",
    "This rule is ironclad in Python.  It *always* looks in the same places for variables and their values.\n",
    "\n",
    "- `L` Local (we start here if we're in a function)\n",
    "- `E` Enclosing function (we won't talk about this)\n",
    "- `G` Global (we start here if we're *not* in a function)\n",
    "- `B` Builtins\n",
    "\n",
    "The first scope in which we find a variable by that name is where we stop."
   ]
  },
  {
   "cell_type": "code",
   "execution_count": 21,
   "metadata": {},
   "outputs": [
    {
     "data": {
      "text/plain": [
       "15"
      ]
     },
     "execution_count": 21,
     "metadata": {},
     "output_type": "execute_result"
    }
   ],
   "source": [
    "a = 100\n",
    "b = 200\n",
    "\n",
    "def add(a, b):\n",
    "    return a + b  # a and b are local variables (parameters), thus\n",
    "                  #  they get priority over global a + b\n",
    "\n",
    "add(5, 10)"
   ]
  },
  {
   "cell_type": "code",
   "execution_count": 22,
   "metadata": {},
   "outputs": [
    {
     "ename": "SyntaxError",
     "evalue": "invalid syntax (<ipython-input-22-76bed874cd2e>, line 1)",
     "output_type": "error",
     "traceback": [
      "\u001b[0;36m  File \u001b[0;32m\"<ipython-input-22-76bed874cd2e>\"\u001b[0;36m, line \u001b[0;32m1\u001b[0m\n\u001b[0;31m    def for():\u001b[0m\n\u001b[0m        ^\u001b[0m\n\u001b[0;31mSyntaxError\u001b[0m\u001b[0;31m:\u001b[0m invalid syntax\n"
     ]
    }
   ],
   "source": [
    "def for():  # cannot do this because \"for\" is a \"keyword\"\n",
    "    return 4"
   ]
  },
  {
   "cell_type": "code",
   "execution_count": 23,
   "metadata": {},
   "outputs": [
    {
     "data": {
      "text/plain": [
       "'5'"
      ]
     },
     "execution_count": 23,
     "metadata": {},
     "output_type": "execute_result"
    }
   ],
   "source": [
    "# but most common names in Python are *not* keywords\n",
    "# examples: str, len, dict, list\n",
    "\n",
    "# these are defined in the \"builtins\" scope / namespace\n",
    "# if you say\n",
    "str(5)  \n",
    "\n",
    "# Python looks L E G B, finds it in builtins, and uses it"
   ]
  },
  {
   "cell_type": "code",
   "execution_count": 24,
   "metadata": {},
   "outputs": [
    {
     "data": {
      "text/plain": [
       "['a', 'b', 'c', 'd']"
      ]
     },
     "execution_count": 24,
     "metadata": {},
     "output_type": "execute_result"
    }
   ],
   "source": [
    "# you can \"shadow\" a builtin name by defining a new global\n",
    "# with the same name\n",
    "\n",
    "list('abcd')"
   ]
  },
  {
   "cell_type": "code",
   "execution_count": 25,
   "metadata": {},
   "outputs": [
    {
     "ename": "TypeError",
     "evalue": "'int' object is not callable",
     "output_type": "error",
     "traceback": [
      "\u001b[0;31m---------------------------------------------------------------------------\u001b[0m",
      "\u001b[0;31mTypeError\u001b[0m                                 Traceback (most recent call last)",
      "\u001b[0;32m<ipython-input-25-3373933f5d8b>\u001b[0m in \u001b[0;36m<module>\u001b[0;34m\u001b[0m\n\u001b[1;32m      1\u001b[0m \u001b[0mlist\u001b[0m \u001b[0;34m=\u001b[0m \u001b[0;36m5\u001b[0m\u001b[0;34m\u001b[0m\u001b[0;34m\u001b[0m\u001b[0m\n\u001b[0;32m----> 2\u001b[0;31m \u001b[0mlist\u001b[0m\u001b[0;34m(\u001b[0m\u001b[0;34m'abcd'\u001b[0m\u001b[0;34m)\u001b[0m\u001b[0;34m\u001b[0m\u001b[0;34m\u001b[0m\u001b[0m\n\u001b[0m",
      "\u001b[0;31mTypeError\u001b[0m: 'int' object is not callable"
     ]
    }
   ],
   "source": [
    "list = 5    # never do this!\n",
    "list('abcd')"
   ]
  },
  {
   "cell_type": "code",
   "execution_count": 26,
   "metadata": {},
   "outputs": [],
   "source": [
    "# how do I solve this problem?\n",
    "# if I need, I can use\n",
    "\n",
    "del list   # looks scary, but I'm deleting the global \"list\""
   ]
  },
  {
   "cell_type": "code",
   "execution_count": 27,
   "metadata": {},
   "outputs": [
    {
     "data": {
      "text/plain": [
       "['a', 'b', 'c', 'd']"
      ]
     },
     "execution_count": 27,
     "metadata": {},
     "output_type": "execute_result"
    }
   ],
   "source": [
    "list('abcd')"
   ]
  },
  {
   "cell_type": "code",
   "execution_count": 28,
   "metadata": {
    "collapsed": true
   },
   "outputs": [
    {
     "data": {
      "text/plain": [
       "['ArithmeticError',\n",
       " 'AssertionError',\n",
       " 'AttributeError',\n",
       " 'BaseException',\n",
       " 'BlockingIOError',\n",
       " 'BrokenPipeError',\n",
       " 'BufferError',\n",
       " 'BytesWarning',\n",
       " 'ChildProcessError',\n",
       " 'ConnectionAbortedError',\n",
       " 'ConnectionError',\n",
       " 'ConnectionRefusedError',\n",
       " 'ConnectionResetError',\n",
       " 'DeprecationWarning',\n",
       " 'EOFError',\n",
       " 'Ellipsis',\n",
       " 'EnvironmentError',\n",
       " 'Exception',\n",
       " 'False',\n",
       " 'FileExistsError',\n",
       " 'FileNotFoundError',\n",
       " 'FloatingPointError',\n",
       " 'FutureWarning',\n",
       " 'GeneratorExit',\n",
       " 'IOError',\n",
       " 'ImportError',\n",
       " 'ImportWarning',\n",
       " 'IndentationError',\n",
       " 'IndexError',\n",
       " 'InterruptedError',\n",
       " 'IsADirectoryError',\n",
       " 'KeyError',\n",
       " 'KeyboardInterrupt',\n",
       " 'LookupError',\n",
       " 'MemoryError',\n",
       " 'ModuleNotFoundError',\n",
       " 'NameError',\n",
       " 'None',\n",
       " 'NotADirectoryError',\n",
       " 'NotImplemented',\n",
       " 'NotImplementedError',\n",
       " 'OSError',\n",
       " 'OverflowError',\n",
       " 'PendingDeprecationWarning',\n",
       " 'PermissionError',\n",
       " 'ProcessLookupError',\n",
       " 'RecursionError',\n",
       " 'ReferenceError',\n",
       " 'ResourceWarning',\n",
       " 'RuntimeError',\n",
       " 'RuntimeWarning',\n",
       " 'StopAsyncIteration',\n",
       " 'StopIteration',\n",
       " 'SyntaxError',\n",
       " 'SyntaxWarning',\n",
       " 'SystemError',\n",
       " 'SystemExit',\n",
       " 'TabError',\n",
       " 'TimeoutError',\n",
       " 'True',\n",
       " 'TypeError',\n",
       " 'UnboundLocalError',\n",
       " 'UnicodeDecodeError',\n",
       " 'UnicodeEncodeError',\n",
       " 'UnicodeError',\n",
       " 'UnicodeTranslateError',\n",
       " 'UnicodeWarning',\n",
       " 'UserWarning',\n",
       " 'ValueError',\n",
       " 'Warning',\n",
       " 'ZeroDivisionError',\n",
       " '__IPYTHON__',\n",
       " '__build_class__',\n",
       " '__debug__',\n",
       " '__doc__',\n",
       " '__import__',\n",
       " '__loader__',\n",
       " '__name__',\n",
       " '__package__',\n",
       " '__spec__',\n",
       " 'abs',\n",
       " 'all',\n",
       " 'any',\n",
       " 'ascii',\n",
       " 'bin',\n",
       " 'bool',\n",
       " 'breakpoint',\n",
       " 'bytearray',\n",
       " 'bytes',\n",
       " 'callable',\n",
       " 'chr',\n",
       " 'classmethod',\n",
       " 'compile',\n",
       " 'complex',\n",
       " 'copyright',\n",
       " 'credits',\n",
       " 'delattr',\n",
       " 'dict',\n",
       " 'dir',\n",
       " 'display',\n",
       " 'divmod',\n",
       " 'enumerate',\n",
       " 'eval',\n",
       " 'exec',\n",
       " 'filter',\n",
       " 'float',\n",
       " 'format',\n",
       " 'frozenset',\n",
       " 'get_ipython',\n",
       " 'getattr',\n",
       " 'globals',\n",
       " 'hasattr',\n",
       " 'hash',\n",
       " 'help',\n",
       " 'hex',\n",
       " 'id',\n",
       " 'input',\n",
       " 'int',\n",
       " 'isinstance',\n",
       " 'issubclass',\n",
       " 'iter',\n",
       " 'len',\n",
       " 'license',\n",
       " 'list',\n",
       " 'locals',\n",
       " 'map',\n",
       " 'max',\n",
       " 'memoryview',\n",
       " 'min',\n",
       " 'next',\n",
       " 'object',\n",
       " 'oct',\n",
       " 'open',\n",
       " 'ord',\n",
       " 'pow',\n",
       " 'print',\n",
       " 'property',\n",
       " 'range',\n",
       " 'repr',\n",
       " 'reversed',\n",
       " 'round',\n",
       " 'set',\n",
       " 'setattr',\n",
       " 'slice',\n",
       " 'sorted',\n",
       " 'staticmethod',\n",
       " 'str',\n",
       " 'sum',\n",
       " 'super',\n",
       " 'tuple',\n",
       " 'type',\n",
       " 'vars',\n",
       " 'zip']"
      ]
     },
     "execution_count": 28,
     "metadata": {},
     "output_type": "execute_result"
    }
   ],
   "source": [
    "# looking at the builtins\n",
    "dir(__builtin__)"
   ]
  },
  {
   "cell_type": "markdown",
   "metadata": {},
   "source": [
    "- *builtin* -- defined by Python, the final place that the language looks for names. You don't want to mess with the names and values in builtin.  Leave it alone!\n",
    "\n",
    "- *global* -- this is where your (global) variables and functions are defined.  Any function you write, any variable you set outside of a function -- those are all globals, and that's fine.\n"
   ]
  },
  {
   "cell_type": "code",
   "execution_count": 29,
   "metadata": {},
   "outputs": [],
   "source": [
    "x = 1234\n",
    "y = [10, 20, 30]"
   ]
  },
  {
   "cell_type": "code",
   "execution_count": 30,
   "metadata": {},
   "outputs": [
    {
     "data": {
      "text/plain": [
       "<module 'builtins' (built-in)>"
      ]
     },
     "execution_count": 30,
     "metadata": {},
     "output_type": "execute_result"
    }
   ],
   "source": [
    "__builtin__"
   ]
  },
  {
   "cell_type": "code",
   "execution_count": 31,
   "metadata": {},
   "outputs": [
    {
     "data": {
      "text/plain": [
       "<module 'builtins' (built-in)>"
      ]
     },
     "execution_count": 31,
     "metadata": {},
     "output_type": "execute_result"
    }
   ],
   "source": [
    "__builtins__"
   ]
  },
  {
   "cell_type": "markdown",
   "metadata": {},
   "source": [
    "# `**kwargs`\n",
    "\n",
    "When I call a function, I can pass arguments (i.e., values) as either *positional* arguments or *keyword* arguments.  The difference is both how they look, and then how Python assigns them to parameters (i.e., local variables in parentheses on the first line of the function definition)."
   ]
  },
  {
   "cell_type": "code",
   "execution_count": 32,
   "metadata": {},
   "outputs": [
    {
     "data": {
      "text/plain": [
       "8"
      ]
     },
     "execution_count": 32,
     "metadata": {},
     "output_type": "execute_result"
    }
   ],
   "source": [
    "def add(a, b):\n",
    "    return a + b\n",
    "\n",
    "add(5, 3)  # positional"
   ]
  },
  {
   "cell_type": "code",
   "execution_count": 33,
   "metadata": {},
   "outputs": [
    {
     "data": {
      "text/plain": [
       "8"
      ]
     },
     "execution_count": 33,
     "metadata": {},
     "output_type": "execute_result"
    }
   ],
   "source": [
    "add(a=5, b=3)  # keyword  -- looks like name=value"
   ]
  },
  {
   "cell_type": "code",
   "execution_count": 34,
   "metadata": {},
   "outputs": [],
   "source": [
    "# If I want, I can have a parameter *args,\n",
    "# which takes positional arguments that no other parameter grabbed\n",
    "\n",
    "def add(*numbers):  # numbers is a tuple with all positional args.\n",
    "    total = 0\n",
    "    \n",
    "    for one_number in numbers:\n",
    "        total += one_number\n",
    "        \n",
    "    return total"
   ]
  },
  {
   "cell_type": "code",
   "execution_count": 35,
   "metadata": {
    "scrolled": true
   },
   "outputs": [
    {
     "data": {
      "text/plain": [
       "8"
      ]
     },
     "execution_count": 35,
     "metadata": {},
     "output_type": "execute_result"
    }
   ],
   "source": [
    "add(5, 3)"
   ]
  },
  {
   "cell_type": "code",
   "execution_count": 37,
   "metadata": {},
   "outputs": [
    {
     "data": {
      "text/plain": [
       "35"
      ]
     },
     "execution_count": 37,
     "metadata": {},
     "output_type": "execute_result"
    }
   ],
   "source": [
    "# all positional arguments were put into args, \n",
    "# a tuple.  The *args in the function definition\n",
    "# tells Python that it'll be a tuple and will take\n",
    "# any number of positionals.\n",
    "add(5, 3, 10, 8, 9)"
   ]
  },
  {
   "cell_type": "code",
   "execution_count": 38,
   "metadata": {},
   "outputs": [],
   "source": [
    "def word_lengths(*words):  # words will be a tuple with all pos. args\n",
    "    for one_word in words:\n",
    "        print(f'{one_word}: {len(one_word)}')"
   ]
  },
  {
   "cell_type": "code",
   "execution_count": 39,
   "metadata": {
    "scrolled": true
   },
   "outputs": [
    {
     "name": "stdout",
     "output_type": "stream",
     "text": [
      "this: 4\n",
      "is: 2\n",
      "a: 1\n",
      "test: 4\n"
     ]
    }
   ],
   "source": [
    "# pass 4 positional arguments to word_lengths\n",
    "word_lengths('this', 'is', 'a', 'test')"
   ]
  },
  {
   "cell_type": "code",
   "execution_count": 40,
   "metadata": {},
   "outputs": [],
   "source": [
    "def myfunc(a, b, *args):\n",
    "    return f'{a=}, {b=}, {args=}'"
   ]
  },
  {
   "cell_type": "code",
   "execution_count": 41,
   "metadata": {},
   "outputs": [
    {
     "data": {
      "text/plain": [
       "'a=10, b=20, args=(30, 40, 50)'"
      ]
     },
     "execution_count": 41,
     "metadata": {},
     "output_type": "execute_result"
    }
   ],
   "source": [
    "myfunc(10, 20, 30, 40, 50)"
   ]
  },
  {
   "cell_type": "code",
   "execution_count": null,
   "metadata": {},
   "outputs": [],
   "source": []
  },
  {
   "cell_type": "code",
   "execution_count": null,
   "metadata": {},
   "outputs": [],
   "source": []
  },
  {
   "cell_type": "markdown",
   "metadata": {},
   "source": [
    "`**kwargs` is the keyword argument analog to `*args`\n",
    "\n",
    "- It only looks at keyword arguments\n",
    "- It only looks at keyword arguments that parameters didn't grab (meaning: the keys in the keyword arguments don't match any parameters)"
   ]
  },
  {
   "cell_type": "code",
   "execution_count": 42,
   "metadata": {},
   "outputs": [],
   "source": [
    "def myfunc(a, b, **kwargs):\n",
    "    return f'{a=}, {b=}, {kwargs=}'"
   ]
  },
  {
   "cell_type": "code",
   "execution_count": 43,
   "metadata": {},
   "outputs": [
    {
     "ename": "TypeError",
     "evalue": "myfunc() takes 2 positional arguments but 5 were given",
     "output_type": "error",
     "traceback": [
      "\u001b[0;31m---------------------------------------------------------------------------\u001b[0m",
      "\u001b[0;31mTypeError\u001b[0m                                 Traceback (most recent call last)",
      "\u001b[0;32m<ipython-input-43-70cb89992b72>\u001b[0m in \u001b[0;36m<module>\u001b[0;34m\u001b[0m\n\u001b[0;32m----> 1\u001b[0;31m \u001b[0mmyfunc\u001b[0m\u001b[0;34m(\u001b[0m\u001b[0;36m10\u001b[0m\u001b[0;34m,\u001b[0m \u001b[0;36m20\u001b[0m\u001b[0;34m,\u001b[0m \u001b[0;36m30\u001b[0m\u001b[0;34m,\u001b[0m \u001b[0;36m40\u001b[0m\u001b[0;34m,\u001b[0m \u001b[0;36m50\u001b[0m\u001b[0;34m)\u001b[0m\u001b[0;34m\u001b[0m\u001b[0;34m\u001b[0m\u001b[0m\n\u001b[0m",
      "\u001b[0;31mTypeError\u001b[0m: myfunc() takes 2 positional arguments but 5 were given"
     ]
    }
   ],
   "source": [
    "myfunc(10, 20, 30, 40, 50)"
   ]
  },
  {
   "cell_type": "code",
   "execution_count": 44,
   "metadata": {},
   "outputs": [
    {
     "data": {
      "text/plain": [
       "\"a=10, b=20, kwargs={'x': 100, 'y': 200, 'z': 300}\""
      ]
     },
     "execution_count": 44,
     "metadata": {},
     "output_type": "execute_result"
    }
   ],
   "source": [
    "myfunc(10, 20, x=100, y=200, z=300)"
   ]
  },
  {
   "cell_type": "markdown",
   "metadata": {},
   "source": [
    "# `**kwargs`\n",
    "\n",
    "For all keyword arguments that `kwargs` grabs, the name becomes a string and the value is kept as is, and `kwargs` is a dictionary!"
   ]
  },
  {
   "cell_type": "markdown",
   "metadata": {},
   "source": [
    "# The rule for arguments\n",
    "\n",
    "All positional must come before all keyword.\n",
    "\n",
    "When you call a function, you can pass as many positional arguments as you want (assuming the function is ready for them) and as many keyword arguments as you want -- but they must be in that order."
   ]
  },
  {
   "cell_type": "markdown",
   "metadata": {},
   "source": [
    "# In summary\n",
    "\n",
    "- `*args` is a tuple of positional arguments (except for those assigned to parameters)\n",
    "- `**kwargs` is a dict of keyword arguments (except for those assigned to parameters)"
   ]
  },
  {
   "cell_type": "markdown",
   "metadata": {},
   "source": [
    "# Exercise: Config file writer\n",
    "\n",
    "I'm going to define a \"configuration file\" as a file in which lines contain name-value pairs of the form\n",
    "\n",
    "    a=1\n",
    "    b=2 \n",
    "    c=3\n",
    "    \n",
    "1. Define `write_config` as a function that takes:\n",
    "    - Mandatory string argument, `filename`, where we will write the config\n",
    "    - Any number of keyword arguments, representing the configuration that we will write to the file.\n",
    "    \n",
    "2. Call the function as\n",
    "\n",
    "```python\n",
    "write_config('myconfig.txt', a=100, b=200, c=300)\n",
    "```\n",
    "    \n",
    "3. You should have a file that looks like\n",
    "\n",
    "```\n",
    "a=100\n",
    "b=200\n",
    "c=300\n",
    "```"
   ]
  },
  {
   "cell_type": "code",
   "execution_count": 46,
   "metadata": {},
   "outputs": [],
   "source": [
    "def write_config(filename, **kwargs):\n",
    "\n",
    "    # open the file for writing (and auto-close!)\n",
    "    # f is a variable assigned to the file object we created with \"open\"\n",
    "    with open(filename, 'w') as f:\n",
    "        \n",
    "        # go through the key-value pairs in kwargs, and write them\n",
    "        # kwargs.items returns a list of key-value pairs (tuples)\n",
    "        for key, value in kwargs.items():\n",
    "            f.write(f'{key}={value}\\n')        "
   ]
  },
  {
   "cell_type": "code",
   "execution_count": 47,
   "metadata": {},
   "outputs": [],
   "source": [
    "write_config('myconfig.txt', a=100, b=200, c=300)"
   ]
  },
  {
   "cell_type": "code",
   "execution_count": 48,
   "metadata": {},
   "outputs": [
    {
     "name": "stdout",
     "output_type": "stream",
     "text": [
      "a=100\r\n",
      "b=200\r\n",
      "c=300\r\n"
     ]
    }
   ],
   "source": [
    "!cat myconfig.txt"
   ]
  },
  {
   "cell_type": "code",
   "execution_count": 49,
   "metadata": {},
   "outputs": [],
   "source": [
    "# argparse is great for getting command-line arguments"
   ]
  },
  {
   "cell_type": "markdown",
   "metadata": {},
   "source": [
    "Iterating over `*args`\n",
    "\n",
    "When we define a function with `*args` as a parameter, it means that `args` gets all positional arguments that were passed (and ungrabbed by anyone else), and it's a tuple.\n",
    "\n",
    "You can iterate over a tuple like a string or list with `for`:\n",
    "\n",
    "```python\n",
    "for one_item in args:  # notice -- no * here!\n",
    "    print(one_item)\n",
    "```"
   ]
  },
  {
   "cell_type": "markdown",
   "metadata": {},
   "source": [
    "# Next up: Modules!"
   ]
  },
  {
   "cell_type": "code",
   "execution_count": 50,
   "metadata": {},
   "outputs": [
    {
     "name": "stdout",
     "output_type": "stream",
     "text": [
      "a: 1\n",
      "b: 2\n",
      "c: 3\n"
     ]
    }
   ],
   "source": [
    "d = {'a':1, 'b':2, 'c':3}\n",
    "\n",
    "for key, value in d.items():  # this works!\n",
    "    print(f'{key}: {value}')"
   ]
  },
  {
   "cell_type": "code",
   "execution_count": 51,
   "metadata": {},
   "outputs": [
    {
     "ename": "ValueError",
     "evalue": "not enough values to unpack (expected 2, got 1)",
     "output_type": "error",
     "traceback": [
      "\u001b[0;31m---------------------------------------------------------------------------\u001b[0m",
      "\u001b[0;31mValueError\u001b[0m                                Traceback (most recent call last)",
      "\u001b[0;32m<ipython-input-51-b265f1bbd137>\u001b[0m in \u001b[0;36m<module>\u001b[0;34m\u001b[0m\n\u001b[1;32m      1\u001b[0m \u001b[0md\u001b[0m \u001b[0;34m=\u001b[0m \u001b[0;34m{\u001b[0m\u001b[0;34m'a'\u001b[0m\u001b[0;34m:\u001b[0m\u001b[0;36m1\u001b[0m\u001b[0;34m,\u001b[0m \u001b[0;34m'b'\u001b[0m\u001b[0;34m:\u001b[0m\u001b[0;36m2\u001b[0m\u001b[0;34m,\u001b[0m \u001b[0;34m'c'\u001b[0m\u001b[0;34m:\u001b[0m\u001b[0;36m3\u001b[0m\u001b[0;34m}\u001b[0m\u001b[0;34m\u001b[0m\u001b[0;34m\u001b[0m\u001b[0m\n\u001b[1;32m      2\u001b[0m \u001b[0;34m\u001b[0m\u001b[0m\n\u001b[0;32m----> 3\u001b[0;31m \u001b[0;32mfor\u001b[0m \u001b[0mkey\u001b[0m\u001b[0;34m,\u001b[0m \u001b[0mvalue\u001b[0m \u001b[0;32min\u001b[0m \u001b[0md\u001b[0m\u001b[0;34m:\u001b[0m  \u001b[0;31m# this does *not* work -- this gives the keys only\u001b[0m\u001b[0;34m\u001b[0m\u001b[0;34m\u001b[0m\u001b[0m\n\u001b[0m\u001b[1;32m      4\u001b[0m     \u001b[0mprint\u001b[0m\u001b[0;34m(\u001b[0m\u001b[0;34mf'{key}: {value}'\u001b[0m\u001b[0;34m)\u001b[0m\u001b[0;34m\u001b[0m\u001b[0;34m\u001b[0m\u001b[0m\n",
      "\u001b[0;31mValueError\u001b[0m: not enough values to unpack (expected 2, got 1)"
     ]
    }
   ],
   "source": [
    "d = {'a':1, 'b':2, 'c':3}\n",
    "\n",
    "for key, value in d:  # this does *not* work -- this gives the keys only\n",
    "    print(f'{key}: {value}')"
   ]
  },
  {
   "cell_type": "code",
   "execution_count": 52,
   "metadata": {},
   "outputs": [
    {
     "name": "stdout",
     "output_type": "stream",
     "text": [
      "('a', 1)\n",
      "('b', 2)\n",
      "('c', 3)\n"
     ]
    }
   ],
   "source": [
    "d = {'a':1, 'b':2, 'c':3}\n",
    "\n",
    "for one_thing in d.items():  # d.items gives us tuples!\n",
    "    print(one_thing)"
   ]
  },
  {
   "cell_type": "code",
   "execution_count": 53,
   "metadata": {},
   "outputs": [
    {
     "name": "stdout",
     "output_type": "stream",
     "text": [
      "a: 1\n",
      "b: 2\n",
      "c: 3\n"
     ]
    }
   ],
   "source": [
    "# use unpacking in my for loop to grab them separately\n",
    "for key, value in d.items():\n",
    "    print(f'{key}: {value}')"
   ]
  },
  {
   "cell_type": "code",
   "execution_count": 56,
   "metadata": {},
   "outputs": [
    {
     "name": "stdout",
     "output_type": "stream",
     "text": [
      "a\n",
      "b\n",
      "c\n",
      "d\n",
      "e\n"
     ]
    }
   ],
   "source": [
    "s = 'abcde'  # strings are iterable, right?\n",
    "\n",
    "for one_item in s:\n",
    "    print(one_item)"
   ]
  },
  {
   "cell_type": "code",
   "execution_count": 57,
   "metadata": {},
   "outputs": [
    {
     "data": {
      "text/plain": [
       "['a', 'b', 'c', 'd', 'e']"
      ]
     },
     "execution_count": 57,
     "metadata": {},
     "output_type": "execute_result"
    }
   ],
   "source": [
    "list(s)"
   ]
  },
  {
   "cell_type": "code",
   "execution_count": 58,
   "metadata": {},
   "outputs": [
    {
     "data": {
      "text/plain": [
       "('a', 'b', 'c', 'd', 'e')"
      ]
     },
     "execution_count": 58,
     "metadata": {},
     "output_type": "execute_result"
    }
   ],
   "source": [
    "tuple(s)"
   ]
  },
  {
   "cell_type": "code",
   "execution_count": 59,
   "metadata": {},
   "outputs": [
    {
     "data": {
      "text/plain": [
       "True"
      ]
     },
     "execution_count": 59,
     "metadata": {},
     "output_type": "execute_result"
    }
   ],
   "source": [
    "'d' in s  # 'in' runs a for loop!"
   ]
  },
  {
   "cell_type": "markdown",
   "metadata": {},
   "source": [
    "# Modules!\n",
    "\n",
    "Remember the \"DRY\" rule?  (\"Don't repeat yourself\")\n",
    "\n",
    "- If you have the same code repeat itself several lines in a row, you can use a loop.\n",
    "- If you have the same code repeat itself several times in a program, you can use a function.\n",
    "- If you have the same code repeat itself across *several programs*, then you can use a *library* or a *module*."
   ]
  },
  {
   "cell_type": "markdown",
   "metadata": {},
   "source": [
    "A module is a collection of:\n",
    "\n",
    "- Functions\n",
    "- Data\n",
    "- Objects (new types of data collected together)\n",
    "\n",
    "By using a module, you can take advantage of code that someone else has written. That \"someone else\" can even a previous you!"
   ]
  },
  {
   "cell_type": "code",
   "execution_count": 60,
   "metadata": {},
   "outputs": [],
   "source": [
    "# How can I use a module?\n",
    "\n",
    "# let's get a random integer\n",
    "# we'll do that with the \"random\" module\n",
    "\n",
    "# we want to create the \"random\" module object in Python\n",
    "# to do that, we ask Python to import random\n",
    "\n",
    "import random  "
   ]
  },
  {
   "cell_type": "code",
   "execution_count": 61,
   "metadata": {},
   "outputs": [
    {
     "data": {
      "text/plain": [
       "100"
      ]
     },
     "execution_count": 61,
     "metadata": {},
     "output_type": "execute_result"
    }
   ],
   "source": [
    "# once we have done that, \"random\" is defined\n",
    "# as a global variable\n",
    "\n",
    "# we can use any functions and data it defined\n",
    "# via \"attributes\" -- the names that come after .\n",
    "\n",
    "random.randint(0,100)  "
   ]
  },
  {
   "cell_type": "code",
   "execution_count": 62,
   "metadata": {},
   "outputs": [
    {
     "data": {
      "text/plain": [
       "15"
      ]
     },
     "execution_count": 62,
     "metadata": {},
     "output_type": "execute_result"
    }
   ],
   "source": [
    "random.randint(0,100)  "
   ]
  },
  {
   "cell_type": "code",
   "execution_count": 63,
   "metadata": {},
   "outputs": [
    {
     "data": {
      "text/plain": [
       "['BPF',\n",
       " 'LOG4',\n",
       " 'NV_MAGICCONST',\n",
       " 'RECIP_BPF',\n",
       " 'Random',\n",
       " 'SG_MAGICCONST',\n",
       " 'SystemRandom',\n",
       " 'TWOPI',\n",
       " '_Sequence',\n",
       " '_Set',\n",
       " '__all__',\n",
       " '__builtins__',\n",
       " '__cached__',\n",
       " '__doc__',\n",
       " '__file__',\n",
       " '__loader__',\n",
       " '__name__',\n",
       " '__package__',\n",
       " '__spec__',\n",
       " '_accumulate',\n",
       " '_acos',\n",
       " '_bisect',\n",
       " '_ceil',\n",
       " '_cos',\n",
       " '_e',\n",
       " '_exp',\n",
       " '_floor',\n",
       " '_inst',\n",
       " '_log',\n",
       " '_os',\n",
       " '_pi',\n",
       " '_random',\n",
       " '_repeat',\n",
       " '_sha512',\n",
       " '_sin',\n",
       " '_sqrt',\n",
       " '_test',\n",
       " '_test_generator',\n",
       " '_urandom',\n",
       " '_warn',\n",
       " 'betavariate',\n",
       " 'choice',\n",
       " 'choices',\n",
       " 'expovariate',\n",
       " 'gammavariate',\n",
       " 'gauss',\n",
       " 'getrandbits',\n",
       " 'getstate',\n",
       " 'lognormvariate',\n",
       " 'normalvariate',\n",
       " 'paretovariate',\n",
       " 'randbytes',\n",
       " 'randint',\n",
       " 'random',\n",
       " 'randrange',\n",
       " 'sample',\n",
       " 'seed',\n",
       " 'setstate',\n",
       " 'shuffle',\n",
       " 'triangular',\n",
       " 'uniform',\n",
       " 'vonmisesvariate',\n",
       " 'weibullvariate']"
      ]
     },
     "execution_count": 63,
     "metadata": {},
     "output_type": "execute_result"
    }
   ],
   "source": [
    "# what names are available for me to use in random?\n",
    "\n",
    "dir(random)  # returns a list of strings "
   ]
  },
  {
   "cell_type": "code",
   "execution_count": 64,
   "metadata": {},
   "outputs": [
    {
     "data": {
      "text/plain": [
       "1.7155277699214135"
      ]
     },
     "execution_count": 64,
     "metadata": {},
     "output_type": "execute_result"
    }
   ],
   "source": [
    "random.NV_MAGICCONST"
   ]
  },
  {
   "cell_type": "code",
   "execution_count": 65,
   "metadata": {
    "collapsed": true
   },
   "outputs": [
    {
     "name": "stdout",
     "output_type": "stream",
     "text": [
      "Help on module random:\n",
      "\n",
      "NAME\n",
      "    random - Random variable generators.\n",
      "\n",
      "DESCRIPTION\n",
      "        bytes\n",
      "        -----\n",
      "               uniform bytes (values between 0 and 255)\n",
      "    \n",
      "        integers\n",
      "        --------\n",
      "               uniform within range\n",
      "    \n",
      "        sequences\n",
      "        ---------\n",
      "               pick random element\n",
      "               pick random sample\n",
      "               pick weighted random sample\n",
      "               generate random permutation\n",
      "    \n",
      "        distributions on the real line:\n",
      "        ------------------------------\n",
      "               uniform\n",
      "               triangular\n",
      "               normal (Gaussian)\n",
      "               lognormal\n",
      "               negative exponential\n",
      "               gamma\n",
      "               beta\n",
      "               pareto\n",
      "               Weibull\n",
      "    \n",
      "        distributions on the circle (angles 0 to 2pi)\n",
      "        ---------------------------------------------\n",
      "               circular uniform\n",
      "               von Mises\n",
      "    \n",
      "    General notes on the underlying Mersenne Twister core generator:\n",
      "    \n",
      "    * The period is 2**19937-1.\n",
      "    * It is one of the most extensively tested generators in existence.\n",
      "    * The random() method is implemented in C, executes in a single Python step,\n",
      "      and is, therefore, threadsafe.\n",
      "\n",
      "CLASSES\n",
      "    _random.Random(builtins.object)\n",
      "        Random\n",
      "            SystemRandom\n",
      "    \n",
      "    class Random(_random.Random)\n",
      "     |  Random(x=None)\n",
      "     |  \n",
      "     |  Random number generator base class used by bound module functions.\n",
      "     |  \n",
      "     |  Used to instantiate instances of Random to get generators that don't\n",
      "     |  share state.\n",
      "     |  \n",
      "     |  Class Random can also be subclassed if you want to use a different basic\n",
      "     |  generator of your own devising: in that case, override the following\n",
      "     |  methods:  random(), seed(), getstate(), and setstate().\n",
      "     |  Optionally, implement a getrandbits() method so that randrange()\n",
      "     |  can cover arbitrarily large ranges.\n",
      "     |  \n",
      "     |  Method resolution order:\n",
      "     |      Random\n",
      "     |      _random.Random\n",
      "     |      builtins.object\n",
      "     |  \n",
      "     |  Methods defined here:\n",
      "     |  \n",
      "     |  __getstate__(self)\n",
      "     |      # Issue 17489: Since __reduce__ was defined to fix #759889 this is no\n",
      "     |      # longer called; we leave it here because it has been here since random was\n",
      "     |      # rewritten back in 2001 and why risk breaking something.\n",
      "     |  \n",
      "     |  __init__(self, x=None)\n",
      "     |      Initialize an instance.\n",
      "     |      \n",
      "     |      Optional argument x controls seeding, as for Random.seed().\n",
      "     |  \n",
      "     |  __reduce__(self)\n",
      "     |      Helper for pickle.\n",
      "     |  \n",
      "     |  __setstate__(self, state)\n",
      "     |  \n",
      "     |  betavariate(self, alpha, beta)\n",
      "     |      Beta distribution.\n",
      "     |      \n",
      "     |      Conditions on the parameters are alpha > 0 and beta > 0.\n",
      "     |      Returned values range between 0 and 1.\n",
      "     |  \n",
      "     |  choice(self, seq)\n",
      "     |      Choose a random element from a non-empty sequence.\n",
      "     |  \n",
      "     |  choices(self, population, weights=None, *, cum_weights=None, k=1)\n",
      "     |      Return a k sized list of population elements chosen with replacement.\n",
      "     |      \n",
      "     |      If the relative weights or cumulative weights are not specified,\n",
      "     |      the selections are made with equal probability.\n",
      "     |  \n",
      "     |  expovariate(self, lambd)\n",
      "     |      Exponential distribution.\n",
      "     |      \n",
      "     |      lambd is 1.0 divided by the desired mean.  It should be\n",
      "     |      nonzero.  (The parameter would be called \"lambda\", but that is\n",
      "     |      a reserved word in Python.)  Returned values range from 0 to\n",
      "     |      positive infinity if lambd is positive, and from negative\n",
      "     |      infinity to 0 if lambd is negative.\n",
      "     |  \n",
      "     |  gammavariate(self, alpha, beta)\n",
      "     |      Gamma distribution.  Not the gamma function!\n",
      "     |      \n",
      "     |      Conditions on the parameters are alpha > 0 and beta > 0.\n",
      "     |      \n",
      "     |      The probability distribution function is:\n",
      "     |      \n",
      "     |                  x ** (alpha - 1) * math.exp(-x / beta)\n",
      "     |        pdf(x) =  --------------------------------------\n",
      "     |                    math.gamma(alpha) * beta ** alpha\n",
      "     |  \n",
      "     |  gauss(self, mu, sigma)\n",
      "     |      Gaussian distribution.\n",
      "     |      \n",
      "     |      mu is the mean, and sigma is the standard deviation.  This is\n",
      "     |      slightly faster than the normalvariate() function.\n",
      "     |      \n",
      "     |      Not thread-safe without a lock around calls.\n",
      "     |  \n",
      "     |  getstate(self)\n",
      "     |      Return internal state; can be passed to setstate() later.\n",
      "     |  \n",
      "     |  lognormvariate(self, mu, sigma)\n",
      "     |      Log normal distribution.\n",
      "     |      \n",
      "     |      If you take the natural logarithm of this distribution, you'll get a\n",
      "     |      normal distribution with mean mu and standard deviation sigma.\n",
      "     |      mu can have any value, and sigma must be greater than zero.\n",
      "     |  \n",
      "     |  normalvariate(self, mu, sigma)\n",
      "     |      Normal distribution.\n",
      "     |      \n",
      "     |      mu is the mean, and sigma is the standard deviation.\n",
      "     |  \n",
      "     |  paretovariate(self, alpha)\n",
      "     |      Pareto distribution.  alpha is the shape parameter.\n",
      "     |  \n",
      "     |  randbytes(self, n)\n",
      "     |      Generate n random bytes.\n",
      "     |  \n",
      "     |  randint(self, a, b)\n",
      "     |      Return random integer in range [a, b], including both end points.\n",
      "     |  \n",
      "     |  randrange(self, start, stop=None, step=1)\n",
      "     |      Choose a random item from range(start, stop[, step]).\n",
      "     |      \n",
      "     |      This fixes the problem with randint() which includes the\n",
      "     |      endpoint; in Python this is usually not what you want.\n",
      "     |  \n",
      "     |  sample(self, population, k, *, counts=None)\n",
      "     |      Chooses k unique random elements from a population sequence or set.\n",
      "     |      \n",
      "     |      Returns a new list containing elements from the population while\n",
      "     |      leaving the original population unchanged.  The resulting list is\n",
      "     |      in selection order so that all sub-slices will also be valid random\n",
      "     |      samples.  This allows raffle winners (the sample) to be partitioned\n",
      "     |      into grand prize and second place winners (the subslices).\n",
      "     |      \n",
      "     |      Members of the population need not be hashable or unique.  If the\n",
      "     |      population contains repeats, then each occurrence is a possible\n",
      "     |      selection in the sample.\n",
      "     |      \n",
      "     |      Repeated elements can be specified one at a time or with the optional\n",
      "     |      counts parameter.  For example:\n",
      "     |      \n",
      "     |          sample(['red', 'blue'], counts=[4, 2], k=5)\n",
      "     |      \n",
      "     |      is equivalent to:\n",
      "     |      \n",
      "     |          sample(['red', 'red', 'red', 'red', 'blue', 'blue'], k=5)\n",
      "     |      \n",
      "     |      To choose a sample from a range of integers, use range() for the\n",
      "     |      population argument.  This is especially fast and space efficient\n",
      "     |      for sampling from a large population:\n",
      "     |      \n",
      "     |          sample(range(10000000), 60)\n",
      "     |  \n",
      "     |  seed(self, a=None, version=2)\n",
      "     |      Initialize internal state from a seed.\n",
      "     |      \n",
      "     |      The only supported seed types are None, int, float,\n",
      "     |      str, bytes, and bytearray.\n",
      "     |      \n",
      "     |      None or no argument seeds from current time or from an operating\n",
      "     |      system specific randomness source if available.\n",
      "     |      \n",
      "     |      If *a* is an int, all bits are used.\n",
      "     |      \n",
      "     |      For version 2 (the default), all of the bits are used if *a* is a str,\n",
      "     |      bytes, or bytearray.  For version 1 (provided for reproducing random\n",
      "     |      sequences from older versions of Python), the algorithm for str and\n",
      "     |      bytes generates a narrower range of seeds.\n",
      "     |  \n",
      "     |  setstate(self, state)\n",
      "     |      Restore internal state from object returned by getstate().\n",
      "     |  \n",
      "     |  shuffle(self, x, random=None)\n",
      "     |      Shuffle list x in place, and return None.\n",
      "     |      \n",
      "     |      Optional argument random is a 0-argument function returning a\n",
      "     |      random float in [0.0, 1.0); if it is the default None, the\n",
      "     |      standard random.random will be used.\n",
      "     |  \n",
      "     |  triangular(self, low=0.0, high=1.0, mode=None)\n",
      "     |      Triangular distribution.\n",
      "     |      \n",
      "     |      Continuous distribution bounded by given lower and upper limits,\n",
      "     |      and having a given mode value in-between.\n",
      "     |      \n",
      "     |      http://en.wikipedia.org/wiki/Triangular_distribution\n",
      "     |  \n",
      "     |  uniform(self, a, b)\n",
      "     |      Get a random number in the range [a, b) or [a, b] depending on rounding.\n",
      "     |  \n",
      "     |  vonmisesvariate(self, mu, kappa)\n",
      "     |      Circular data distribution.\n",
      "     |      \n",
      "     |      mu is the mean angle, expressed in radians between 0 and 2*pi, and\n",
      "     |      kappa is the concentration parameter, which must be greater than or\n",
      "     |      equal to zero.  If kappa is equal to zero, this distribution reduces\n",
      "     |      to a uniform random angle over the range 0 to 2*pi.\n",
      "     |  \n",
      "     |  weibullvariate(self, alpha, beta)\n",
      "     |      Weibull distribution.\n",
      "     |      \n",
      "     |      alpha is the scale parameter and beta is the shape parameter.\n",
      "     |  \n",
      "     |  ----------------------------------------------------------------------\n",
      "     |  Class methods defined here:\n",
      "     |  \n",
      "     |  __init_subclass__(**kwargs) from builtins.type\n",
      "     |      Control how subclasses generate random integers.\n",
      "     |      \n",
      "     |      The algorithm a subclass can use depends on the random() and/or\n",
      "     |      getrandbits() implementation available to it and determines\n",
      "     |      whether it can generate random integers from arbitrarily large\n",
      "     |      ranges.\n",
      "     |  \n",
      "     |  ----------------------------------------------------------------------\n",
      "     |  Data descriptors defined here:\n",
      "     |  \n",
      "     |  __dict__\n",
      "     |      dictionary for instance variables (if defined)\n",
      "     |  \n",
      "     |  __weakref__\n",
      "     |      list of weak references to the object (if defined)\n",
      "     |  \n",
      "     |  ----------------------------------------------------------------------\n",
      "     |  Data and other attributes defined here:\n",
      "     |  \n",
      "     |  VERSION = 3\n",
      "     |  \n",
      "     |  ----------------------------------------------------------------------\n",
      "     |  Methods inherited from _random.Random:\n",
      "     |  \n",
      "     |  getrandbits(self, k, /)\n",
      "     |      getrandbits(k) -> x.  Generates an int with k random bits.\n",
      "     |  \n",
      "     |  random(self, /)\n",
      "     |      random() -> x in the interval [0, 1).\n",
      "     |  \n",
      "     |  ----------------------------------------------------------------------\n",
      "     |  Static methods inherited from _random.Random:\n",
      "     |  \n",
      "     |  __new__(*args, **kwargs) from builtins.type\n",
      "     |      Create and return a new object.  See help(type) for accurate signature.\n",
      "    \n",
      "    class SystemRandom(Random)\n",
      "     |  SystemRandom(x=None)\n",
      "     |  \n",
      "     |  Alternate random number generator using sources provided\n",
      "     |  by the operating system (such as /dev/urandom on Unix or\n",
      "     |  CryptGenRandom on Windows).\n",
      "     |  \n",
      "     |   Not available on all systems (see os.urandom() for details).\n",
      "     |  \n",
      "     |  Method resolution order:\n",
      "     |      SystemRandom\n",
      "     |      Random\n",
      "     |      _random.Random\n",
      "     |      builtins.object\n",
      "     |  \n",
      "     |  Methods defined here:\n",
      "     |  \n",
      "     |  getrandbits(self, k)\n",
      "     |      getrandbits(k) -> x.  Generates an int with k random bits.\n",
      "     |  \n",
      "     |  getstate = _notimplemented(self, *args, **kwds)\n",
      "     |  \n",
      "     |  randbytes(self, n)\n",
      "     |      Generate n random bytes.\n",
      "     |  \n",
      "     |  random(self)\n",
      "     |      Get the next random number in the range [0.0, 1.0).\n",
      "     |  \n",
      "     |  seed(self, *args, **kwds)\n",
      "     |      Stub method.  Not used for a system random number generator.\n",
      "     |  \n",
      "     |  setstate = _notimplemented(self, *args, **kwds)\n",
      "     |  \n",
      "     |  ----------------------------------------------------------------------\n",
      "     |  Methods inherited from Random:\n",
      "     |  \n",
      "     |  __getstate__(self)\n",
      "     |      # Issue 17489: Since __reduce__ was defined to fix #759889 this is no\n",
      "     |      # longer called; we leave it here because it has been here since random was\n",
      "     |      # rewritten back in 2001 and why risk breaking something.\n",
      "     |  \n",
      "     |  __init__(self, x=None)\n",
      "     |      Initialize an instance.\n",
      "     |      \n",
      "     |      Optional argument x controls seeding, as for Random.seed().\n",
      "     |  \n",
      "     |  __reduce__(self)\n",
      "     |      Helper for pickle.\n",
      "     |  \n",
      "     |  __setstate__(self, state)\n",
      "     |  \n",
      "     |  betavariate(self, alpha, beta)\n",
      "     |      Beta distribution.\n",
      "     |      \n",
      "     |      Conditions on the parameters are alpha > 0 and beta > 0.\n",
      "     |      Returned values range between 0 and 1.\n",
      "     |  \n",
      "     |  choice(self, seq)\n",
      "     |      Choose a random element from a non-empty sequence.\n",
      "     |  \n",
      "     |  choices(self, population, weights=None, *, cum_weights=None, k=1)\n",
      "     |      Return a k sized list of population elements chosen with replacement.\n",
      "     |      \n",
      "     |      If the relative weights or cumulative weights are not specified,\n",
      "     |      the selections are made with equal probability.\n",
      "     |  \n",
      "     |  expovariate(self, lambd)\n",
      "     |      Exponential distribution.\n",
      "     |      \n",
      "     |      lambd is 1.0 divided by the desired mean.  It should be\n",
      "     |      nonzero.  (The parameter would be called \"lambda\", but that is\n",
      "     |      a reserved word in Python.)  Returned values range from 0 to\n",
      "     |      positive infinity if lambd is positive, and from negative\n",
      "     |      infinity to 0 if lambd is negative.\n",
      "     |  \n",
      "     |  gammavariate(self, alpha, beta)\n",
      "     |      Gamma distribution.  Not the gamma function!\n",
      "     |      \n",
      "     |      Conditions on the parameters are alpha > 0 and beta > 0.\n",
      "     |      \n",
      "     |      The probability distribution function is:\n",
      "     |      \n",
      "     |                  x ** (alpha - 1) * math.exp(-x / beta)\n",
      "     |        pdf(x) =  --------------------------------------\n",
      "     |                    math.gamma(alpha) * beta ** alpha\n",
      "     |  \n",
      "     |  gauss(self, mu, sigma)\n",
      "     |      Gaussian distribution.\n",
      "     |      \n",
      "     |      mu is the mean, and sigma is the standard deviation.  This is\n",
      "     |      slightly faster than the normalvariate() function.\n",
      "     |      \n",
      "     |      Not thread-safe without a lock around calls.\n",
      "     |  \n",
      "     |  lognormvariate(self, mu, sigma)\n",
      "     |      Log normal distribution.\n",
      "     |      \n",
      "     |      If you take the natural logarithm of this distribution, you'll get a\n",
      "     |      normal distribution with mean mu and standard deviation sigma.\n",
      "     |      mu can have any value, and sigma must be greater than zero.\n",
      "     |  \n",
      "     |  normalvariate(self, mu, sigma)\n",
      "     |      Normal distribution.\n",
      "     |      \n",
      "     |      mu is the mean, and sigma is the standard deviation.\n",
      "     |  \n",
      "     |  paretovariate(self, alpha)\n",
      "     |      Pareto distribution.  alpha is the shape parameter.\n",
      "     |  \n",
      "     |  randint(self, a, b)\n",
      "     |      Return random integer in range [a, b], including both end points.\n",
      "     |  \n",
      "     |  randrange(self, start, stop=None, step=1)\n",
      "     |      Choose a random item from range(start, stop[, step]).\n",
      "     |      \n",
      "     |      This fixes the problem with randint() which includes the\n",
      "     |      endpoint; in Python this is usually not what you want.\n",
      "     |  \n",
      "     |  sample(self, population, k, *, counts=None)\n",
      "     |      Chooses k unique random elements from a population sequence or set.\n",
      "     |      \n",
      "     |      Returns a new list containing elements from the population while\n",
      "     |      leaving the original population unchanged.  The resulting list is\n",
      "     |      in selection order so that all sub-slices will also be valid random\n",
      "     |      samples.  This allows raffle winners (the sample) to be partitioned\n",
      "     |      into grand prize and second place winners (the subslices).\n",
      "     |      \n",
      "     |      Members of the population need not be hashable or unique.  If the\n",
      "     |      population contains repeats, then each occurrence is a possible\n",
      "     |      selection in the sample.\n",
      "     |      \n",
      "     |      Repeated elements can be specified one at a time or with the optional\n",
      "     |      counts parameter.  For example:\n",
      "     |      \n",
      "     |          sample(['red', 'blue'], counts=[4, 2], k=5)\n",
      "     |      \n",
      "     |      is equivalent to:\n",
      "     |      \n",
      "     |          sample(['red', 'red', 'red', 'red', 'blue', 'blue'], k=5)\n",
      "     |      \n",
      "     |      To choose a sample from a range of integers, use range() for the\n",
      "     |      population argument.  This is especially fast and space efficient\n",
      "     |      for sampling from a large population:\n",
      "     |      \n",
      "     |          sample(range(10000000), 60)\n",
      "     |  \n",
      "     |  shuffle(self, x, random=None)\n",
      "     |      Shuffle list x in place, and return None.\n",
      "     |      \n",
      "     |      Optional argument random is a 0-argument function returning a\n",
      "     |      random float in [0.0, 1.0); if it is the default None, the\n",
      "     |      standard random.random will be used.\n",
      "     |  \n",
      "     |  triangular(self, low=0.0, high=1.0, mode=None)\n",
      "     |      Triangular distribution.\n",
      "     |      \n",
      "     |      Continuous distribution bounded by given lower and upper limits,\n",
      "     |      and having a given mode value in-between.\n",
      "     |      \n",
      "     |      http://en.wikipedia.org/wiki/Triangular_distribution\n",
      "     |  \n",
      "     |  uniform(self, a, b)\n",
      "     |      Get a random number in the range [a, b) or [a, b] depending on rounding.\n",
      "     |  \n",
      "     |  vonmisesvariate(self, mu, kappa)\n",
      "     |      Circular data distribution.\n",
      "     |      \n",
      "     |      mu is the mean angle, expressed in radians between 0 and 2*pi, and\n",
      "     |      kappa is the concentration parameter, which must be greater than or\n",
      "     |      equal to zero.  If kappa is equal to zero, this distribution reduces\n",
      "     |      to a uniform random angle over the range 0 to 2*pi.\n",
      "     |  \n",
      "     |  weibullvariate(self, alpha, beta)\n",
      "     |      Weibull distribution.\n",
      "     |      \n",
      "     |      alpha is the scale parameter and beta is the shape parameter.\n",
      "     |  \n",
      "     |  ----------------------------------------------------------------------\n",
      "     |  Class methods inherited from Random:\n",
      "     |  \n",
      "     |  __init_subclass__(**kwargs) from builtins.type\n",
      "     |      Control how subclasses generate random integers.\n",
      "     |      \n",
      "     |      The algorithm a subclass can use depends on the random() and/or\n",
      "     |      getrandbits() implementation available to it and determines\n",
      "     |      whether it can generate random integers from arbitrarily large\n",
      "     |      ranges.\n",
      "     |  \n",
      "     |  ----------------------------------------------------------------------\n",
      "     |  Data descriptors inherited from Random:\n",
      "     |  \n",
      "     |  __dict__\n",
      "     |      dictionary for instance variables (if defined)\n",
      "     |  \n",
      "     |  __weakref__\n",
      "     |      list of weak references to the object (if defined)\n",
      "     |  \n",
      "     |  ----------------------------------------------------------------------\n",
      "     |  Data and other attributes inherited from Random:\n",
      "     |  \n",
      "     |  VERSION = 3\n",
      "     |  \n",
      "     |  ----------------------------------------------------------------------\n",
      "     |  Static methods inherited from _random.Random:\n",
      "     |  \n",
      "     |  __new__(*args, **kwargs) from builtins.type\n",
      "     |      Create and return a new object.  See help(type) for accurate signature.\n",
      "\n",
      "FUNCTIONS\n",
      "    betavariate(alpha, beta) method of Random instance\n",
      "        Beta distribution.\n",
      "        \n",
      "        Conditions on the parameters are alpha > 0 and beta > 0.\n",
      "        Returned values range between 0 and 1.\n",
      "    \n",
      "    choice(seq) method of Random instance\n",
      "        Choose a random element from a non-empty sequence.\n",
      "    \n",
      "    choices(population, weights=None, *, cum_weights=None, k=1) method of Random instance\n",
      "        Return a k sized list of population elements chosen with replacement.\n",
      "        \n",
      "        If the relative weights or cumulative weights are not specified,\n",
      "        the selections are made with equal probability.\n",
      "    \n",
      "    expovariate(lambd) method of Random instance\n",
      "        Exponential distribution.\n",
      "        \n",
      "        lambd is 1.0 divided by the desired mean.  It should be\n",
      "        nonzero.  (The parameter would be called \"lambda\", but that is\n",
      "        a reserved word in Python.)  Returned values range from 0 to\n",
      "        positive infinity if lambd is positive, and from negative\n",
      "        infinity to 0 if lambd is negative.\n",
      "    \n",
      "    gammavariate(alpha, beta) method of Random instance\n",
      "        Gamma distribution.  Not the gamma function!\n",
      "        \n",
      "        Conditions on the parameters are alpha > 0 and beta > 0.\n",
      "        \n",
      "        The probability distribution function is:\n",
      "        \n",
      "                    x ** (alpha - 1) * math.exp(-x / beta)\n",
      "          pdf(x) =  --------------------------------------\n",
      "                      math.gamma(alpha) * beta ** alpha\n",
      "    \n",
      "    gauss(mu, sigma) method of Random instance\n",
      "        Gaussian distribution.\n",
      "        \n",
      "        mu is the mean, and sigma is the standard deviation.  This is\n",
      "        slightly faster than the normalvariate() function.\n",
      "        \n",
      "        Not thread-safe without a lock around calls.\n",
      "    \n",
      "    getrandbits(k, /) method of Random instance\n",
      "        getrandbits(k) -> x.  Generates an int with k random bits.\n",
      "    \n",
      "    getstate() method of Random instance\n",
      "        Return internal state; can be passed to setstate() later.\n",
      "    \n",
      "    lognormvariate(mu, sigma) method of Random instance\n",
      "        Log normal distribution.\n",
      "        \n",
      "        If you take the natural logarithm of this distribution, you'll get a\n",
      "        normal distribution with mean mu and standard deviation sigma.\n",
      "        mu can have any value, and sigma must be greater than zero.\n",
      "    \n",
      "    normalvariate(mu, sigma) method of Random instance\n",
      "        Normal distribution.\n",
      "        \n",
      "        mu is the mean, and sigma is the standard deviation.\n",
      "    \n",
      "    paretovariate(alpha) method of Random instance\n",
      "        Pareto distribution.  alpha is the shape parameter.\n",
      "    \n",
      "    randbytes(n) method of Random instance\n",
      "        Generate n random bytes.\n",
      "    \n",
      "    randint(a, b) method of Random instance\n",
      "        Return random integer in range [a, b], including both end points.\n",
      "    \n",
      "    random() method of Random instance\n",
      "        random() -> x in the interval [0, 1).\n",
      "    \n",
      "    randrange(start, stop=None, step=1) method of Random instance\n",
      "        Choose a random item from range(start, stop[, step]).\n",
      "        \n",
      "        This fixes the problem with randint() which includes the\n",
      "        endpoint; in Python this is usually not what you want.\n",
      "    \n",
      "    sample(population, k, *, counts=None) method of Random instance\n",
      "        Chooses k unique random elements from a population sequence or set.\n",
      "        \n",
      "        Returns a new list containing elements from the population while\n",
      "        leaving the original population unchanged.  The resulting list is\n",
      "        in selection order so that all sub-slices will also be valid random\n",
      "        samples.  This allows raffle winners (the sample) to be partitioned\n",
      "        into grand prize and second place winners (the subslices).\n",
      "        \n",
      "        Members of the population need not be hashable or unique.  If the\n",
      "        population contains repeats, then each occurrence is a possible\n",
      "        selection in the sample.\n",
      "        \n",
      "        Repeated elements can be specified one at a time or with the optional\n",
      "        counts parameter.  For example:\n",
      "        \n",
      "            sample(['red', 'blue'], counts=[4, 2], k=5)\n",
      "        \n",
      "        is equivalent to:\n",
      "        \n",
      "            sample(['red', 'red', 'red', 'red', 'blue', 'blue'], k=5)\n",
      "        \n",
      "        To choose a sample from a range of integers, use range() for the\n",
      "        population argument.  This is especially fast and space efficient\n",
      "        for sampling from a large population:\n",
      "        \n",
      "            sample(range(10000000), 60)\n",
      "    \n",
      "    seed(a=None, version=2) method of Random instance\n",
      "        Initialize internal state from a seed.\n",
      "        \n",
      "        The only supported seed types are None, int, float,\n",
      "        str, bytes, and bytearray.\n",
      "        \n",
      "        None or no argument seeds from current time or from an operating\n",
      "        system specific randomness source if available.\n",
      "        \n",
      "        If *a* is an int, all bits are used.\n",
      "        \n",
      "        For version 2 (the default), all of the bits are used if *a* is a str,\n",
      "        bytes, or bytearray.  For version 1 (provided for reproducing random\n",
      "        sequences from older versions of Python), the algorithm for str and\n",
      "        bytes generates a narrower range of seeds.\n",
      "    \n",
      "    setstate(state) method of Random instance\n",
      "        Restore internal state from object returned by getstate().\n",
      "    \n",
      "    shuffle(x, random=None) method of Random instance\n",
      "        Shuffle list x in place, and return None.\n",
      "        \n",
      "        Optional argument random is a 0-argument function returning a\n",
      "        random float in [0.0, 1.0); if it is the default None, the\n",
      "        standard random.random will be used.\n",
      "    \n",
      "    triangular(low=0.0, high=1.0, mode=None) method of Random instance\n",
      "        Triangular distribution.\n",
      "        \n",
      "        Continuous distribution bounded by given lower and upper limits,\n",
      "        and having a given mode value in-between.\n",
      "        \n",
      "        http://en.wikipedia.org/wiki/Triangular_distribution\n",
      "    \n",
      "    uniform(a, b) method of Random instance\n",
      "        Get a random number in the range [a, b) or [a, b] depending on rounding.\n",
      "    \n",
      "    vonmisesvariate(mu, kappa) method of Random instance\n",
      "        Circular data distribution.\n",
      "        \n",
      "        mu is the mean angle, expressed in radians between 0 and 2*pi, and\n",
      "        kappa is the concentration parameter, which must be greater than or\n",
      "        equal to zero.  If kappa is equal to zero, this distribution reduces\n",
      "        to a uniform random angle over the range 0 to 2*pi.\n",
      "    \n",
      "    weibullvariate(alpha, beta) method of Random instance\n",
      "        Weibull distribution.\n",
      "        \n",
      "        alpha is the scale parameter and beta is the shape parameter.\n",
      "\n",
      "DATA\n",
      "    __all__ = ['Random', 'SystemRandom', 'betavariate', 'choice', 'choices...\n",
      "\n",
      "FILE\n",
      "    /usr/local/Cellar/python@3.9/3.9.5/Frameworks/Python.framework/Versions/3.9/lib/python3.9/random.py\n",
      "\n",
      "\n"
     ]
    }
   ],
   "source": [
    "# one way to learn about a module is the \"help\" function\n",
    "help(random)"
   ]
  },
  {
   "cell_type": "code",
   "execution_count": 66,
   "metadata": {},
   "outputs": [],
   "source": [
    "# more aesthetically pleasing: Python documentation site\n",
    "\n",
    "# Python comes with the \"standard library\"\n",
    "# that's a bunch of modules that every installation of Python\n",
    "# is guaranteed to have"
   ]
  },
  {
   "cell_type": "code",
   "execution_count": 67,
   "metadata": {},
   "outputs": [
    {
     "data": {
      "text/plain": [
       "30"
      ]
     },
     "execution_count": 67,
     "metadata": {},
     "output_type": "execute_result"
    }
   ],
   "source": [
    "random.randint(0, 50)"
   ]
  },
  {
   "cell_type": "code",
   "execution_count": 68,
   "metadata": {},
   "outputs": [
    {
     "data": {
      "text/plain": [
       "20"
      ]
     },
     "execution_count": 68,
     "metadata": {},
     "output_type": "execute_result"
    }
   ],
   "source": [
    "random.randint(15, 20)"
   ]
  },
  {
   "cell_type": "code",
   "execution_count": 69,
   "metadata": {},
   "outputs": [
    {
     "data": {
      "text/plain": [
       "15"
      ]
     },
     "execution_count": 69,
     "metadata": {},
     "output_type": "execute_result"
    }
   ],
   "source": [
    "random.randint(-100, 100)"
   ]
  },
  {
   "cell_type": "code",
   "execution_count": 70,
   "metadata": {},
   "outputs": [
    {
     "ename": "NameError",
     "evalue": "name 'randint' is not defined",
     "output_type": "error",
     "traceback": [
      "\u001b[0;31m---------------------------------------------------------------------------\u001b[0m",
      "\u001b[0;31mNameError\u001b[0m                                 Traceback (most recent call last)",
      "\u001b[0;32m<ipython-input-70-3ffe694c3481>\u001b[0m in \u001b[0;36m<module>\u001b[0;34m\u001b[0m\n\u001b[1;32m      1\u001b[0m \u001b[0;31m# what if I just type \"randint\"?\u001b[0m\u001b[0;34m\u001b[0m\u001b[0;34m\u001b[0m\u001b[0;34m\u001b[0m\u001b[0m\n\u001b[0;32m----> 2\u001b[0;31m \u001b[0mrandint\u001b[0m\u001b[0;34m(\u001b[0m\u001b[0;36m100\u001b[0m\u001b[0;34m,\u001b[0m \u001b[0;36m200\u001b[0m\u001b[0;34m)\u001b[0m\u001b[0;34m\u001b[0m\u001b[0;34m\u001b[0m\u001b[0m\n\u001b[0m",
      "\u001b[0;31mNameError\u001b[0m: name 'randint' is not defined"
     ]
    }
   ],
   "source": [
    "# what if I just type \"randint\"?\n",
    "randint(100, 200)  # we're not in a function, so it looks in globals -> builtins"
   ]
  },
  {
   "cell_type": "code",
   "execution_count": 72,
   "metadata": {
    "collapsed": true
   },
   "outputs": [
    {
     "ename": "ValueError",
     "evalue": "empty range for randrange() (200, 101, -99)",
     "output_type": "error",
     "traceback": [
      "\u001b[0;31m---------------------------------------------------------------------------\u001b[0m",
      "\u001b[0;31mValueError\u001b[0m                                Traceback (most recent call last)",
      "\u001b[0;32m<ipython-input-72-b5ee4b6ea1fb>\u001b[0m in \u001b[0;36m<module>\u001b[0;34m\u001b[0m\n\u001b[0;32m----> 1\u001b[0;31m \u001b[0mrandom\u001b[0m\u001b[0;34m.\u001b[0m\u001b[0mrandint\u001b[0m\u001b[0;34m(\u001b[0m\u001b[0;36m200\u001b[0m\u001b[0;34m,\u001b[0m \u001b[0;36m100\u001b[0m\u001b[0;34m)\u001b[0m\u001b[0;34m\u001b[0m\u001b[0;34m\u001b[0m\u001b[0m\n\u001b[0m",
      "\u001b[0;32m/usr/local/Cellar/python@3.9/3.9.5/Frameworks/Python.framework/Versions/3.9/lib/python3.9/random.py\u001b[0m in \u001b[0;36mrandint\u001b[0;34m(self, a, b)\u001b[0m\n\u001b[1;32m    337\u001b[0m         \"\"\"\n\u001b[1;32m    338\u001b[0m \u001b[0;34m\u001b[0m\u001b[0m\n\u001b[0;32m--> 339\u001b[0;31m         \u001b[0;32mreturn\u001b[0m \u001b[0mself\u001b[0m\u001b[0;34m.\u001b[0m\u001b[0mrandrange\u001b[0m\u001b[0;34m(\u001b[0m\u001b[0ma\u001b[0m\u001b[0;34m,\u001b[0m \u001b[0mb\u001b[0m\u001b[0;34m+\u001b[0m\u001b[0;36m1\u001b[0m\u001b[0;34m)\u001b[0m\u001b[0;34m\u001b[0m\u001b[0;34m\u001b[0m\u001b[0m\n\u001b[0m\u001b[1;32m    340\u001b[0m \u001b[0;34m\u001b[0m\u001b[0m\n\u001b[1;32m    341\u001b[0m \u001b[0;34m\u001b[0m\u001b[0m\n",
      "\u001b[0;32m/usr/local/Cellar/python@3.9/3.9.5/Frameworks/Python.framework/Versions/3.9/lib/python3.9/random.py\u001b[0m in \u001b[0;36mrandrange\u001b[0;34m(self, start, stop, step)\u001b[0m\n\u001b[1;32m    315\u001b[0m             \u001b[0;32mreturn\u001b[0m \u001b[0mistart\u001b[0m \u001b[0;34m+\u001b[0m \u001b[0mself\u001b[0m\u001b[0;34m.\u001b[0m\u001b[0m_randbelow\u001b[0m\u001b[0;34m(\u001b[0m\u001b[0mwidth\u001b[0m\u001b[0;34m)\u001b[0m\u001b[0;34m\u001b[0m\u001b[0;34m\u001b[0m\u001b[0m\n\u001b[1;32m    316\u001b[0m         \u001b[0;32mif\u001b[0m \u001b[0mstep\u001b[0m \u001b[0;34m==\u001b[0m \u001b[0;36m1\u001b[0m\u001b[0;34m:\u001b[0m\u001b[0;34m\u001b[0m\u001b[0;34m\u001b[0m\u001b[0m\n\u001b[0;32m--> 317\u001b[0;31m             \u001b[0;32mraise\u001b[0m \u001b[0mValueError\u001b[0m\u001b[0;34m(\u001b[0m\u001b[0;34m\"empty range for randrange() (%d, %d, %d)\"\u001b[0m \u001b[0;34m%\u001b[0m \u001b[0;34m(\u001b[0m\u001b[0mistart\u001b[0m\u001b[0;34m,\u001b[0m \u001b[0mistop\u001b[0m\u001b[0;34m,\u001b[0m \u001b[0mwidth\u001b[0m\u001b[0;34m)\u001b[0m\u001b[0;34m)\u001b[0m\u001b[0;34m\u001b[0m\u001b[0;34m\u001b[0m\u001b[0m\n\u001b[0m\u001b[1;32m    318\u001b[0m \u001b[0;34m\u001b[0m\u001b[0m\n\u001b[1;32m    319\u001b[0m         \u001b[0;31m# Non-unit step argument supplied.\u001b[0m\u001b[0;34m\u001b[0m\u001b[0;34m\u001b[0m\u001b[0;34m\u001b[0m\u001b[0m\n",
      "\u001b[0;31mValueError\u001b[0m: empty range for randrange() (200, 101, -99)"
     ]
    }
   ],
   "source": [
    "random.randint(200, 100)"
   ]
  },
  {
   "cell_type": "code",
   "execution_count": 73,
   "metadata": {},
   "outputs": [],
   "source": [
    "# I want to use randint, but I want to have it as a \n",
    "# global variable, not an attribute on the \"random\" global variable.\n",
    "\n",
    "# alternative syntax\n",
    "# this defines \"randint\" as a global variable,\n",
    "# equivalent to random.randint\n",
    "\n",
    "# if you don't use \"import random\", then \"from random import randint\"\n",
    "# will work, will load the \"random\" module into memory, and will *NOT*\n",
    "# define the \"random\" global variable\n",
    "from random import randint"
   ]
  },
  {
   "cell_type": "code",
   "execution_count": 74,
   "metadata": {},
   "outputs": [
    {
     "data": {
      "text/plain": [
       "9"
      ]
     },
     "execution_count": 74,
     "metadata": {},
     "output_type": "execute_result"
    }
   ],
   "source": [
    "randint(5, 10)"
   ]
  },
  {
   "cell_type": "code",
   "execution_count": 75,
   "metadata": {},
   "outputs": [
    {
     "data": {
      "text/plain": [
       "18"
      ]
     },
     "execution_count": 75,
     "metadata": {},
     "output_type": "execute_result"
    }
   ],
   "source": [
    "# other alternative syntax\n",
    "\n",
    "import random as r  # this means: define the variable 'r', not 'random'\n",
    "r.randint(1, 20)"
   ]
  },
  {
   "cell_type": "code",
   "execution_count": 76,
   "metadata": {},
   "outputs": [],
   "source": [
    "# from-import with namespace collision avoidance!\n",
    "from random import randint as ri"
   ]
  },
  {
   "cell_type": "code",
   "execution_count": 77,
   "metadata": {},
   "outputs": [
    {
     "data": {
      "text/plain": [
       "5"
      ]
     },
     "execution_count": 77,
     "metadata": {},
     "output_type": "execute_result"
    }
   ],
   "source": [
    "ri(3, 10)"
   ]
  },
  {
   "cell_type": "code",
   "execution_count": 79,
   "metadata": {},
   "outputs": [],
   "source": [
    "# Never ever ever ever do this!\n",
    "from random import *\n",
    "\n",
    "# this means: take every name defined in the \"random\" module\n",
    "# define it as a global variable in my current Python program\n",
    "\n",
    "# can be very useful... but it's a recipe for disaster\n",
    "# do you know what names each module will define next year?"
   ]
  },
  {
   "cell_type": "code",
   "execution_count": 82,
   "metadata": {},
   "outputs": [],
   "source": [
    "# when you open a file for writing, if you leave out /, you write\n",
    "# to the current directory\n",
    "\n",
    "# if you *start* with /, then the path is absolute, from the top of\n",
    "# the filesystem\n",
    "\n",
    "# if include /, but not start with it, the path is relative to the\n",
    "# current directory, where your program is running.\n",
    "\n",
    "with open('/tmp/foo.txt', 'w') as f:\n",
    "    f.write('abcde\\n')"
   ]
  },
  {
   "cell_type": "code",
   "execution_count": null,
   "metadata": {},
   "outputs": [],
   "source": []
  },
  {
   "cell_type": "markdown",
   "metadata": {},
   "source": [
    "# Exercise: Directory listing\n",
    "\n",
    "1. Ask the user to enter the name of a directory.\n",
    "2. Run the `os.listdir` function (in the `os` module) to get a list of files in that directory. The function takes a directory name (as a string) as input. \n",
    "3. If you give a bad directory name, it's OK if the program blows up.\n",
    "\n",
    "Call this function `ls`\n",
    "\n",
    "Example:\n",
    "\n",
    "```\n",
    "Enter directory name: /etc/\n",
    "In /etc/, we have:\n",
    "   passwd\n",
    "   hello\n",
    "   confi\n",
    "```       "
   ]
  },
  {
   "cell_type": "markdown",
   "metadata": {},
   "source": [
    "When I say `import random`, I'm doing two things:\n",
    "\n",
    "1. Loading the `random` module into Python's memory from disk\n",
    "2. I'm defining a new global variable, `random`, whose value is that module we just loaded."
   ]
  },
  {
   "cell_type": "code",
   "execution_count": 84,
   "metadata": {
    "collapsed": true
   },
   "outputs": [
    {
     "name": "stdout",
     "output_type": "stream",
     "text": [
      "Enter directory name: /etc/\n",
      "emond.d\n",
      "xinetd.d-migrated2launchd\n",
      "ssh_config.system_default\n",
      "ssh_config.applesaved\n",
      "periodic\n",
      "manpaths\n",
      "services~previous\n",
      "rc.common\n",
      "csh.logout~orig\n",
      "auto_master\n",
      "php.ini.default-5.2-previous~orig\n",
      "csh.login\n",
      "syslog.conf\n",
      "rtadvd.conf~previous\n",
      "syslog.conf~previous\n",
      "krb5.keytab\n",
      "sudoers.d\n",
      "bash_completion.d\n",
      "ssl\n",
      "kern_loader.conf.applesaved\n",
      "nanorc\n",
      "ttys~previous\n",
      "csh.logout\n",
      "aliases.db\n",
      "hosts.lpd\n",
      "bashrc_Apple_Terminal\n",
      "racoon\n",
      "snmp\n",
      "zshrc_Apple_Terminal\n",
      "named.conf.applesaved\n",
      "gettytab\n",
      "master.passwd~orig\n",
      "kern_loader.conf\n",
      "authorization.user_modified\n",
      "networks~orig\n",
      "paths.d\n",
      "asl\n",
      "csh.login~orig\n",
      "rtadvd.conf\n",
      "security\n",
      "protocols~previous\n",
      "group\n",
      "printcap\n",
      "auto_home\n",
      "php.ini.default-previous\n",
      "sudoers~\n",
      "manpaths.d\n",
      "smb.conf.applesaved\n",
      "ppp\n",
      "shells\n",
      "pear.conf-previous\n",
      "crontab\n",
      "slpsa.conf.applesaved\n",
      "rc.common~previous\n",
      "xinetd.d\n",
      "ttys\n",
      "php-fpm.d\n",
      "group~previous\n",
      "php-fpm.conf.default\n",
      "paths\n",
      "rmtab\n",
      "csh.cshrc~orig\n",
      "inetd.conf.applesaved\n",
      "xtab\n",
      "php.ini.default\n",
      "php-NOTICE-PLANNED-REMOVAL.txt\n",
      "syslog.conf.applesaved\n",
      "localtime\n",
      "pf.conf\n",
      "6to4.conf.applesaved\n",
      "CiscoSystemsVPNClient\n",
      "launchd.conf\n",
      "sudoers\n",
      "ftpusers~orig\n",
      "bashrc\n",
      "find.codes~orig\n",
      "auto_master~orig\n",
      "newsyslog.d\n",
      "emacs\n",
      "irbrc\n",
      "pam.d\n",
      "zshrc\n",
      "defaults\n",
      "hosts.equiv\n",
      "networks\n",
      "find.codes\n",
      "rpc~previous\n",
      "apache2\n",
      "autofs.conf\n",
      "ssh\n",
      "ftpusers\n",
      "postgres-reg.ini\n",
      "slpsa.conf\n",
      "profile\n",
      "csh.cshrc\n",
      "fstab.hd~previous\n",
      "ntp.conf.applesaved\n",
      "ntp_opendirectory.conf\n",
      "ssh_config~orig\n",
      "profile~orig\n",
      "authorization.deprecated\n",
      "locate.rc\n",
      "resolv.conf\n",
      "nfs.conf\n",
      "crontab.applesaved\n",
      "dictionaries-common\n",
      "sudoers~orig\n",
      "sudo_lecture\n",
      "asl.conf\n",
      "ttys.applesaved\n",
      "moduli~previous\n",
      "rc.netboot\n",
      "X11\n",
      "afpovertcp.cfg~orig\n",
      "hosts~orig\n",
      "fstab\n",
      "opt\n",
      "nfs.conf~orig\n",
      "hostconfig\n",
      "smb.conf.old\n",
      "kern_loader.conf~previous\n",
      "xinetd.conf.applesaved\n",
      "rtadvd.conf.applesaved\n",
      "sshd_config.system_default\n",
      "hosts\n",
      "efax.rc~previous\n",
      "postfix\n",
      "pf.os\n",
      "pf.anchors\n",
      "php.ini.default-previous~orig\n",
      "ntp.conf\n",
      "php.ini.default-5.2-previous\n",
      "gettytab~orig\n",
      "passwd~orig\n",
      "rpc\n",
      "master.passwd\n",
      "sshd_config~previous\n",
      "openldap\n",
      "aliases\n",
      "paths~orig\n",
      "fonts\n",
      "openssl\n",
      "com.apple.screensharing.agent.launchd\n",
      "wfs\n",
      "hostconfig.system_default\n",
      "shells~orig\n",
      "sshd_config.applesaved\n",
      "dumpdates\n",
      "protocols\n",
      "AFP.conf\n",
      "cups\n",
      "man.conf\n",
      "services\n",
      "mail.rc~orig\n",
      "resolver\n",
      "uucp\n",
      "passwd\n",
      "zprofile\n",
      "afpovertcp.cfg\n",
      "newsyslog.conf\n",
      "bashrc~previous\n",
      "mail.rc\n",
      "notify.conf\n",
      "sysctl.conf.pg\n"
     ]
    }
   ],
   "source": [
    "import os  # \"operating system\" module -- files, directories, etc.\n",
    "\n",
    "def ls(dirname):\n",
    "    for one_filename in os.listdir(dirname):\n",
    "        print(one_filename)\n",
    "        \n",
    "d = input('Enter directory name: ').strip()\n",
    "\n",
    "ls(d)   # call my function, ls"
   ]
  },
  {
   "cell_type": "markdown",
   "metadata": {},
   "source": [
    "# Exercise: Filtered directory listing\n",
    "\n",
    "1. Write a new function, called `filter_ls`, which takes *2* arguments:\n",
    "    - `dirname`, as before\n",
    "    - `s`, a string that we want to match a filename before printing it\n",
    "    \n",
    "2. This function will work just like our `ls` function *but* it will only print those filenames that contain `s`.  So if `s` is the string `'a'`    , then only those filenames containing `'a'` will be printed."
   ]
  },
  {
   "cell_type": "code",
   "execution_count": 88,
   "metadata": {},
   "outputs": [
    {
     "name": "stdout",
     "output_type": "stream",
     "text": [
      "Enter directory name: /etc/\n",
      "Enter filter: j\n"
     ]
    }
   ],
   "source": [
    "import os  \n",
    "\n",
    "def filter_ls(dirname, s):\n",
    "    for one_filename in os.listdir(dirname):\n",
    "        if s in one_filename:\n",
    "            print(one_filename)\n",
    "        \n",
    "d = input('Enter directory name: ').strip()\n",
    "look_for = input('Enter filter: ').strip()\n",
    "\n",
    "filter_ls(d, look_for)"
   ]
  },
  {
   "cell_type": "code",
   "execution_count": 89,
   "metadata": {},
   "outputs": [
    {
     "data": {
      "text/plain": [
       "True"
      ]
     },
     "execution_count": 89,
     "metadata": {},
     "output_type": "execute_result"
    }
   ],
   "source": [
    "s = 'abcde'\n",
    "look_for = 'c'\n",
    "\n",
    "# the right way to find look_for in s (if it's there or not is \"in\")\n",
    "look_for in s"
   ]
  },
  {
   "cell_type": "code",
   "execution_count": 90,
   "metadata": {},
   "outputs": [
    {
     "data": {
      "text/plain": [
       "True"
      ]
     },
     "execution_count": 90,
     "metadata": {},
     "output_type": "execute_result"
    }
   ],
   "source": [
    "# you were looking for a method, and found __contains__\n",
    "# actually, it *will* work!\n",
    "s.__contains__(look_for)"
   ]
  },
  {
   "cell_type": "code",
   "execution_count": 91,
   "metadata": {},
   "outputs": [],
   "source": [
    "# BUT BUT BUT\n",
    "\n",
    "# you shouldn't be calling methods with __ at the start and end\n",
    "# these are known as \"dunder methods\"\n",
    "# \"dunder\" == double underscore\n",
    "# they are meant to be called by Python's internal systems automatically"
   ]
  },
  {
   "cell_type": "code",
   "execution_count": 92,
   "metadata": {},
   "outputs": [],
   "source": [
    "# one underscore before a variable name == it's private -- \n",
    "#  touch at your own risk\n",
    "\n",
    "_x = 100   # this is a private-ish variable (by convention only!)"
   ]
  },
  {
   "cell_type": "markdown",
   "metadata": {},
   "source": [
    "# Next up: \n",
    "\n",
    "1. Where does Python look for modules?\n",
    "2. What do modules look like?\n",
    "3. Can we write our own modules? (Spoiler: Yes!)"
   ]
  },
  {
   "cell_type": "code",
   "execution_count": 93,
   "metadata": {},
   "outputs": [],
   "source": [
    "import string"
   ]
  },
  {
   "cell_type": "code",
   "execution_count": 94,
   "metadata": {},
   "outputs": [
    {
     "data": {
      "text/plain": [
       "'abcdefghijklmnopqrstuvwxyz'"
      ]
     },
     "execution_count": 94,
     "metadata": {},
     "output_type": "execute_result"
    }
   ],
   "source": [
    "string.ascii_lowercase"
   ]
  },
  {
   "cell_type": "code",
   "execution_count": 95,
   "metadata": {},
   "outputs": [
    {
     "data": {
      "text/plain": [
       "'!\"#$%&\\'()*+,-./:;<=>?@[\\\\]^_`{|}~'"
      ]
     },
     "execution_count": 95,
     "metadata": {},
     "output_type": "execute_result"
    }
   ],
   "source": [
    "string.punctuation"
   ]
  },
  {
   "cell_type": "code",
   "execution_count": 96,
   "metadata": {},
   "outputs": [
    {
     "data": {
      "text/plain": [
       "[\"/Users/reuven/Courses/Current/O'Reilly-2021-q2-first-steps\",\n",
       " '/usr/local/Cellar/python@3.9/3.9.5/Frameworks/Python.framework/Versions/3.9/lib/python39.zip',\n",
       " '/usr/local/Cellar/python@3.9/3.9.5/Frameworks/Python.framework/Versions/3.9/lib/python3.9',\n",
       " '/usr/local/Cellar/python@3.9/3.9.5/Frameworks/Python.framework/Versions/3.9/lib/python3.9/lib-dynload',\n",
       " '',\n",
       " '/Users/reuven/Library/Python/3.9/lib/python/site-packages',\n",
       " '/usr/local/lib/python3.9/site-packages',\n",
       " '/usr/local/lib/python3.9/site-packages/rich-10.1.0-py3.9.egg',\n",
       " '/usr/local/lib/python3.9/site-packages/utilmy-0.1.16183346-py3.9.egg',\n",
       " '/usr/local/lib/python3.9/site-packages/IPython/extensions',\n",
       " '/Users/reuven/.ipython']"
      ]
     },
     "execution_count": 96,
     "metadata": {},
     "output_type": "execute_result"
    }
   ],
   "source": [
    "# when I say \"import string\", Python looks for \"string.py\"\n",
    "# a file.\n",
    "\n",
    "# it looks for the file in the module search path -- a list\n",
    "# of directories that it goes through, one at a time.\n",
    "# First match wins.\n",
    "\n",
    "# we need the \"sys\" module\n",
    "import sys\n",
    "\n",
    "sys.path  # show me the search path"
   ]
  },
  {
   "cell_type": "code",
   "execution_count": 97,
   "metadata": {},
   "outputs": [
    {
     "data": {
      "text/plain": [
       "<module 'string' from '/usr/local/Cellar/python@3.9/3.9.5/Frameworks/Python.framework/Versions/3.9/lib/python3.9/string.py'>"
      ]
     },
     "execution_count": 97,
     "metadata": {},
     "output_type": "execute_result"
    }
   ],
   "source": [
    "# where did Python load the \"string\" module from?\n",
    "\n",
    "string"
   ]
  },
  {
   "cell_type": "code",
   "execution_count": 98,
   "metadata": {},
   "outputs": [
    {
     "name": "stdout",
     "output_type": "stream",
     "text": [
      "'/usr/local/Cellar/python@3.9/3.9.5/Frameworks/Python.framework/Versions/3.9/lib/python3.9/string.py'\r\n"
     ]
    }
   ],
   "source": [
    "%ls /usr/local/Cellar/python@3.9/3.9.5/Frameworks/Python.framework/Versions/3.9/lib/python3.9/string.py"
   ]
  },
  {
   "cell_type": "code",
   "execution_count": 99,
   "metadata": {
    "collapsed": true
   },
   "outputs": [
    {
     "data": {
      "text/plain": [
       "['Formatter',\n",
       " 'Template',\n",
       " '_ChainMap',\n",
       " '__all__',\n",
       " '__builtins__',\n",
       " '__cached__',\n",
       " '__doc__',\n",
       " '__file__',\n",
       " '__loader__',\n",
       " '__name__',\n",
       " '__package__',\n",
       " '__spec__',\n",
       " '_re',\n",
       " '_sentinel_dict',\n",
       " '_string',\n",
       " 'ascii_letters',\n",
       " 'ascii_lowercase',\n",
       " 'ascii_uppercase',\n",
       " 'capwords',\n",
       " 'digits',\n",
       " 'hexdigits',\n",
       " 'octdigits',\n",
       " 'printable',\n",
       " 'punctuation',\n",
       " 'whitespace']"
      ]
     },
     "execution_count": 99,
     "metadata": {},
     "output_type": "execute_result"
    }
   ],
   "source": [
    "dir(string)"
   ]
  },
  {
   "cell_type": "code",
   "execution_count": 100,
   "metadata": {
    "collapsed": true
   },
   "outputs": [
    {
     "data": {
      "text/plain": [
       "['__call__',\n",
       " '__class__',\n",
       " '__delattr__',\n",
       " '__dir__',\n",
       " '__doc__',\n",
       " '__eq__',\n",
       " '__format__',\n",
       " '__ge__',\n",
       " '__getattribute__',\n",
       " '__gt__',\n",
       " '__hash__',\n",
       " '__init__',\n",
       " '__init_subclass__',\n",
       " '__le__',\n",
       " '__lt__',\n",
       " '__module__',\n",
       " '__name__',\n",
       " '__ne__',\n",
       " '__new__',\n",
       " '__qualname__',\n",
       " '__reduce__',\n",
       " '__reduce_ex__',\n",
       " '__repr__',\n",
       " '__self__',\n",
       " '__setattr__',\n",
       " '__sizeof__',\n",
       " '__str__',\n",
       " '__subclasshook__',\n",
       " '__text_signature__']"
      ]
     },
     "execution_count": 100,
     "metadata": {},
     "output_type": "execute_result"
    }
   ],
   "source": [
    "dir(random)"
   ]
  },
  {
   "cell_type": "code",
   "execution_count": 101,
   "metadata": {
    "collapsed": true
   },
   "outputs": [
    {
     "data": {
      "text/plain": [
       "['__breakpointhook__',\n",
       " '__displayhook__',\n",
       " '__doc__',\n",
       " '__excepthook__',\n",
       " '__interactivehook__',\n",
       " '__loader__',\n",
       " '__name__',\n",
       " '__package__',\n",
       " '__spec__',\n",
       " '__stderr__',\n",
       " '__stdin__',\n",
       " '__stdout__',\n",
       " '__unraisablehook__',\n",
       " '_base_executable',\n",
       " '_clear_type_cache',\n",
       " '_current_frames',\n",
       " '_debugmallocstats',\n",
       " '_framework',\n",
       " '_getframe',\n",
       " '_git',\n",
       " '_home',\n",
       " '_xoptions',\n",
       " 'abiflags',\n",
       " 'addaudithook',\n",
       " 'api_version',\n",
       " 'argv',\n",
       " 'audit',\n",
       " 'base_exec_prefix',\n",
       " 'base_prefix',\n",
       " 'breakpointhook',\n",
       " 'builtin_module_names',\n",
       " 'byteorder',\n",
       " 'call_tracing',\n",
       " 'copyright',\n",
       " 'displayhook',\n",
       " 'dont_write_bytecode',\n",
       " 'exc_info',\n",
       " 'excepthook',\n",
       " 'exec_prefix',\n",
       " 'executable',\n",
       " 'exit',\n",
       " 'flags',\n",
       " 'float_info',\n",
       " 'float_repr_style',\n",
       " 'get_asyncgen_hooks',\n",
       " 'get_coroutine_origin_tracking_depth',\n",
       " 'getallocatedblocks',\n",
       " 'getdefaultencoding',\n",
       " 'getdlopenflags',\n",
       " 'getfilesystemencodeerrors',\n",
       " 'getfilesystemencoding',\n",
       " 'getprofile',\n",
       " 'getrecursionlimit',\n",
       " 'getrefcount',\n",
       " 'getsizeof',\n",
       " 'getswitchinterval',\n",
       " 'gettrace',\n",
       " 'hash_info',\n",
       " 'hexversion',\n",
       " 'implementation',\n",
       " 'int_info',\n",
       " 'intern',\n",
       " 'is_finalizing',\n",
       " 'last_traceback',\n",
       " 'last_type',\n",
       " 'last_value',\n",
       " 'maxsize',\n",
       " 'maxunicode',\n",
       " 'meta_path',\n",
       " 'modules',\n",
       " 'path',\n",
       " 'path_hooks',\n",
       " 'path_importer_cache',\n",
       " 'platform',\n",
       " 'platlibdir',\n",
       " 'prefix',\n",
       " 'ps1',\n",
       " 'ps2',\n",
       " 'ps3',\n",
       " 'pycache_prefix',\n",
       " 'set_asyncgen_hooks',\n",
       " 'set_coroutine_origin_tracking_depth',\n",
       " 'setdlopenflags',\n",
       " 'setprofile',\n",
       " 'setrecursionlimit',\n",
       " 'setswitchinterval',\n",
       " 'settrace',\n",
       " 'stderr',\n",
       " 'stdin',\n",
       " 'stdout',\n",
       " 'thread_info',\n",
       " 'unraisablehook',\n",
       " 'version',\n",
       " 'version_info',\n",
       " 'warnoptions']"
      ]
     },
     "execution_count": 101,
     "metadata": {},
     "output_type": "execute_result"
    }
   ],
   "source": [
    "dir(sys)"
   ]
  },
  {
   "cell_type": "code",
   "execution_count": 102,
   "metadata": {},
   "outputs": [],
   "source": [
    "import mymod"
   ]
  },
  {
   "cell_type": "code",
   "execution_count": 103,
   "metadata": {},
   "outputs": [
    {
     "data": {
      "text/plain": [
       "<module 'mymod' from \"/Users/reuven/Courses/Current/O'Reilly-2021-q2-first-steps/mymod.py\">"
      ]
     },
     "execution_count": 103,
     "metadata": {},
     "output_type": "execute_result"
    }
   ],
   "source": [
    "mymod"
   ]
  },
  {
   "cell_type": "code",
   "execution_count": 104,
   "metadata": {},
   "outputs": [
    {
     "ename": "AttributeError",
     "evalue": "module 'mymod' has no attribute 'hello'",
     "output_type": "error",
     "traceback": [
      "\u001b[0;31m---------------------------------------------------------------------------\u001b[0m",
      "\u001b[0;31mAttributeError\u001b[0m                            Traceback (most recent call last)",
      "\u001b[0;32m<ipython-input-104-1187d12b0339>\u001b[0m in \u001b[0;36m<module>\u001b[0;34m\u001b[0m\n\u001b[0;32m----> 1\u001b[0;31m \u001b[0mmymod\u001b[0m\u001b[0;34m.\u001b[0m\u001b[0mhello\u001b[0m\u001b[0;34m(\u001b[0m\u001b[0;34m'world'\u001b[0m\u001b[0;34m)\u001b[0m\u001b[0;34m\u001b[0m\u001b[0;34m\u001b[0m\u001b[0m\n\u001b[0m",
      "\u001b[0;31mAttributeError\u001b[0m: module 'mymod' has no attribute 'hello'"
     ]
    }
   ],
   "source": [
    "mymod.hello('world')"
   ]
  },
  {
   "cell_type": "code",
   "execution_count": 105,
   "metadata": {},
   "outputs": [],
   "source": [
    "# how can I get my new names in \"mymod\"?\n",
    "\n",
    "import mymod"
   ]
  },
  {
   "cell_type": "code",
   "execution_count": 106,
   "metadata": {},
   "outputs": [
    {
     "data": {
      "text/plain": [
       "['__builtins__',\n",
       " '__cached__',\n",
       " '__doc__',\n",
       " '__file__',\n",
       " '__loader__',\n",
       " '__name__',\n",
       " '__package__',\n",
       " '__spec__']"
      ]
     },
     "execution_count": 106,
     "metadata": {},
     "output_type": "execute_result"
    }
   ],
   "source": [
    "dir(mymod)"
   ]
  },
  {
   "cell_type": "code",
   "execution_count": 107,
   "metadata": {},
   "outputs": [],
   "source": [
    "# if I want to reload a module while I'm developing,\n",
    "# I can use the \"reload\" function defined in \"importlib\"\n",
    "\n",
    "from importlib import reload"
   ]
  },
  {
   "cell_type": "code",
   "execution_count": 108,
   "metadata": {},
   "outputs": [
    {
     "data": {
      "text/plain": [
       "<module 'mymod' from \"/Users/reuven/Courses/Current/O'Reilly-2021-q2-first-steps/mymod.py\">"
      ]
     },
     "execution_count": 108,
     "metadata": {},
     "output_type": "execute_result"
    }
   ],
   "source": [
    "reload(mymod)"
   ]
  },
  {
   "cell_type": "code",
   "execution_count": 109,
   "metadata": {},
   "outputs": [
    {
     "data": {
      "text/plain": [
       "['__builtins__',\n",
       " '__cached__',\n",
       " '__doc__',\n",
       " '__file__',\n",
       " '__loader__',\n",
       " '__name__',\n",
       " '__package__',\n",
       " '__spec__',\n",
       " 'hello',\n",
       " 'x',\n",
       " 'y']"
      ]
     },
     "execution_count": 109,
     "metadata": {},
     "output_type": "execute_result"
    }
   ],
   "source": [
    "dir(mymod)"
   ]
  },
  {
   "cell_type": "code",
   "execution_count": 110,
   "metadata": {},
   "outputs": [
    {
     "data": {
      "text/plain": [
       "100"
      ]
     },
     "execution_count": 110,
     "metadata": {},
     "output_type": "execute_result"
    }
   ],
   "source": [
    "mymod.x"
   ]
  },
  {
   "cell_type": "code",
   "execution_count": 111,
   "metadata": {},
   "outputs": [
    {
     "data": {
      "text/plain": [
       "[10, 20, 30]"
      ]
     },
     "execution_count": 111,
     "metadata": {},
     "output_type": "execute_result"
    }
   ],
   "source": [
    "mymod.y"
   ]
  },
  {
   "cell_type": "code",
   "execution_count": 112,
   "metadata": {},
   "outputs": [
    {
     "data": {
      "text/plain": [
       "'Hello, world!'"
      ]
     },
     "execution_count": 112,
     "metadata": {},
     "output_type": "execute_result"
    }
   ],
   "source": [
    "mymod.hello('world')"
   ]
  },
  {
   "cell_type": "code",
   "execution_count": 113,
   "metadata": {
    "collapsed": true
   },
   "outputs": [
    {
     "name": "stdout",
     "output_type": "stream",
     "text": [
      "The Zen of Python, by Tim Peters\n",
      "\n",
      "Beautiful is better than ugly.\n",
      "Explicit is better than implicit.\n",
      "Simple is better than complex.\n",
      "Complex is better than complicated.\n",
      "Flat is better than nested.\n",
      "Sparse is better than dense.\n",
      "Readability counts.\n",
      "Special cases aren't special enough to break the rules.\n",
      "Although practicality beats purity.\n",
      "Errors should never pass silently.\n",
      "Unless explicitly silenced.\n",
      "In the face of ambiguity, refuse the temptation to guess.\n",
      "There should be one-- and preferably only one --obvious way to do it.\n",
      "Although that way may not be obvious at first unless you're Dutch.\n",
      "Now is better than never.\n",
      "Although never is often better than *right* now.\n",
      "If the implementation is hard to explain, it's a bad idea.\n",
      "If the implementation is easy to explain, it may be a good idea.\n",
      "Namespaces are one honking great idea -- let's do more of those!\n"
     ]
    }
   ],
   "source": [
    "import this"
   ]
  },
  {
   "cell_type": "code",
   "execution_count": 114,
   "metadata": {},
   "outputs": [],
   "source": [
    "# to add directories to sys.path, set the PYTHONPATH\n",
    "# environment variable before you start Python"
   ]
  },
  {
   "cell_type": "code",
   "execution_count": 115,
   "metadata": {},
   "outputs": [
    {
     "name": "stdout",
     "output_type": "stream",
     "text": [
      "Hello from mymod!\n",
      "Goodbye from mymod!\n"
     ]
    },
    {
     "data": {
      "text/plain": [
       "<module 'mymod' from \"/Users/reuven/Courses/Current/O'Reilly-2021-q2-first-steps/mymod.py\">"
      ]
     },
     "execution_count": 115,
     "metadata": {},
     "output_type": "execute_result"
    }
   ],
   "source": [
    "reload(mymod)"
   ]
  },
  {
   "cell_type": "code",
   "execution_count": 116,
   "metadata": {},
   "outputs": [
    {
     "data": {
      "text/plain": [
       "['__builtins__',\n",
       " '__cached__',\n",
       " '__doc__',\n",
       " '__file__',\n",
       " '__loader__',\n",
       " '__name__',\n",
       " '__package__',\n",
       " '__spec__',\n",
       " 'hello',\n",
       " 'x',\n",
       " 'y']"
      ]
     },
     "execution_count": 116,
     "metadata": {},
     "output_type": "execute_result"
    }
   ],
   "source": [
    "dir(mymod)"
   ]
  },
  {
   "cell_type": "code",
   "execution_count": 117,
   "metadata": {},
   "outputs": [
    {
     "data": {
      "text/plain": [
       "'mymod'"
      ]
     },
     "execution_count": 117,
     "metadata": {},
     "output_type": "execute_result"
    }
   ],
   "source": [
    "mymod.__name__"
   ]
  },
  {
   "cell_type": "code",
   "execution_count": null,
   "metadata": {},
   "outputs": [],
   "source": [
    "# all of our global variables defined in mymod.py are \n",
    "# visible as attributes on mymod in Python.\n",
    "\n",
    "# We have mymod.x, mymod.y, and mymod.hello\n",
    "\n",
    "# Is the reverse true? Meaning: If __name__ is an attribute\n",
    "# of mymod, then is it a global variable in mymod.py?"
   ]
  },
  {
   "cell_type": "code",
   "execution_count": 118,
   "metadata": {},
   "outputs": [
    {
     "name": "stdout",
     "output_type": "stream",
     "text": [
      "Hello from mymod!\n",
      "Goodbye from mymod!\n"
     ]
    },
    {
     "data": {
      "text/plain": [
       "<module 'mymod' from \"/Users/reuven/Courses/Current/O'Reilly-2021-q2-first-steps/mymod.py\">"
      ]
     },
     "execution_count": 118,
     "metadata": {},
     "output_type": "execute_result"
    }
   ],
   "source": [
    "reload(mymod)"
   ]
  },
  {
   "cell_type": "markdown",
   "metadata": {},
   "source": [
    "# `__name__`\n",
    "\n",
    "A module is a bunch of Python code, typically definitions -- variables, functions, and classes.\n",
    "\n",
    "When we import a module in Python, it knows its name via the attribute `__name__`.  It can be used inside of the module or by people who have imported the module.\n",
    "\n",
    "But if we run our program standalone on the command line then no one is importing it. Rather, it's the program that needs to import things. It is the first *namespace* to be set up.  As a result, it gets a special name, `__main__`.\n",
    "\n",
    "`__name__` is a variable name.  `__main__` is a string, the typical value of `__name__`."
   ]
  },
  {
   "cell_type": "markdown",
   "metadata": {},
   "source": [
    "# Next up:\n",
    "\n",
    "1. PyCharm, and running code in it (not Jupyter)\n",
    "2. Exercise with modules\n",
    "3. PyPI\n",
    "4. `pip`"
   ]
  },
  {
   "cell_type": "markdown",
   "metadata": {},
   "source": [
    "# Editors for Python\n",
    "\n",
    "1. PyCharm\n",
    "2. VSCode\n",
    "3. Emacs\n",
    "4. vim\n",
    "5. Sublime text"
   ]
  },
  {
   "cell_type": "raw",
   "metadata": {},
   "source": [
    "# Emacs -- editor used by middle-aged computer scientists"
   ]
  },
  {
   "cell_type": "markdown",
   "metadata": {},
   "source": [
    "# Exercise: Menu module\n",
    "\n",
    "It's pretty common for a program to ask a user to choose from several options. So common, in fact, that you should be able to write a `menu` function once, stick it in a `menu` module, and then use it whenever you want.\n",
    "\n",
    "Its usage would look like this:\n",
    "\n",
    "```python\n",
    "import menu\n",
    "\n",
    "user_choice = menu.menu('a', 'b', 'c')\n",
    "```\n",
    "\n",
    "For this exercise, define the `menu` function in the `menu` module (i.e., `menu.py`), such that the function:\n",
    "\n",
    "1. Takes any number of string arguments\n",
    "2. Displays the arguments and asks the user, repeatedly, to enter one of them\n",
    "3. If the user enters one of the arguments, that value is returned to the caller.\n",
    "4. If not, then we scold the user and have them try again."
   ]
  },
  {
   "cell_type": "markdown",
   "metadata": {},
   "source": [
    "If I call `menu.menu('a', 'b', 'c')`, then I'll see this:\n",
    "\n",
    "Enter choice ('a', 'b', 'c'): 'd'\n",
    "Invalid choice. Try again.\n",
    "Enter choice ('a', 'b', 'c'): 'a'\n",
    "\n",
    "At this point, the function returns `'a'`"
   ]
  },
  {
   "cell_type": "code",
   "execution_count": 121,
   "metadata": {},
   "outputs": [
    {
     "data": {
      "text/plain": [
       "200"
      ]
     },
     "execution_count": 121,
     "metadata": {},
     "output_type": "execute_result"
    }
   ],
   "source": [
    "import requests\n",
    "r = requests.get('http://oreilly.com')\n",
    "r.status_code  # it went well!"
   ]
  },
  {
   "cell_type": "code",
   "execution_count": 122,
   "metadata": {
    "collapsed": true
   },
   "outputs": [
    {
     "data": {
      "text/plain": [
       "b'<!DOCTYPE html>\\r\\n<html lang=\"en\">\\r\\n<head>\\r\\n\\r\\n  <meta charset=\"utf-8\">\\r\\n\\r\\n  \\t<title>O\\'Reilly Media - Technology and Business Training</title>\\n\\t<meta name=\"description\" content=\"Gain technology and business knowledge and hone your skills with learning resources created and curated by O\\'Reilly\\'s experts: live online training, video, books, our platform has content from 200+ of the world\\xc3\\xa2\\xc2\\x80\\xc2\\x99s best publishers.\" />\\n\\t<meta name=\"date\" content=\"2021-06-10\" />\\n\\t<meta name=\"search_date\" content=\"2021-02-05\" />\\n\\t<meta name=\"search-title\" content=\"O\\'Reilly Media - Technology and Business Training\" />\\n\\t<meta name=\"pagename\" content=\"O\\'Reilly Media - Technology and Business Training\" />\\n\\t<meta name=\"site\" content=\"O\\'Reilly\" />\\n\\t<meta name=\"twitter:title\" content=\"O\\'Reilly Media - Technology and Business Training\" />\\n\\t<meta name=\"twitter:description\" content=\"Gain technology and business knowledge and hone your skills with learning resources created and curated by O\\'Reilly\\'s experts: live online training, video, books, our platform has content from 200+ of the world\\xc3\\xa2\\xc2\\x80\\xc2\\x99s best publishers.\" />\\n\\t<meta name=\"twitter:site\" content=\"@OReillyMedia\" />\\n\\t<meta property=\"og:type\" content=\"website\" />\\n\\t<meta property=\"og:title\" content=\"O\\'Reilly Media - Technology and Business Training\" />\\n\\t<meta name=\"twitter:card\" content=\"summary\" />\\n\\t<meta name=\"twitter:image\" content=\"https://cdn.oreillystatic.com/oreilly/images/oreilly-social-200.png\" />\\n\\t<meta property=\"og:image\" content=\"https://cdn.oreillystatic.com/oreilly/images/oreilly-social-200.png\" />\\n\\r\\n\\r\\n  <meta http-equiv=\"X-UA-Compatible\" content=\"IE=edge\">\\r\\n  <meta name=\"viewport\" content=\"width=device-width, initial-scale=1\">\\r\\n  <meta name=\"language_name\" content=\"English\">\\r\\n  <meta name=\"native_language_name\" content=\"English\">\\r\\n  <meta name=\"format-detection\" content=\"telephone=no\">\\r\\n\\r\\n  \\r\\n\\r\\n  <link rel=\"icon\" type=\"image/png\" href=\"//www.oreilly.com/favicon.ico\">\\r\\n\\r\\n  <!--[if lte IE 9]>\\r\\n  <script>\\r\\n    \\'article aside footer header main nav section time\\'.replace(/\\\\w+/g,function(n){document.createElement(n)})\\r\\n  </script>\\r\\n  <![endif]-->\\r\\n\\r\\n  <link rel=\"stylesheet\" type=\"text/css\" href=\"https://cdn.oreillystatic.com/assets/css/2018_font_face.css\" />\\r\\n  <link rel=\"stylesheet\" type=\"text/css\" href=\"https://cdn.oreillystatic.com/assets/css/odot-layout-20210319.css\" />\\r\\n\\r\\n  <!--[if IE 9]>\\r\\n  <style type=\"text/css\">\\r\\n    #menu-toggle:checked ~ .mobile-nav { display:block; }\\r\\n    .mobile-nav { display: none; }\\r\\n  </style>\\r\\n  <![endif]-->\\r\\n\\r\\n\\r\\n\\r\\n\\r\\n<!-- Initiate dataLayer for GA -->\\r\\n<script>\\r\\nloggedInObject = new Object();\\r\\nvar dataLayer = window.dataLayer || [];\\r\\n\\r\\n//Check for O\\'Reilly Unified logged-in status\\r\\nif (document.cookie.split(\\';\\').filter(function(item) {\\r\\n  return item.indexOf(\\'orm-jwt=\\') >= 0\\r\\n}).length) {\\r\\n  loggedInObject.unifiedLoggedIn = \\'yes\\';\\r\\n  loggedInObject.loggedIn = \\'yes\\';\\r\\n  dataLayer.push(loggedInObject);\\r\\n}\\r\\n</script>\\r\\n\\r\\n<!-- Google Tag Manager -->\\r\\n<script>(function(w,d,s,l,i){w[l]=w[l]||[];w[l].push({\\'gtm.start\\':\\r\\nnew Date().getTime(),event:\\'gtm.js\\'});var f=d.getElementsByTagName(s)[0],\\r\\nj=d.createElement(s),dl=l!=\\'dataLayer\\'?\\'&l=\\'+l:\\'\\';j.async=true;j.src=\\r\\n\\'https://www.googletagmanager.com/gtm.js?id=\\'+i+dl;f.parentNode.insertBefore(j,f);\\r\\n})(window,document,\\'script\\',\\'dataLayer\\',\\'GTM-5P4V6Z\\');</script>\\r\\n<!-- End Google Tag Manager -->\\r\\n\\r\\n\\r\\n\\r\\n\\r\\n\\r\\n<!-- Start VWO Async SmartCode -->\\r\\n<script type=\\'text/javascript\\'>\\r\\nwindow._vwo_code = window._vwo_code || (function(){\\r\\nvar account_id=27087,\\r\\nsettings_tolerance=2000,\\r\\nlibrary_tolerance=2500,\\r\\nuse_existing_jquery=false,\\r\\nis_spa=1,\\r\\nhide_element=\\'body\\',\\r\\n\\r\\n/* DO NOT EDIT BELOW THIS LINE */\\r\\nf=false,d=document,code={use_existing_jquery:function(){return use_existing_jquery;},library_tolerance:function(){return library_tolerance;},finish:function(){if(!f){f=true;var a=d.getElementById(\\'_vis_opt_path_hides\\');if(a)a.parentNode.removeChild(a);}},finished:function(){return f;},load:function(a){var b=d.createElement(\\'script\\');b.src=a;b.type=\\'text/javascript\\';b.innerText;b.onerror=function(){_vwo_code.finish();};d.getElementsByTagName(\\'head\\')[0].appendChild(b);},init:function(){\\r\\nwindow.settings_timer=setTimeout(function () {_vwo_code.finish() },settings_tolerance);var a=d.createElement(\\'style\\'),b=hide_element?hide_element+\\'{opacity:0 !important;filter:alpha(opacity=0) !important;background:none !important;}\\':\\'\\',h=d.getElementsByTagName(\\'head\\')[0];a.setAttribute(\\'id\\',\\'_vis_opt_path_hides\\');a.setAttribute(\\'type\\',\\'text/css\\');if(a.styleSheet)a.styleSheet.cssText=b;else a.appendChild(d.createTextNode(b));h.appendChild(a);this.load(\\'https://dev.visualwebsiteoptimizer.com/j.php?a=\\'+account_id+\\'&u=\\'+encodeURIComponent(d.URL)+\\'&f=\\'+(+is_spa)+\\'&r=\\'+Math.random());return settings_timer; }};window._vwo_settings_timer = code.init(); return code; }());\\r\\n</script>\\r\\n<!-- End VWO Async SmartCode -->\\r\\n\\r\\n</head>\\r\\n<body class=\"homepage\">\\r\\n\\r\\n\\r\\n<!-- Google Tag Manager (noscript) -->\\r\\n<noscript><iframe src=\"https://www.googletagmanager.com/ns.html?id=GTM-5P4V6Z\" height=\"0\" width=\"0\" style=\"display:none;visibility:hidden\"></iframe></noscript>\\r\\n<!-- End Google Tag Manager (noscript) -->\\r\\n\\r\\n  <div class=\"skipToMain\" id=\"skipToMain\"><a href=\"#maincontent\"><span class=\"skipToMain-text\">Skip to main content</span></a></div>\\r\\n\\r\\n\\r\\n\\r\\n  <header role=\"banner\">\\r\\n    <div class=\"content\">\\r\\n      <nav role=\"navigation\" aria-label=\"site sections\">\\r\\n        <a href=\"https://www.oreilly.com\" class=\"logo\" title=\"home page\" aria-current=\"page\"><img src=\"https://cdn.oreillystatic.com/images/sitewide-headers/oreilly_logo_mark_red.svg\" onerror=\"this.src=\\'https://cdn.oreillystatic.com/images/sitewide-headers/oreilly_logo_mark_red_@2x.png\\'; this.onerror=null;\" alt=\"O\\'Reilly home\"></a>\\r\\n\\r\\n        <button id=\"mobileNavButton\" class=\"mobileNavButton mobileNavButton--collapse mobileNavButton--3dx\" type=\"button\" aria-expanded=\"false\" aria-controls=\"menuList\">\\r\\n          <span class=\"mobileNavButton-box\">\\r\\n            <span class=\"mobileNavButton-inner\"></span>\\r\\n          </span>\\r\\n        </button>\\r\\n\\r\\n    \\r\\n        <ul id=\"menuList\" class=\"menuList mobileHidden  \">\\r\\n          <li class=\"menuList-itemsP1\">\\r\\n            <ul>\\r\\n              <li class=\"menuList-item menuList-signIn\"><a href=\"https://learning.oreilly.com/accounts/login-check/\">Sign In</a></li>\\r\\n              <li class=\"menuList-item menuList-tryNow\"><a class=\"menuList-cta\" href=\"https://www.oreilly.com/online-learning/try-now.html\">Try Now</a></li>\\r\\n            </ul>\\r\\n          </li>\\r\\n          <li class=\"menuList-itemsP2\">\\r\\n            <ul>\\r\\n              <li class=\"menuList-item menuList-itemWithSub\"><a href=\"https://www.oreilly.com/online-learning/teams.html\">Teams</a>\\r\\n                <ul class=\"menuList-subList\">\\r\\n                  <li class=\"menuList-subItem\"><a href=\"https://www.oreilly.com/online-learning/business.html\">For business</a></li>\\r\\n                  <li class=\"menuList-subItem\"><a href=\"https://www.oreilly.com/online-learning/government.html\">For government</a></li>\\r\\n                  <li class=\"menuList-subItem\"><a href=\"https://www.oreilly.com/online-learning/academic.html\">For higher ed</a></li>\\r\\n                </ul>\\r\\n              </li>\\r\\n              <li class=\"menuList-item\"><a href=\"https://www.oreilly.com/online-learning/individuals.html\">Individuals</a></li>\\r\\n              <li class=\"menuList-item menuList-itemWithSub\"><a href=\"https://www.oreilly.com/online-learning/features.html\">Features</a>\\r\\n                <ul class=\"menuList-subList\">\\r\\n                  <li class=\"menuList-subItem\"><a href=\"https://www.oreilly.com/online-learning/feature-certification.html\">Certifications</a></li>\\r\\n                  <li class=\"menuList-subItem\"><a href=\"https://www.oreilly.com/online-learning/intro-interactive-learning.html\">Interactive learning</a></li>\\r\\n                  <li class=\"menuList-subItem\"><a href=\"https://www.oreilly.com/online-learning/live-events.html\">Live events</a></li>\\r\\n                  <li class=\"menuList-subItem\"><a href=\"https://www.oreilly.com/online-learning/feature-answers.html\">Answers</a></li>\\r\\n                </ul>\\r\\n              </li>\\r\\n              <li class=\"menuList-item\"><a href=\"https://www.oreilly.com/radar/\">Blog</a></li>\\r\\n              <li class=\"menuList-item\" id=\"nav-forMarketers\"><a href=\"https://www.oreilly.com/content-marketing-solutions.html\">Content sponsorship</a></li>\\r\\n              <li class=\"menuList-item menuList-item-search\" id=\"nav-search\">\\r\\n                <form id=\"js-searchForm\" class=\"searchForm\" action=\"https://www.oreilly.com/search/\"><input id=\"search\" type=\"search\" name=\"query\" placeholder=\"Explore our content\" autocomplete=\"off\" required=\"\"><button id=\"js-searchCloseButton\" class=\"navSearchCloseButton\">Close</button></form>\\r\\n                <button id=\"js-searchButton\" class=\"navSearchButton\">Search</button>\\r\\n              </li>\\r\\n            </ul>\\r\\n          </li>\\r\\n        </ul>\\r\\n      </nav>\\r\\n    </div>\\r\\n  </header>\\r\\n\\r\\n  <main role=\"main\" id=\"maincontent\">\\r\\n\\r\\n  \\r\\n\\r\\n<style>\\r\\n.menuList-item.menuList-item-search.hidden {\\r\\n  display: none;\\r\\n}\\r\\nbody.homepage .footer-subfooter .transparencyStatement {\\r\\n  display: inline !important;\\r\\n}\\r\\n\\r\\n\\r\\n/* helpingThrough */\\r\\n.helpingThrough {\\r\\n  padding: 40px 0 40px;\\r\\n}\\r\\n.helpingThrough .content:after {\\r\\n  content: \"\";\\r\\n  display: table;\\r\\n  height: 0;\\r\\n  clear: both;\\r\\n}\\r\\n.helpingThrough-detail {\\r\\n  margin: 0 0 40px;\\r\\n}\\r\\n.helpingThrough-detail:last-of-type {\\r\\n  margin: 0;\\r\\n}\\r\\n.helpingThrough-detail figure {\\r\\n  display: block;\\r\\n  width: 25%;\\r\\n  max-width: 340px;\\r\\n  overflow: hidden;\\r\\n  margin: 0 0 8px;\\r\\n  box-shadow: 0 0 8px rgba(0,0,0,.1);\\r\\n}\\r\\n.helpingThrough-detail figure.round {\\r\\n  border-radius: 100%;\\r\\n}\\r\\n.helpingThrough-detail figure img {\\r\\n  display: block;\\r\\n  width: 100%;\\r\\n}\\r\\n.helpingThrough-detail-info h3 {\\r\\n  margin-bottom: 12px;\\r\\n  font-family: \\'gilroy\\', Arial, sans-serif;\\r\\n  font-size: 32px;\\r\\n  font-size: 2rem;\\r\\n  line-height: 1.2em;\\r\\n  font-weight: 600;\\r\\n}\\r\\n.helpingThrough-detail-info p {\\r\\n  margin-bottom: 20px;\\r\\n  max-width: 880px;\\r\\n  font-size: 16px;\\r\\n  font-size: 1rem;\\r\\n  line-height: 1.5em;\\r\\n}\\r\\n@media (min-width: 32em) { /* 512px */\\r\\n  .helpingThrough-detail {\\r\\n    display: flex;\\r\\n    align-items: top;\\r\\n    justify-content: space-between;\\r\\n    margin: 0 0 80px;\\r\\n    font-size: 0;\\r\\n  }\\r\\n  .helpingThrough-detail:nth-of-type(even) {\\r\\n    flex-direction: row-reverse;\\r\\n  }\\r\\n  .helpingThrough-detail figure {\\r\\n    display: block;\\r\\n    height: 100%;\\r\\n    width: 25%\\r\\n    margin-right: 40px;\\r\\n  }\\r\\n  .helpingThrough-detail:nth-of-type(even) figure {\\r\\n    margin-left: 40px;\\r\\n    margin-right: 0;\\r\\n  }\\r\\n  .helpingThrough-detail-info {\\r\\n    display: inline-block;\\r\\n    width: calc(75% - 40px);\\r\\n  }\\r\\n}\\r\\n@media (min-width: 40em) { /* 640px */\\r\\n  .helpingThrough {\\r\\n    padding: 54px 0 54px;\\r\\n  }\\r\\n  .helpingThrough-detail-info p {\\r\\n    font-size: 22px;\\r\\n    font-size: 1.375rem;\\r\\n    line-height: 1.5em;\\r\\n    margin-bottom: 24px;\\r\\n  }\\r\\n  .helpingThrough-detail-info p:last-of-type {\\r\\n    margin-bottom: 40px;\\r\\n  }\\r\\n}\\r\\n@media (min-width: 50em) { /* 800px */\\r\\n  .helpingThrough-detail {\\r\\n    align-items: center;\\r\\n    margin: 0 0 80px;\\r\\n  }\\r\\n  .helpingThrough-detail figure {\\r\\n    width: 33%;\\r\\n    margin-right: 80px;\\r\\n  }\\r\\n  .helpingThrough-detail:nth-of-type(even) figure {\\r\\n    margin-left: 80px;\\r\\n    margin-right: 0;\\r\\n  }\\r\\n}\\r\\n@media (min-width: 53em) { /* 848px */\\r\\n  .helpingThrough {\\r\\n    padding: 74px 0 74px;\\r\\n  }\\r\\n  .helpingThrough-detail-info h3 {\\r\\n    margin-bottom: 20px;\\r\\n    font-size: 44px;\\r\\n    font-size: 2.5rem;\\r\\n    line-height: 1.2em;\\r\\n  }\\r\\n  .helpingThrough-detail-info p:last-of-type {\\r\\n    margin-bottom: 20px;\\r\\n  }\\r\\n}\\r\\n/* end helpingThrough */\\r\\n\\r\\n\\r\\n/* .beStrong */\\r\\n.beStrong {\\r\\n  padding: 54px 0;\\r\\n  background: #000;\\r\\n  color: #fff;\\r\\n}\\r\\n.beStrong img {\\r\\n  width: 132px;\\r\\n}\\r\\n.beStrong p {\\r\\n  max-width: 100% !important;\\r\\n  font-size: 24px;\\r\\n  font-size: 1.5rem;\\r\\n  line-height: 1.5em;\\r\\n  font-family: \\'guardian-text-oreilly\\', Arial, sans-serif;\\r\\n  font-weight: 400;\\r\\n  color: #fff;\\r\\n}\\r\\n.beStrong p span.hashtags {\\r\\n  color: #ccc;\\r\\n}\\r\\n.beStrong p:last-child {\\r\\n  margin-top: 54px;\\r\\n}\\r\\n@media (min-width: 30em) {\\r\\n  .beStrong {\\r\\n    padding: 74px 0;\\r\\n  }\\r\\n}\\r\\n@media (min-width: 37.5em) {\\r\\n  .beStrong img {\\r\\n    width: auto;\\r\\n  }\\r\\n}\\r\\n@media (min-width: 40em) {\\r\\n  .beStrong  p {\\r\\n    font-family: \\'gilroy\\', Arial, sans-serif;\\r\\n    font-size: 28px !important;\\r\\n    font-size: 1.75rem !important;\\r\\n    line-height: 1.4em;\\r\\n    font-weight: 300;\\r\\n  }\\r\\n}\\r\\n@media (min-width: 71em) {\\r\\n  .beStrong p {\\r\\n    font-size: 32px !important;\\r\\n    font-size: 2rem !important;\\r\\n    line-height: 1.4em;\\r\\n  }\\r\\n}\\r\\n/* end .beStrong */\\r\\n\\r\\n\\r\\n/* .plot3 */\\r\\n.plot3 {}\\r\\n.plot3 .sectionText {\\r\\n  margin: 0 auto;\\r\\n  max-width: 1050px;\\r\\n  text-align: center;\\r\\n}\\r\\n.plot3 h2 {\\r\\n  font-size: 32px;\\r\\n  font-size: 2rem;\\r\\n  line-height: 1.2em;\\r\\n  font-family: \\'gilroy\\', Arial, sans-serif;\\r\\n  margin-bottom: 20px;\\r\\n}\\r\\n.plot3 p {\\r\\n  font-size: 16px;\\r\\n  font-size: 1rem;\\r\\n  line-height: 1.5em;\\r\\n  font-weight: 400;\\r\\n  margin-bottom: 20px;\\r\\n}\\r\\n.plot3 .textCTA-light,\\r\\n.plot3 .textCTA-dark,\\r\\n.plot3 .textCTA-blue {\\r\\n  position: relative;\\r\\n  display: block;\\r\\n  width: max-content;\\r\\n  padding-right: 20px;\\r\\n  font-size: 16px;\\r\\n  font-size: 1rem;\\r\\n  line-height: 1.3em;\\r\\n  font-weight: 600;\\r\\n  color: #222;\\r\\n  text-decoration: none;\\r\\n}\\r\\n.plot3 .textCTA-blue {\\r\\n  color: #0345ff;\\r\\n}\\r\\n.plot3 .textCTA-light {\\r\\n  color: #fff;\\r\\n}\\r\\n.plot3 .textCTA-light:hover,\\r\\n.plot3 .textCTA-light:focus,\\r\\n.plot3 .textCTA-dark:hover,\\r\\n.plot3 .textCTA-dark:focus,\\r\\n.plot3 .textCTA-blue:hover,\\r\\n.plot3 .textCTA-blue:focus {\\r\\n  text-decoration: underline;\\r\\n}\\r\\n.plot3 .textCTA-light .inner,\\r\\n.plot3 .textCTA-dark .inner,\\r\\n.plot3 .textCTA-blue .inner {\\r\\n  position: relative;\\r\\n}\\r\\n.plot3 .textCTA-light .inner:after,\\r\\n.plot3 .textCTA-dark .inner:after,\\r\\n.plot3 .textCTA-blue .inner:after {\\r\\n  content: \"\";\\r\\n  position: absolute;\\r\\n  bottom: 0;\\r\\n  right: -16px;\\r\\n  width: 8px;\\r\\n  height: 100%;\\r\\n  background: transparent url(https://cdn.oreillystatic.com/images/icons/icon_right_arrow_black.svg) right center no-repeat;\\r\\n  background-size: contain;\\r\\n  opacity: 1;\\r\\n}\\r\\n.plot3 .textCTA-blue .inner:after {\\r\\n  background: transparent url(https://cdn.oreillystatic.com/images/icons/icon_right_arrow_blue.svg) right center no-repeat;\\r\\n}\\r\\n.plot3 .textCTA-light .inner:after {\\r\\n  background: transparent url(https://cdn.oreillystatic.com/images/icons/icon_right_arrow_white.svg) right center no-repeat;\\r\\n}\\r\\n.plot3 .btnCTA-blue {\\r\\n  display: block;\\r\\n  width: max-content;\\r\\n  margin-bottom: 20px;\\r\\n  padding: 10px 20px;\\r\\n  border-radius: 2px;\\r\\n  background-color: #0345ff;\\r\\n  color: #fff;\\r\\n  font-size: 16px;\\r\\n  font-size: 1rem;\\r\\n  line-height: 1.2em;\\r\\n  font-weight: 600;\\r\\n  text-decoration: none;\\r\\n}\\r\\n.plot3 .btnCTA-blue:hover,\\r\\n.plot3 .btnCTA-blue:focus {\\r\\n  text-decoration: none;\\r\\n  box-shadow: 0 1px 4px rgb(0,0,0,.3);\\r\\n}\\r\\n.plot3 .btnCTA-blue:after {\\r\\n  content: \"\";\\r\\n  display: inline-block;\\r\\n  margin: -8px -2px -6px 6px;\\r\\n  width: 9px;\\r\\n  height: 22px;\\r\\n  vertical-align: middle;\\r\\n  background: transparent url(https://cdn.oreillystatic.com/images/icons/icon_right_arrow_white.svg) center center no-repeat;\\r\\n  background-size: contain;\\r\\n}\\r\\n@media (min-width: 40em) { /* 640px */\\r\\n  .plot3 p {\\r\\n    font-size: 20px;\\r\\n    font-size: 1.25rem;\\r\\n    line-height: 1.5em;\\r\\n  }\\r\\n  .plot3 .textCTA-light,\\r\\n  .plot3 .textCTA-dark,\\r\\n  .plot3 .textCTA-blue {\\r\\n    font-size: 20px;\\r\\n    font-size: 1.25rem;\\r\\n    line-height: 1.3em;\\r\\n  }\\r\\n  .plot3 .textCTA-light .inner:after,\\r\\n  .plot3 .textCTA-dark .inner:after,\\r\\n  .plot3 .textCTA-blue .inner:after {\\r\\n    right: -20px;\\r\\n    width: 10px;\\r\\n  }\\r\\n}\\r\\n@media (min-width: 58em) { /* 928px */\\r\\n  .plot3 p {\\r\\n    font-size: 24px;\\r\\n    font-size: 1.5rem;\\r\\n    line-height: 1.4em;\\r\\n    font-family: \\'gilroy\\', Arial, sans-serif;\\r\\n    font-weight: 300;\\r\\n  }\\r\\n  .plot3 .textCTA-light,\\r\\n  .plot3 .textCTA-dark,\\r\\n  .plot3 .textCTA-blue {\\r\\n    font-size: 24px;\\r\\n    font-size: 1.5rem;\\r\\n    line-height: 1.4em;\\r\\n    font-family: \\'gilroy\\', Arial, sans-serif;\\r\\n  }\\r\\n  .plot3 .btnCTA-blue {\\r\\n    font-size: 20px;\\r\\n    font-size: 1.25rem;\\r\\n    line-height: 1.2em;\\r\\n    font-family: \\'gilroy\\', Arial, sans-serif;\\r\\n  }\\r\\n  .plot3 .btnCTA-blue:after {\\r\\n    width: 13px;\\r\\n  }\\r\\n}\\r\\n@media (min-width: 65em) { /* 1040px */\\r\\n  .plot3 h2 {\\r\\n    font-size: 36px;\\r\\n    font-size: 2.25rem;\\r\\n    line-height: 1.2em;\\r\\n  }\\r\\n  .plot3 p {\\r\\n    font-size: 28px;\\r\\n    font-size: 1.75rem;\\r\\n    line-height: 1.3em;\\r\\n  }\\r\\n  .plot3 .textCTA-light,\\r\\n  .plot3 .textCTA-dark,\\r\\n  .plot3 .textCTA-blue {\\r\\n    font-size: 28px;\\r\\n    font-size: 1.75rem;\\r\\n    line-height: 1.3em;\\r\\n  }\\r\\n  .plot3 .btnCTA-blue {\\r\\n    font-size: 24px;\\r\\n    font-size: 1.5rem;\\r\\n    line-height: 1.2em;\\r\\n  }\\r\\n}\\r\\n\\r\\n\\r\\n.plot3-hero {\\r\\n  position: relative;\\r\\n  overflow: hidden;\\r\\n  background-color: transparent;\\r\\n}\\r\\n.plot3-hero .content {\\r\\n  padding: 40px 20px;\\r\\n  text-align: center;\\r\\n}\\r\\n.plot3-hero h1 {\\r\\n  margin: 0 0 20px;\\r\\n  max-width: 100%;\\r\\n  font-size: 36px;\\r\\n  font-size: 2.25rem;\\r\\n  line-height: 1.2em;\\r\\n  font-family: \\'gilroy\\', Arial, sans-serif;\\r\\n}\\r\\n.plot3-hero h1 .highlight {\\r\\n  color: #0345ff;\\r\\n}\\r\\n@supports (-webkit-background-clip: text) or (-moz-background-clip: text) {\\r\\n  .plot3-hero h1 .highlight {\\r\\n    background: #0345ff linear-gradient(135deg, rgb(3,69,255) 0%, rgb(142,34,167) 100%);\\r\\n    background-size: 100%;\\r\\n    -webkit-background-clip: text;\\r\\n    -moz-background-clip: text;\\r\\n    -webkit-text-fill-color: transparent;\\r\\n    -moz-text-fill-color: transparent;\\r\\n    box-decoration-break: clone;\\r\\n    -webkit-box-decoration-break: clone;\\r\\n  }\\r\\n}\\r\\n.plot3-hero p {\\r\\n  margin: 0;\\r\\n  max-width: 100%;\\r\\n}\\r\\n.plot3-hero-cta {\\r\\n  display: flex;\\r\\n  flex-direction: row;\\r\\n  flex-wrap: wrap;\\r\\n  align-items: center;\\r\\n  justify-content: center;\\r\\n}\\r\\n.plot3-hero-cta > .btnCTA-blue {\\r\\n  margin: 0 40px 20px 0;\\r\\n}\\r\\n.plot3-hero-cta > .textCTA-blue:last-child {\\r\\n  margin: 0 0 20px 0;\\r\\n}\\r\\n.plot3-hero-device {\\r\\n  display: flex;\\r\\n  flex-direction: row;\\r\\n  align-items: center;\\r\\n  width: 80%;\\r\\n  max-width: 600px;\\r\\n  margin: 40px auto;\\r\\n}\\r\\n.plot3-hero-device-container {\\r\\n  position: relative;\\r\\n  width: 100%;\\r\\n  padding-bottom: 76.451%;\\r\\n}\\r\\n.plot3-hero-device-frame {\\r\\n  position: absolute;\\r\\n  height: 100%;\\r\\n  width: 100%;\\r\\n  padding: 5%;\\r\\n  border-radius: 4.64% / 6.04%;\\r\\n  background-color: #e6e6e6;\\r\\n  background-image: linear-gradient(135deg, #e6e6e6 0%, #d6d6d6 100%);\\r\\n  box-shadow: inset -2px -2px 0 rgba(0,0,0,.05), inset 1px 1px 0 rgba(255,255,255,.5), 0 16px 24px rgba(0,0,0,.2), 0 6px 3px rgba(0,0,0,.5);\\r\\n}\\r\\n.plot3-hero-device-images {\\r\\n  position: relative;\\r\\n  height: 100%;\\r\\n  width: 100%;\\r\\n  background: #e6e6e6;\\r\\n  overflow: hidden;\\r\\n}\\r\\n.plot3-hero-device-images:before {\\r\\n  content: \"\";\\r\\n  display: block;\\r\\n  position: absolute;\\r\\n  z-index: 6;\\r\\n  height: 100%;\\r\\n  width: 100%;\\r\\n  box-shadow: inset 1px 0 1px rgba(0,0,0,.07), inset -1px 0 2px rgba(0,0,0,.07), inset 0 1px 2px rgba(0,0,0,.07), inset 0 -1px 2px rgba(0,0,0,.07), inset 0 0 20px rgba(255,255,255,.2);\\r\\n}\\r\\n.plot3-hero-device-images img {\\r\\n  display: block;\\r\\n  position: absolute;\\r\\n  z-index: 0;\\r\\n  top: 0;\\r\\n  right: 0;\\r\\n  height: 100%;\\r\\n  width: 100%;\\r\\n  animation-name: pan-images;\\r\\n  animation-duration: 20s;\\r\\n  animation-timing-function: ease-in;\\r\\n  animation-iteration-count: infinite;\\r\\n}\\r\\n.plot3-hero-device-images img:nth-of-type(1) {\\r\\n  z-index: 4;\\r\\n  animation-delay: 5s;\\r\\n}\\r\\n.plot3-hero-device-images img:nth-of-type(2) {\\r\\n  z-index: 3;\\r\\n  animation-delay: 10s;\\r\\n}\\r\\n.plot3-hero-device-images img:nth-of-type(3) {\\r\\n  z-index: 2;\\r\\n  animation-delay: 15s;\\r\\n}\\r\\n.plot3-hero-device-images img:nth-of-type(4) {\\r\\n  z-index: 1;\\r\\n  animation-delay: 20s;\\r\\n}\\r\\n@media (min-width: 40em) { /* 640px */\\r\\n  .plot3-hero h1 {\\r\\n    margin: 0 0 20px;\\r\\n    font-size: 48px;\\r\\n    font-size: 3rem;\\r\\n    line-height: 1.1em;\\r\\n  }\\r\\n  .plot3-hero p {\\r\\n    margin: 0 0 20px;\\r\\n  }\\r\\n  .plot3-hero-cta > .textCTA-dark {\\r\\n    margin-right: 40px;\\r\\n  }\\r\\n  .plot3-hero-cta > .textCTA-dark:last-child {\\r\\n    margin-right: 0;\\r\\n  }\\r\\n}\\r\\n@media (min-width: 50em) { /* 800px */\\r\\n  .plot3-hero .content {\\r\\n    position: static;\\r\\n    padding: 60px 20px;\\r\\n    text-align: left;\\r\\n  }\\r\\n  .plot3-hero-device {\\r\\n    position: absolute;\\r\\n    left: calc(50% + 40px);\\r\\n    top: 11.5%;\\r\\n    height: 77%;\\r\\n    width: calc(50% - 40px + 200px);\\r\\n    max-width: 800px;\\r\\n    margin: 0;\\r\\n  }\\r\\n  .plot3-hero h1 {\\r\\n    margin: 0 0 40px;\\r\\n    max-width: calc(50% - 40px);\\r\\n  }\\r\\n  .plot3-hero p {\\r\\n    max-width: calc(50% - 40px);\\r\\n  }\\r\\n  .plot3-hero-cta {\\r\\n    max-width: calc(50% - 40px);\\r\\n    justify-content: flex-start;\\r\\n  }\\r\\n}\\r\\n@media (min-width: 58em) { /* 928px */\\r\\n  .plot3-hero .content {\\r\\n    position: static;\\r\\n    padding: 80px 20px;\\r\\n  }\\r\\n  .plot3-hero h1 {\\r\\n    font-size: 44px;\\r\\n    font-size: 2.75rem;\\r\\n    line-height: 1em;\\r\\n  }\\r\\n}\\r\\n@media (min-width: 65em) { /* 1040px */\\r\\n  .plot3-hero .content {\\r\\n    padding: 80px 20px;\\r\\n  }\\r\\n  .plot3-hero h1 {\\r\\n    margin: 0 0 40px;\\r\\n    font-size: 54px;\\r\\n    font-size: 3.375rem;\\r\\n    line-height: 1em;\\r\\n  }\\r\\n  .plot3-hero p {\\r\\n    margin: 0 0 30px;\\r\\n  }\\r\\n  .plot3-hero-device {\\r\\n    width: calc(50% - 40px + 400px);\\r\\n    max-width: 700px;\\r\\n  }\\r\\n}\\r\\n@media (min-width: 76em) { /* 1216px */\\r\\n  .plot3-hero .content {\\r\\n    padding: 12% 20px;\\r\\n  }\\r\\n  .plot3-hero-device {\\r\\n    width: calc(50% - 40px + 200px);\\r\\n    max-width: 800px;\\r\\n  }\\r\\n}\\r\\n@media (min-width: 84em) { /* 1344px */\\r\\n  .plot3-hero .content {\\r\\n    padding: 160px 20px;\\r\\n  }\\r\\n}\\r\\n@keyframes pan-images {\\r\\n  0% {right: 0; z-index: 5;} /* 5s */\\r\\n  2% {right: -100%; top: 0; opacity: .8; z-index: 5;} /* 7.5s */\\r\\n  15% {right: -100%; top: 100%; z-index: 0; opacity: .8;}\\r\\n  20% {right: 0; top: 0; z-index: 0; opacity: 1;}\\r\\n  50% {right: 100%; top: 0; opacity: .8; z-index: 0;}\\r\\n  52% {right: 0%; top: 0; opacity: 1;}\\r\\n}\\r\\n\\r\\n\\r\\n\\r\\n.plot3-experts {\\r\\n  background: linear-gradient(80deg, #16dfda 0%, #0345ff 60%, #0345ff 80%, #8e22a7 100%);\\r\\n}\\r\\n.plot3-experts .content {\\r\\n  padding: 40px 20px 44px;\\r\\n}\\r\\n.plot3-experts h2,\\r\\n.plot3-experts p {\\r\\n  color: #fff;\\r\\n}\\r\\n.plot3-experts .sectionFigure {\\r\\n  position: relative;\\r\\n  width: 100%;\\r\\n  padding-bottom: 200px;\\r\\n  margin: 0 auto;\\r\\n}\\r\\n.plot3-experts-panels {\\r\\n  position: absolute;\\r\\n  top: 0;\\r\\n  left: 0;\\r\\n  margin: 0;\\r\\n  display: flex;\\r\\n  flex-direction: row;\\r\\n  height: 100%;\\r\\n  width: 100%;\\r\\n  cursor: pointer;\\r\\n}\\r\\n.plot3-experts-panels a {\\r\\n  position: relative;\\r\\n  display: flex;\\r\\n  height: 100%;\\r\\n  width: 20%;\\r\\n  overflow: hidden;\\r\\n  margin-right: 1px;\\r\\n  background-repeat: no-repeat;\\r\\n  background-position: center top;\\r\\n  background-size: cover;\\r\\n  border-radius: 4px;\\r\\n  filter: drop-shadow(0 0 4px rgba(0,0,0,.1));\\r\\n  transition: width .5s;\\r\\n  text-decoration: none;\\r\\n}\\r\\n.plot3-experts-panels a:before {\\r\\n  display: block;\\r\\n  position: absolute;\\r\\n  z-index: 2;\\r\\n  height: 100%;\\r\\n  width: 100%;\\r\\n  content: \"\";\\r\\n  background-color: #444;\\r\\n  mix-blend-mode: color;\\r\\n  transition: opacity .5s;\\r\\n}\\r\\n.plot3-experts-panels a:hover:before,\\r\\n.plot3-experts-panels a:focus:before {\\r\\n  opacity: 0;\\r\\n}\\r\\n.plot3-experts-panels a:last-child {\\r\\n    margin-right: 0;\\r\\n}\\r\\n.plot3-experts-panels a:hover,\\r\\n.plot3-experts-panels a:focus {\\r\\n  width: 50%;\\r\\n  text-decoration: none;\\r\\n  outline: none;\\r\\n}\\r\\n.plot3-experts-panels a .text {\\r\\n  display: none;\\r\\n}\\r\\n.plot3-experts-panels a:hover .text,\\r\\n.plot3-experts-panels a:focus .text {\\r\\n  display: block;\\r\\n  width: 100%;\\r\\n  padding: 12px;\\r\\n  margin-top: auto;\\r\\n  background-color: rgba(0,0,0,.7);\\r\\n  color: #fff;\\r\\n  font-weight: 400;\\r\\n  font-size: .875rem;\\r\\n  line-height: 1.2em;\\r\\n  animation-name: experts-panels-showText;\\r\\n  animation-duration: 1s;\\r\\n}\\r\\n.plot3-experts-panels a .name {\\r\\n  display: block;\\r\\n  font-weight: bold;\\r\\n}\\r\\n@media (min-width: 40em) { /* 640px */\\r\\n  .plot3-experts .sectionFigure {\\r\\n    width: 100%;\\r\\n    max-width: 600px;\\r\\n    padding-bottom: 200px;\\r\\n  }\\r\\n}\\r\\n@media (min-width: 50em) { /* 800px */\\r\\n  .plot3-experts .content {\\r\\n    padding: 50px 20px;\\r\\n  }\\r\\n  .plot3-experts-panels a:hover .text,\\r\\n  .plot3-experts-panels a:focus .text {\\r\\n    font-family: \\'gilroy\\', Arial, sans-serif;\\r\\n    font-weight: 300;\\r\\n    font-size: 1rem;\\r\\n    line-height: 1.2em;\\r\\n  }\\r\\n}\\r\\n@media (min-width: 65em) { /* 1040px */\\r\\n  .plot3-experts .content {\\r\\n    display: flex;\\r\\n    flex-direction: row-reverse;\\r\\n    justify-content: space-between;\\r\\n    align-items: center;\\r\\n  }\\r\\n  .plot3-experts .sectionText {\\r\\n    margin: 0;\\r\\n    width: calc(50% - 40px);\\r\\n    text-align: left;\\r\\n  }\\r\\n  .plot3-experts .sectionText *:last-child {\\r\\n    margin-bottom: 0;\\r\\n  }\\r\\n  .plot3-experts .sectionFigure {\\r\\n    margin: 0;\\r\\n    width: calc(50% - 40px);\\r\\n    padding-bottom: calc((50% - 40px) / 2);\\r\\n  }\\r\\n}\\r\\n@keyframes experts-panels-showText {\\r\\n  0% {opacity: 0;}\\r\\n  50% {opacity: 0;}\\r\\n  100% {opacity: 1}\\r\\n}\\r\\n\\r\\n\\r\\n\\r\\n.plot3-interactive {\\r\\n  position: relative;\\r\\n}\\r\\n.plot3-interactive:after {\\r\\n  content: \"\";\\r\\n  display: block;\\r\\n  position: absolute;\\r\\n  width: 100%;\\r\\n  height: 120px;\\r\\n  bottom: 0;\\r\\n  background: transparent linear-gradient(135deg, #0345ff 20%, #16dfda 80%);\\r\\n  z-index: 0;\\r\\n}\\r\\n.plot3-interactive .content {\\r\\n  position: relative;\\r\\n  z-index: 1;\\r\\n  padding: 40px 20px 40px;\\r\\n}\\r\\n.plot3-interactive .sectionText {\\r\\n  margin-bottom: 40px;\\r\\n}\\r\\n.plot3-interactive-video {\\r\\n  position: relative;\\r\\n  margin: 40px auto 20px;\\r\\n  width: 100%;\\r\\n  padding-bottom: 56.25%;\\r\\n  border-radius: 8px;\\r\\n  border: 1px solid transparent;\\r\\n  box-shadow: 0 0 20px rgba(0,0,0,.2);\\r\\n}\\r\\n.plot3-interactive-video .kWidgetIframeContainer {\\r\\n  position: absolute;\\r\\n  width: 100%;\\r\\n  height: 100%;\\r\\n  border-radius: 7px;\\r\\n  overflow: hidden;\\r\\n}\\r\\n.plot3-interactive-video:before {\\r\\n  content: \"\";\\r\\n  position: absolute;\\r\\n  z-index: -1;\\r\\n  top: 0;\\r\\n  right: 0;\\r\\n  bottom: 0;\\r\\n  left: 0;\\r\\n  margin: -1px;\\r\\n  border-radius: inherit;\\r\\n  background: transparent linear-gradient(135deg, #0345ff 20%, #16dfda 80%);\\r\\n}\\r\\n.plot3-interactive .textCTA-light {\\r\\n  margin: 20px auto 0;\\r\\n}\\r\\n@media (min-width: 41em) { /* 640px */\\r\\n  .plot3-interactive:after {\\r\\n    height: 180px;\\r\\n  }\\r\\n  .plot3-interactive-video {\\r\\n    width: 600px;\\r\\n    padding-bottom: 336.5px;\\r\\n  }\\r\\n}\\r\\n@media (min-width: 50em) { /* 800px */\\r\\n  .plot3-interactive .content {\\r\\n    padding: 80px 20px 40px;\\r\\n  }\\r\\n}\\r\\n\\r\\n\\r\\n.plot3-answers {\\r\\n  position: relative;\\r\\n}\\r\\n.plot3-answers:after {\\r\\n  content: \"\";\\r\\n  display: block;\\r\\n  position: absolute;\\r\\n  width: 100%;\\r\\n  height: 120px;\\r\\n  bottom: 0;\\r\\n  background: transparent linear-gradient(135deg, #d3002d 0%, #ee0000 30%, #f18901 100%);\\r\\n  z-index: 0;\\r\\n}\\r\\n.plot3-answers .content {\\r\\n  position: relative;\\r\\n  z-index: 1;\\r\\n  padding: 40px 20px;\\r\\n}\\r\\n.plot3-answers .sectionText {\\r\\n  margin-bottom: 40px;\\r\\n}\\r\\n.plot3-answers-video {\\r\\n  position: relative;\\r\\n  margin: 40px auto 20px;\\r\\n  border-radius: 8px;\\r\\n  border: 1px solid transparent;\\r\\n  width: 100%;\\r\\n  max-width: 700px;\\r\\n  box-shadow: 0 0 20px rgba(0,0,0,.2);\\r\\n}\\r\\n.plot3-answers-video video {\\r\\n  display: block;\\r\\n  width: 100%;\\r\\n  max-width: 700px;\\r\\n  border-radius: 7px;\\r\\n}\\r\\n.plot3-answers-video:before {\\r\\n  content: \"\";\\r\\n  position: absolute;\\r\\n  z-index: -1;\\r\\n  top: 0;\\r\\n  right: 0;\\r\\n  bottom: 0;\\r\\n  left: 0;\\r\\n  margin: -1px;\\r\\n  border-radius: inherit;\\r\\n  background: transparent linear-gradient(135deg, #d3002d 0%, #ee0000 30%, #f18901 100%);\\r\\n}\\r\\n.plot3-answers .textCTA-light {\\r\\n  margin: 20px auto 0;\\r\\n}\\r\\n@media (min-width: 41em) { /* 640px */\\r\\n  .plot3-answers:after {\\r\\n    height: 180px;\\r\\n  }\\r\\n}\\r\\n@media (min-width: 50em) { /* 800px */\\r\\n  .plot3-answers .content {\\r\\n    padding: 80px 20px 40px;\\r\\n  }\\r\\n}\\r\\n\\r\\n\\r\\n\\r\\n.plot3-live {\\r\\n  position: relative;\\r\\n}\\r\\n.plot3-live:after {\\r\\n  content: \"\";\\r\\n  position: absolute;\\r\\n  z-index: 0;\\r\\n  bottom: 0;\\r\\n  left: 0;\\r\\n  display: block;\\r\\n  height: 5.5rem;\\r\\n  width: 100%;\\r\\n  background-image: linear-gradient(90deg, #16dfda 30%, #0345ff 200%);\\r\\n}\\r\\n.plot3-live .content {\\r\\n  position: relative;\\r\\n  z-index: 1;\\r\\n  padding: 40px 20px 0;\\r\\n}\\r\\n.plot3-live .sectionFigure {\\r\\n  position: relative;\\r\\n  margin: 40px 0;\\r\\n  width: 100%;\\r\\n  display: flex;\\r\\n  flex-direction: row;\\r\\n  align-items: flex-end;\\r\\n  justify-content: center;\\r\\n}\\r\\n.plot3-live .sectionFigure img {\\r\\n  display: block;\\r\\n  margin: 0;\\r\\n  width: 50%;\\r\\n  border-radius: 50%;\\r\\n  box-shadow: 0 0 20px rgba(0,0,0,.2);\\r\\n}\\r\\n.plot3-live .sectionFigure p {\\r\\n  display: block;\\r\\n  margin-bottom: 20px;\\r\\n  font-size: 16px;\\r\\n  font-size: 1rem;\\r\\n  line-height: 1.5em;\\r\\n  text-align: left;\\r\\n}\\r\\n.plot3-live .textCTA-dark {\\r\\n  margin: 0 auto;\\r\\n  line-height: 5.5rem;\\r\\n}\\r\\n@media (min-width: 50em) { /* 800px */\\r\\n  .plot3-live:after {\\r\\n    background-image: linear-gradient(90deg, #16dfda 30%, #0345ff 70%);\\r\\n  }\\r\\n  .plot3-live .content {\\r\\n    padding: 80px 20px 0 20px;\\r\\n  }\\r\\n  .plot3-live .sectionText {\\r\\n    margin: 0;\\r\\n    width: calc(50% - 40px);\\r\\n    text-align: left;\\r\\n  }\\r\\n  .plot3-live .sectionText *:last-child {\\r\\n    margin-bottom: 0;\\r\\n  }\\r\\n  .plot3-live .sectionFigure {\\r\\n    display: block;\\r\\n    position: absolute;\\r\\n    right: 20px;\\r\\n    bottom: -60px;\\r\\n    margin: 0;\\r\\n    width: calc(50% - 40px);\\r\\n    max-width: 100%;\\r\\n  }\\r\\n  .plot3-live .sectionFigure img {\\r\\n    width: 100%;\\r\\n    margin: 0;\\r\\n  }\\r\\n  .plot3-live .sectionFigure p {\\r\\n    position: absolute;\\r\\n    bottom: 20px;\\r\\n    right: 80%;\\r\\n    margin-bottom: 0;\\r\\n    font-size: 20px;\\r\\n    font-size: 1.25rem;\\r\\n    line-height: 1.3em;\\r\\n    white-space: nowrap;\\r\\n  }\\r\\n  .plot3-live .textCTA-dark {\\r\\n    margin: 0;\\r\\n  }\\r\\n}\\r\\n@media (min-width: 78em) { /* 1248px */\\r\\n  .plot3-live .content {\\r\\n    padding: 120px 20px 0 20px;\\r\\n  }\\r\\n}\\r\\n\\r\\n\\r\\n.plot3-certification {\\r\\n  border-bottom: 6px solid;\\r\\n  border-image-slice: 1;\\r\\n  border-image-source: linear-gradient(90deg, #16dfda 30%, #0345ff 70%);\\r\\n  background-image: linear-gradient(0deg, rgba(23,210,204,.2) 0%, rgba(23,210,204,0) 100%);\\r\\n}\\r\\n.plot3-certification .content {\\r\\n  padding: 40px 20px 44px;\\r\\n}\\r\\n.plot3-certification .sectionFigure {\\r\\n  margin: 0 auto;\\r\\n  mix-blend-mode: darken;\\r\\n  width: 80%;\\r\\n  max-width: 600px;\\r\\n}\\r\\n.plot3-certification .sectionFigure img {\\r\\n  display: block;\\r\\n  max-width: 100%;\\r\\n}\\r\\n.plot3-certification .textCTA-dark {\\r\\n  margin: 0 auto 40px;\\r\\n}\\r\\n@media (min-width: 50em) { /* 800px */\\r\\n  .plot3-certification .content {\\r\\n    padding: 140px 20px 80px 20px;\\r\\n    display: flex;\\r\\n    flex-direction: row-reverse;\\r\\n    justify-content: space-between;\\r\\n    align-items: center;\\r\\n  }\\r\\n  .plot3-certification .sectionText {\\r\\n    margin: 0;\\r\\n    width: calc(50% - 40px);\\r\\n    text-align: left;\\r\\n  }\\r\\n  .plot3-certification .sectionText *:last-child {\\r\\n    margin-bottom: 0;\\r\\n  }\\r\\n  .plot3-certification .sectionFigure {\\r\\n    margin: 0;\\r\\n    width: calc(50% - 40px);\\r\\n  }\\r\\n  .plot3-certification .textCTA-dark {\\r\\n    margin: 0;\\r\\n  }\\r\\n}\\r\\n\\r\\n\\r\\n.plot3-cta .content {\\r\\n  padding: 40px 20px 44px;\\r\\n}\\r\\n.plot3-cta h2 {\\r\\n  margin-bottom: 20px;\\r\\n}\\r\\n.plot3-cta-btnGroup {\\r\\n  display: flex;\\r\\n  flex-direction: row;\\r\\n  justify-content: center;\\r\\n  align-items: center;\\r\\n  margin: 0 auto;\\r\\n}\\r\\n.plot3-cta .sectionText h2 {\\r\\n  margin: 0 0 20px;\\r\\n}\\r\\n.plot3-cta-btnGroup .btnCTA-blue {\\r\\n  margin: 0 40px 0 0;\\r\\n}\\r\\n.plot3-cta-btnGroup .textCta-blue {\\r\\n  margin: 0;\\r\\n}\\r\\n@media (min-width: 50em) { /* 800px */\\r\\n  .plot3-cta .content {\\r\\n    padding: 80px 20px;\\r\\n  }\\r\\n  .plot3-cta .sectionText h2 {\\r\\n    margin: 0 0 40px;\\r\\n  }\\r\\n}\\r\\n\\r\\n\\r\\n.plot3-diversity {\\r\\n  background: linear-gradient(-70deg, #16dfda 0%, #0345ff 100%);\\r\\n}\\r\\n.plot3-diversity .content {\\r\\n  padding: 40px 20px 44px;\\r\\n}\\r\\n.plot3-diversity h2,\\r\\n.plot3-diversity p {\\r\\n  color: #fff;\\r\\n}\\r\\n.plot3-diversity .sectionFigure {\\r\\n  margin: 0 auto;\\r\\n  width: 80%;\\r\\n  max-width: 440px;\\r\\n}\\r\\n.plot3-diversity .sectionFigure img {\\r\\n  display: block;\\r\\n  max-width: 100%;\\r\\n}\\r\\n.plot3-diversity .textCTA-light {\\r\\n  margin: 0 auto 40px;\\r\\n}\\r\\n@media (min-width: 50em) { /* 800px */\\r\\n  .plot3-diversity {\\r\\n    background: linear-gradient(-70deg, #16dfda 0%, #0345ff 60%, #0345ff 80%, #8e22a7 100%);\\r\\n  }\\r\\n  .plot3-diversity .content {\\r\\n    padding: 80px 20px;\\r\\n    display: flex;\\r\\n    justify-content: space-between;\\r\\n    align-items: center;\\r\\n  }\\r\\n  .plot3-diversity .sectionText {\\r\\n    margin: 0;\\r\\n    width: calc(50% - 40px);\\r\\n    text-align: left;\\r\\n  }\\r\\n  .plot3-diversity .sectionText *:last-child {\\r\\n    margin-bottom: 0;\\r\\n  }\\r\\n  .plot3-diversity .sectionFigure {\\r\\n    margin: 0;\\r\\n    width: calc(50% - 40px);\\r\\n  }\\r\\n  .plot3-diversity .textCTA-light {\\r\\n    margin: 0;\\r\\n  }\\r\\n}\\r\\n/* end .plot3 */\\r\\n\\r\\n</style>\\r\\n\\r\\n\\r\\n\\r\\n<span class=\"plot3\" id=\"plot3\">\\r\\n\\r\\n    <section class=\"plot3-hero\">\\r\\n      <div class=\"content\">\\r\\n\\r\\n        <h1>The <span class=\"highlight\">learning platform</span> your tech teams need to <span class=\"nowrap\">stay ahead.</span></h1>\\r\\n        <p>More than 60% of all Fortune 100 companies trust O&rsquo;Reilly to help their teams learn the technologies of today&mdash;and be ready for what&rsquo;s next. We can help <span class=\"nowrap\">yours too.</span></p>\\r\\n\\r\\n        <div class=\"plot3-hero-device\">\\r\\n          <div class=\"plot3-hero-device-container\">\\r\\n            <figure class=\"plot3-hero-device-frame\">\\r\\n              <div class=\"plot3-hero-device-images\" id=\"plot3-hero-device-images\">\\r\\n                <img src=\"https://cdn.oreillystatic.com/oreilly/images/device-image1-800x600-20210224.jpg\" alt=\"\">\\r\\n                <img src=\"https://cdn.oreillystatic.com/oreilly/images/device-image2-800x600-20210224.jpg\" alt=\"\">\\r\\n                <img src=\"https://cdn.oreillystatic.com/oreilly/images/device-image3-800x600-20210224.jpg\" alt=\"\">\\r\\n                <img src=\"https://cdn.oreillystatic.com/oreilly/images/device-image4-800x600-20210224.jpg\" alt=\"\">\\r\\n              </div>\\r\\n            </figure>\\r\\n          </div>\\r\\n        </div>\\r\\n\\r\\n        <div class=\"plot3-hero-cta\">\\r\\n          <a href=\"https://www.oreilly.com/online-learning/enterprise.html\" class=\"btnCTA-blue\"><span class=\"inner\">Get a demo for your teams</span></a>\\r\\n          <a href=\"https://learning.oreilly.com/p/register/\" class=\"textCTA-blue secondary\"><span class=\"inner\">Try it free</span></a>\\r\\n        </div>\\r\\n\\r\\n      </div>\\r\\n    </section>\\r\\n\\r\\n\\r\\n    <section class=\"plot3-experts\">\\r\\n      <div class=\"content\">\\r\\n        <div class=\"sectionText\">\\r\\n          <h2>Sharing the knowledge of innovators for <span class=\"nowrap\">over 40 years</span></h2>\\r\\n\\r\\n          <p>From books to leading tech conferences to a groundbreaking online learning platform, we&rsquo;ve focused on creating the best technical learning content for more than four decades. Your teams can benefit from that experience.</p>\\r\\n        </div>\\r\\n\\r\\n        <div class=\"sectionFigure\">\\r\\n          <div class=\"plot3-experts-panels\">\\r\\n            <a href=\"https://learning.oreilly.com/search/?query=author%3A%22Arianne%20Dee%22&extended_publisher_data=true&highlight=true&include_assessments=false&include_case_studies=true&include_courses=true&include_playlists=true&include_collections=true&include_notebooks=true&include_sandboxes=true&include_scenarios=true&is_academic_institution_account=false&source=suggestion&sort=date_added&facet_json=true&json_facets=true&page=0&include_facets=false\" style=\"background-image: url(https://cdn.oreillystatic.com/images/live-online-training/39040-720x720.jpg)\">\\r\\n              <div class=\"text\">\\r\\n                <span class=\"name\">Arianne Dee</span>\\r\\n                <span class=\"affiliation\">University of British Columbia</span>\\r\\n              </div>\\r\\n            </a>\\r\\n            <a href=\"https://learning.oreilly.com/search/?query=author%3A%22Bruno%20Gon%C3%A7alves%22&extended_publisher_data=true&highlight=true&include_assessments=false&include_case_studies=true&include_courses=true&include_playlists=true&include_collections=true&include_notebooks=true&include_sandboxes=true&include_scenarios=true&is_academic_institution_account=false&source=user&sort=date_added&facet_json=true&json_facets=true&page=0&include_facets=false\" style=\"background-image: url(https://cdn.oreillystatic.com/images/live-online-training/39420-720x720.jpg)\">\\r\\n              <div class=\"text\">\\r\\n                <span class=\"name\">Bruno Gon&ccedil;alves</span>\\r\\n                <span class=\"affiliation\">Senior Data Scientist</span>\\r\\n              </div>\\r\\n            </a>\\r\\n            <a href=\"https://learning.oreilly.com/search/?query=author%3A%22Kelsey%20Hightower%22&extended_publisher_data=true&highlight=true&include_assessments=false&include_case_studies=true&include_courses=true&include_playlists=true&include_collections=true&include_notebooks=true&include_sandboxes=true&include_scenarios=true&is_academic_institution_account=false&source=user&sort=date_added&facet_json=true&json_facets=true&page=0&include_facets=false\" style=\"background-image: url(https://cdn.oreillystatic.com/oreilly/images/kelsey_hightower_color_400x400.jpg)\">\\r\\n              <div class=\"text\">\\r\\n                <span class=\"name\">Kelsey Hightower</span>\\r\\n                <span class=\"affiliation\">Google Cloud Platform</span>\\r\\n              </div>\\r\\n            </a>\\r\\n            <a href=\"https://learning.oreilly.com/search/?query=author%3A%22Sari%20Greene%22&extended_publisher_data=true&highlight=true&include_assessments=false&include_case_studies=true&include_courses=true&include_playlists=true&include_collections=true&include_notebooks=true&include_sandboxes=true&include_scenarios=true&is_academic_institution_account=false&source=user&sort=date_added&facet_json=true&json_facets=true&page=0&include_facets=false\" style=\"background-image: url(https://cdn.oreillystatic.com/images/live-online-training/38263-720x720.jpg)\">\\r\\n              <div class=\"text\">\\r\\n                <span class=\"name\">Sari Greene</span>\\r\\n                <span class=\"affiliation\">Cybersecurity practitioner</span>\\r\\n              </div>\\r\\n            </a>\\r\\n            <a href=\"https://learning.oreilly.com/search/?query=author%3A%22Neal%20Ford%22&extended_publisher_data=true&highlight=true&include_assessments=false&include_case_studies=true&include_courses=true&include_playlists=true&include_collections=true&include_notebooks=true&include_sandboxes=true&include_scenarios=true&is_academic_institution_account=false&source=user&sort=date_added&facet_json=true&json_facets=true&page=0&include_facets=false\" style=\"background-image: url(https://cdn.oreillystatic.com/images/live-online-training/38528-720x720.jpg)\">\\r\\n              <div class=\"text\">\\r\\n                <span class=\"name\">Neal Ford</span>\\r\\n                <span class=\"affiliation\">Software Architect</span>\\r\\n              </div>\\r\\n            </a>\\r\\n            <a href=\"https://learning.oreilly.com/search/?query=author%3A%22Ken%20Kousen%22&extended_publisher_data=true&highlight=true&include_assessments=false&include_case_studies=true&include_courses=true&include_playlists=true&include_collections=true&include_notebooks=true&include_sandboxes=true&include_scenarios=true&is_academic_institution_account=false&source=user&sort=date_added&facet_json=true&json_facets=true&page=0&include_facets=false\" style=\"background-image: url(https://cdn.oreillystatic.com/oreilly/images/ken-kousen-400x400.jpg)\">\\r\\n              <div class=\"text\">\\r\\n                <span class=\"name\">Ken Kousen</span>\\r\\n                <span class=\"affiliation\">Java Champion</span>\\r\\n              </div>\\r\\n            </a>\\r\\n          </div>\\r\\n        </div>\\r\\n\\r\\n      </div>\\r\\n    </section>\\r\\n\\r\\n\\r\\n    <section class=\"plot3-interactive\">\\r\\n      <div class=\"content\">\\r\\n        <div class=\"sectionText\">\\r\\n          <h2>Learning by doing is the best way to grasp new technologies</h2>\\r\\n\\r\\n          <p>With interactive learning, teams get hands-on experience with tech like Kubernetes, Python, Docker, Java, and more&mdash;in safe live dev environments. So they&rsquo;re more comfortable putting it to work in real-world situations.</p>\\r\\n        </div>\\r\\n\\r\\n        <div class=\"plot3-interactive-video\">\\r\\n          <script src=\"https://cdnapisec.kaltura.com/p/1681692/sp/168169200/embedIframeJs/uiconf_id/47268383/partner_id/1681692\"></script>\\r\\n          <div id=\"kaltura_player_1614619846\" style=\"width: 100%; height: 100%;\"></div>\\r\\n          <script>\\r\\n          kWidget.embed({\\r\\n            \"targetId\": \"kaltura_player_1614619846\",\\r\\n            \"wid\": \"_1681692\",\\r\\n            \"uiconf_id\": 47268383,\\r\\n            \"flashvars\": {},\\r\\n            \"cache_st\": 1614619846,\\r\\n            \"entry_id\": \"1_l4kl79pc\"\\r\\n          });\\r\\n          </script>\\r\\n        </div>\\r\\n\\r\\n        <a href=\"https://www.oreilly.com/online-learning/intro-interactive-learning.html\" class=\"textCTA-light\"><span class=\"inner\">See how it works</span></a>\\r\\n      </div>\\r\\n    </section>\\r\\n\\r\\n\\r\\n    <section class=\"plot3-answers sectionBreak\">\\r\\n      <div class=\"content\">\\r\\n        <div class=\"sectionText\">\\r\\n          <h2>Teams don&rsquo;t get stuck when they have Answers they  <span class=\"nowrap\">can trust</span></h2>\\r\\n\\r\\n          <p>Anyone can use a search engine. But can they trust what they find? With Answers, your teams can ask any tech question and instantly get the best answers from O&rsquo;Reilly&rsquo;s renowned content. So they find trusted solutions they can put to work immediately.</p>\\r\\n        </div>\\r\\n\\r\\n        <div class=\"plot3-answers-video\">\\r\\n          <video src=\"https://cdn.oreillystatic.com/oreilly/videos/answers_animation_small_v1.mp4\" type=\"video/mp4\" muted autoplay playsinline loop></video>\\r\\n        </div>\\r\\n\\r\\n        <a href=\"https://www.oreilly.com/online-learning/feature-answers.html\" class=\"textCTA-light\"><span class=\"inner\">Start learning smarter</span></a>\\r\\n      </div>\\r\\n    </section>\\r\\n\\r\\n\\r\\n    <section class=\"plot3-live\">\\r\\n      <div class=\"content\">\\r\\n        <div class=\"sectionText\">\\r\\n          <h2>Live training courses keep your organization ahead of <span class=\"nowrap\">what&rsquo;s next</span></h2>\\r\\n\\r\\n          <p>Your teams have access to nearly 1,000 live online courses and events every year, led by top experts in AI, software architecture, cloud, data, programming, and more. And they can ask questions along <span class=\"nowrap\">the way.</span></p>\\r\\n\\r\\n          <div class=\"sectionFigure\">\\r\\n            <img src=\"https://cdn.oreillystatic.com/oreilly/images/home_plot3_lot_600x600.jpg\" alt=\"\">\\r\\n            <p>Kai Holnes, Thoughtworks</p>\\r\\n          </div>\\r\\n\\r\\n          <a href=\"https://www.oreilly.com/online-learning/live-online-sessions.html\" class=\"textCTA-dark\"><span class=\"inner\">Learn from experts</span></a>\\r\\n        </div>\\r\\n      </div>\\r\\n    </section>\\r\\n\\r\\n\\r\\n    <section class=\"plot3-certification\">\\r\\n      <div class=\"content\">\\r\\n        <div class=\"sectionText\">\\r\\n          <h2>Certified teams are teams you can <span class=\"nowrap\">count on</span></h2>\\r\\n\\r\\n          <p>A certification means you can trust they&rsquo;ve mastered the skills your organization needs. We help your people prep for their exams with direct paths to the official materials and interactive <span class=\"nowrap\">practice tests.</span></p>\\r\\n\\r\\n          <a href=\"https://www.oreilly.com/online-learning/feature-certification.html\" class=\"textCTA-dark\"><span class=\"inner\">Help prove their proficiency</span></a>\\r\\n        </div>\\r\\n\\r\\n        <div class=\"sectionFigure\">\\r\\n          <img src=\"https://cdn.oreillystatic.com/oreilly/images/cert-vendor-logos.png\" alt=\"\">\\r\\n        </div>\\r\\n      </div>\\r\\n    </section>\\r\\n\\r\\n\\r\\n    <section class=\"plot3-cta\">\\r\\n      <div class=\"content\">\\r\\n        <div class=\"sectionText\">\\r\\n          <h2>See how O&rsquo;Reilly can help your tech teams <span class=\"nowrap\">stay ahead</span></h2>\\r\\n\\r\\n          <div class=\"plot3-cta-btnGroup\">\\r\\n            <a href=\"https://www.oreilly.com/online-learning/enterprise.html\" class=\"btnCTA-blue\"><span class=\"inner\">Request a  demo</span></a>\\r\\n            <a href=\"https://learning.oreilly.com/p/register/\" class=\"textCTA-blue\"><span class=\"inner\">Try it free</span></a>\\r\\n          </div>\\r\\n        </div>\\r\\n      </div>\\r\\n    </section>\\r\\n\\r\\n\\r\\n    <section class=\"plot3-diversity\">\\r\\n      <div class=\"content\">\\r\\n        <div class=\"sectionText\">\\r\\n          <h2>Supporting diversity in tech delivers true innovation</h2>\\r\\n\\r\\n          <p>We&rsquo;re working to increase opportunities in technology for people from underrepresented groups by actively recruiting diverse speakers, authors, interactive developers, instructors, and more. Because we&rsquo;ll all benefit <span class=\"nowrap\">from it.</span></p>\\r\\n\\r\\n          <a href=\"https://www.oreilly.com/diversity/\" class=\"textCTA-light\"><span class=\"inner\">Join us</span></a>\\r\\n        </div>\\r\\n\\r\\n        <div class=\"sectionFigure\">\\r\\n          <img src=\"https://cdn.oreillystatic.com/oreilly/images/diversity_jobs_2021.png\" alt=\"DiversityJobs Top Employer 2021\">\\r\\n        </div>\\r\\n      </div>\\r\\n    </section>\\r\\n</span>\\r\\n\\r\\n\\r\\n<script src=\"https://cdn.oreillystatic.com/ajax/libs/jquery/3.3.1/jquery.min.js\"></script>\\r\\n\\r\\n<script>\\r\\ndocument.addEventListener(\"DOMContentLoaded\", function(event) {\\r\\n\\r\\n  //GA event for \"Let\\'s talk CTA\"\\r\\n  $(\\'#letsTalk\\').on(\\'click\\', function(e) {\\r\\n    dataLayer.push({\\r\\n      \\'event\\': \\'eventTracker\\',\\r\\n      \\'eventCat\\':\\'marketing\\',\\r\\n      \\'eventAct\\':\\'click\\',\\r\\n      \\'eventLbl\\':\\'lets talk\\',\\r\\n      \\'eventVal\\':0, \\r\\n      \\'nonInteraction\\': 0,\\r\\n    });\\r\\n  });\\r\\n\\r\\n  //GA event for \"Learn more CTA\"\\r\\n  $(\\'#onlineLearning-cta\\').on(\\'click\\', function(e) {\\r\\n    dataLayer.push({\\r\\n      \\'event\\': \\'eventTracker\\',\\r\\n      \\'eventCat\\':\\'marketing\\',\\r\\n      \\'eventAct\\':\\'click\\',\\r\\n      \\'eventLbl\\':\\'learn more\\',\\r\\n      \\'eventVal\\':0, \\r\\n      \\'nonInteraction\\': 0,\\r\\n    });\\r\\n  });\\r\\n\\r\\n  //GA event for business hero \"Get Ahead CTA\"\\r\\n  $(\\'#getAhead-cta\\').on(\\'click\\', function(e) {\\r\\n    dataLayer.push({\\r\\n      \\'event\\': \\'eventTracker\\',\\r\\n      \\'eventCat\\':\\'marketing\\',\\r\\n      \\'eventAct\\':\\'click\\',\\r\\n      \\'eventLbl\\':\\'get ahead\\',\\r\\n      \\'eventVal\\':0, \\r\\n      \\'nonInteraction\\': 0,\\r\\n    });\\r\\n  });\\r\\n\\r\\n  //GA event for \"Building the future > Request a demo\" CTA\\r\\n  $(\\'#buildingRequestDemo-cta\\').on(\\'click\\', function(e) {\\r\\n    dataLayer.push({\\r\\n      \\'event\\': \\'eventTracker\\',\\r\\n      \\'eventCat\\':\\'marketing\\',\\r\\n      \\'eventAct\\':\\'click\\',\\r\\n      \\'eventLbl\\':\\'request a demo\\',\\r\\n      \\'eventVal\\':0, \\r\\n      \\'nonInteraction\\': 0,\\r\\n    });\\r\\n  });\\r\\n\\r\\n});\\r\\n</script>\\r\\n\\r\\n\\r\\n\\r\\n  </main>\\r\\n\\r\\n\\r\\n  <footer id=\"footer\" class=\"footer\">\\r\\n    <div class=\"content\">\\r\\n\\r\\n      <div class=\"footer-main\" aria-label=\"company info\">\\r\\n        <div class=\"footer-mainLeft\">\\r\\n          <div class=\"footer-mainLeftOne\">\\r\\n            <div class=\"footer-approach\">\\r\\n              <h2 class=\"footer-header\"><a href=\"/about/\">About O&rsquo;Reilly</a></h2>\\r\\n              <ul class=\"footer-links\">\\r\\n                <li><a href=\"/work-with-us.html\">Teach/write/train</a></li>\\r\\n                <li><a href=\"/careers/\">Careers</a></li>\\r\\n                <li><a href=\"/partner/signup.csp\">Community partners</a></li>\\r\\n                <li><a href=\"/affiliates/\">Affiliate program</a></li>\\r\\n                <li><a href=\"/online-learning/rfp.html\">Submit an RFP</a></li>\\r\\n                <li><a href=\"/diversity/\">Diversity</a></li>\\r\\n                <li><a href=\"/content-marketing-solutions.html\" id=\"footerSponsorshipLink\">O&rsquo;Reilly for marketers</a></li>\\r\\n              </ul>\\r\\n            </div>\\r\\n          </div>\\r\\n          <div class=\"footer-mainLeftTwo\">\\r\\n            <div class=\"footer-contact\">\\r\\n              <h2 class=\"footer-header\"><a href=\"/online-learning/support/\">Support</a></h2>\\r\\n\\r\\n              <ul class=\"footer-links\">\\r\\n                <li><a href=\"/about/contact.html\">Contact us</a></li>\\r\\n                <li><a href=\"/emails/newsletters/\">Newsletters</a></li>\\r\\n                <li><a href=\"/privacy.html\">Privacy policy</a></li>\\r\\n              </ul>\\r\\n            \\r\\n              <a href=\"https://twitter.com/oreillymedia\" target=\"_blank\"><svg version=\"1.1\" xmlns=\"http://www.w3.org/2000/svg\" xmlns:xlink=\"http://www.w3.org/1999/xlink\" x=\"0px\" y=\"0px\" viewBox=\"0 0 400 400\" style=\"enable-background:new 0 0 400 400;\" xml:space=\"preserve\"><style type=\"text/css\">.st0{fill:#ee0000;}.st1{fill:#FFFFFF;}</style><g id=\"Red\"><circle class=\"st0\" cx=\"200\" cy=\"200\" r=\"200\"/></g><g id=\"Logo__x2014__FIXED\"><path class=\"st1\" d=\"M163.4,305.5c88.7,0,137.2-73.5,137.2-137.2c0-2.1,0-4.2-0.1-6.2c9.4-6.8,17.6-15.3,24.1-25 c-8.6,3.8-17.9,6.4-27.7,7.6c10-6,17.6-15.4,21.2-26.7c-9.3,5.5-19.6,9.5-30.6,11.7c-8.8-9.4-21.3-15.2-35.2-15.2 c-26.6,0-48.2,21.6-48.2,48.2c0,3.8,0.4,7.5,1.3,11c-40.1-2-75.6-21.2-99.4-50.4c-4.1,7.1-6.5,15.4-6.5,24.2 c0,16.7,8.5,31.5,21.5,40.1c-7.9-0.2-15.3-2.4-21.8-6c0,0.2,0,0.4,0,0.6c0,23.4,16.6,42.8,38.7,47.3c-4,1.1-8.3,1.7-12.7,1.7 c-3.1,0-6.1-0.3-9.1-0.9c6.1,19.2,23.9,33.1,45,33.5c-16.5,12.9-37.3,20.6-59.9,20.6c-3.9,0-7.7-0.2-11.5-0.7 C110.8,297.5,136.2,305.5,163.4,305.5\"/></g></svg></a>\\r\\n              <a href=\"https://www.facebook.com/OReilly/\" target=\"_blank\"><svg data-name=\"Layer 1\" xmlns=\"http://www.w3.org/2000/svg\" viewBox=\"0 0 32.25 32.25\"><defs><style>.cls-1{fill:#E00;fill-rule:evenodd;}</style></defs><title>facebook-logo</title><path class=\"cls-1\" d=\"M16.13,0A16.13,16.13,0,1,0,32.25,16.12,16.13,16.13,0,0,0,16.13,0Zm5.12,9.54H19.57a1.52,1.52,0,0,0-1.51,1.51v1.14h3.19v3.42H18.06V26.12H13.57V15.61H10.69V12.19h2.88v-2a4,4,0,0,1,4-4h3.65Z\"/></svg></a>\\r\\n              <a href=\"https://www.linkedin.com/company/oreilly-media\" target=\"_blank\"><svg data-name=\"Layer 1\" xmlns=\"http://www.w3.org/2000/svg\" viewBox=\"0 0 32.25 32.25\"><defs><style>.cls-1{fill:#E00;fill-rule:evenodd;}</style></defs><title>linkedin-logo</title><path class=\"cls-1\" d=\"M17.43,13.53v0l0,0ZM16.12,0A16.13,16.13,0,1,0,32.25,16.12,16.12,16.12,0,0,0,16.12,0ZM11.77,22.92H8.12v-11h3.65ZM9.94,10.44h0a1.89,1.89,0,0,1-2-1.89A1.91,1.91,0,0,1,10,6.65a1.9,1.9,0,1,1,0,3.79Zm15,12.48H21.28V17.05c0-1.48-.53-2.49-1.85-2.49a2,2,0,0,0-1.88,1.34,2.63,2.63,0,0,0-.12.89v6.13H13.79s.05-10,0-11h3.64V13.5a3.63,3.63,0,0,1,3.29-1.82c2.4,0,4.21,1.57,4.21,4.95Z\"/></svg></a>\\r\\n              <a href=\"https://www.youtube.com/user/OreillyMedia\" target=\"_blank\"><svg data-name=\"Layer 1\" xmlns=\"http://www.w3.org/2000/svg\" viewBox=\"0 0 32.25 32.25\"><defs><style>.cls-1{fill:#E00;fill-rule:evenodd;}</style></defs><title>youtube-logo</title><path class=\"cls-1\" d=\"M18.35,18.68a.89.89,0,0,0-.86.63V16.94h-1v7.59h1v-.59a.92.92,0,0,0,.89.74c.52,0,.86-.36,1-1.07a8.56,8.56,0,0,0,.14-1.9,10.47,10.47,0,0,0-.12-1.93C19.21,19.05,18.87,18.68,18.35,18.68Zm.09,4.14c-.05.52-.2.77-.45.77s-.43-.21-.49-.63a7.22,7.22,0,0,1,0-1c0-.72,0-1.14,0-1.26.07-.58.23-.88.51-.88s.4.27.46.79c0,.09,0,.47,0,1.13S18.46,22.71,18.44,22.82ZM8.61,18.19H9.86v6.34H11V18.19H12.2V16.94H8.61Zm7.71-6.12c.27,0,.43-.22.49-.66,0-.09,0-.45,0-1.07V9.78c0-.58,0-.93,0-1-.07-.43-.23-.65-.48-.65s-.41.19-.48.57a8.79,8.79,0,0,0,0,1v.53c0,.71,0,1.09,0,1.16C15.88,11.82,16.05,12.07,16.32,12.07Zm-1.74,10.4a2.92,2.92,0,0,1-.06.71c-.07.25-.2.37-.4.37s-.32-.11-.38-.34a2.63,2.63,0,0,1-.05-.66V18.83h-1v4.48c0,.91.33,1.37,1,1.37A1,1,0,0,0,14.6,24v.57h1v-5.7h-1Zm7.1-3.79a1.35,1.35,0,0,0-1.22.59,2.48,2.48,0,0,0-.3,1.07c0,.23,0,.61,0,1.16s0,1.13,0,1.37a2.93,2.93,0,0,0,.35,1.27,1.25,1.25,0,0,0,1.14.54,1.36,1.36,0,0,0,1.13-.45,2.29,2.29,0,0,0,.37-1.43s0-.07,0-.11v-.12h-1c0,.75-.17,1.12-.51,1.12s-.38-.18-.45-.56a4.68,4.68,0,0,1-.06-.9c0-.18,0-.31,0-.37h2v-.43a4.86,4.86,0,0,0-.3-2.11A1.28,1.28,0,0,0,21.68,18.68ZM22.15,21h-1c0-.05,0-.11,0-.16v-.08a1.64,1.64,0,0,1,.11-.8.39.39,0,0,1,.38-.23.42.42,0,0,1,.43.33,2.32,2.32,0,0,1,.07.7Zm-6-21A16.13,16.13,0,1,0,32.25,16.12,16.12,16.12,0,0,0,16.12,0Zm2.51,7.2h1V11a2.52,2.52,0,0,0,.06.66c.06.23.18.34.38.34s.34-.12.41-.37a3.76,3.76,0,0,0,.05-.71V7.2h1v5.74h-1v-.57a1,1,0,0,1-.93.72c-.66,0-1-.46-1-1.38ZM15,8a1.29,1.29,0,0,1,1.33-.92A1.3,1.3,0,0,1,17.65,8a6.77,6.77,0,0,1,.23,2.1,6.77,6.77,0,0,1-.23,2.1,1.3,1.3,0,0,1-1.32.92A1.29,1.29,0,0,1,15,12.17a6.77,6.77,0,0,1-.23-2.1A6.86,6.86,0,0,1,15,8ZM11.45,5.3l.89,2.87.88-2.87H14.4L12.88,9.7v3.24h-1.1V9.7L10.24,5.3ZM24.93,23.91a3,3,0,0,1-3,3h-12a3,3,0,0,1-3-3V18.05a3,3,0,0,1,3-3h12a3,3,0,0,1,3,3Z\"/></svg></a>\\r\\n            </div>\\r\\n          </div>\\r\\n        </div>\\r\\n\\r\\n        <div class=\"footer-download\" id=\"download-info\">\\r\\n          <h2 class=\"footer-header\">Download the O&rsquo;Reilly App</h2>\\r\\n\\r\\n          <p>Take O&rsquo;Reilly with you and learn anywhere, anytime on your phone <span class=\"nowrap\">and tablet.</span></p>\\r\\n\\r\\n          <div class=\"footer-downloadLinks\">\\r\\n            <a href=\"https://itunes.apple.com/us/app/safari-to-go/id881697395\"><img src=\"https://cdn.oreillystatic.com/oreilly/images/app-store-logo.png\" alt=\"Apple app store\" /></a>\\r\\n            <a href=\"https://play.google.com/store/apps/details?id=com.safariflow.queue\"><img src=\"https://cdn.oreillystatic.com/oreilly/images/google-play-logo.png\"  alt=\"Google play store\" /></a>\\r\\n          </div>\\r\\n        </div>\\r\\n\\r\\n        <div class=\"footer-download\" id=\"tv-info\">\\r\\n          <h2 class=\"footer-header\">Watch on your big screen</h2>\\r\\n\\r\\n          <p>View all O&rsquo;Reilly videos, Superstream events, and Meet the Expert sessions on your <span class=\"nowrap\">home TV.</span></p>\\r\\n\\r\\n          <div class=\"footer-downloadLinks\">\\r\\n            <a href=\"https://channelstore.roku.com/details/c8a2d0096693eb9455f6ac165003ee06/oreilly\"><img src=\"https://cdn.oreillystatic.com/oreilly/images/roku-tv-logo.png\" alt=\"Roku Payers and TVs\" /></a>\\r\\n            <a href=\"https://www.amazon.com/OReilly-Media-Inc/dp/B087YYHL5C/ref=sr_1_2?dchild=1&keywords=oreilly&qid=1604964116&s=mobile-apps&sr=1-2\"><img src=\"https://cdn.oreillystatic.com/oreilly/images/amazon-appstore-logo.png\"  alt=\"Amazon appstore\" /></a>\\r\\n          </div>\\r\\n        </div>\\r\\n        \\r\\n        <div class=\"footer-donotsell\" id=\"donotsell-info\">\\r\\n          <h2 class=\"footer-header\">Do not sell my personal information</h2>\\r\\n\\r\\n          <p style=\"line-height: 1.5em;\">Exercise your consumer rights by contacting us at <a href=\"mailto:donotsell@oreilly.com?subject=Do Not Sell My Personal Information Request\" style=\"text-decoration:underline;\">donotsell@oreilly.com</a>.</p>\\r\\n        </div>\\r\\n      </div>\\r\\n\\r\\n      <div class=\"footer-subfooter\">\\r\\n\\r\\n        <a href=\"https://www.oreilly.com\" title=\"home page\" aria-current=\"page\">\\r\\n          <img \\r\\n          class=\"footer-subfooterLogo\" \\r\\n          id=\"footer-subfooterLogo\"\\r\\n          src=\"https://cdn.oreillystatic.com/images/sitewide-headers/oreilly_logo_mark_red.svg\" \\r\\n          onerror=\"this.src=\\'https://cdn.oreillystatic.com/images/sitewide-headers/oreilly_logo_mark_red_@2x.png\\'; this.onerror=null;\" \\r\\n          alt=\"O\\'Reilly home\">\\r\\n        </a>\\r\\n\\r\\n        <p>&copy; 2021, O&rsquo;Reilly Media, Inc.  All trademarks and registered trademarks appearing on oreilly.com are the property of their respective owners.</p>\\r\\n        <p><a href=\"/terms/\">Terms of service</a> &bull; <a href=\"/privacy.html\">Privacy policy</a> &bull; <a href=\"/about/editorial_independence.html\">Editorial independence</a><span class=\"transparencyStatement\" style=\"display:none;\"> &bull; <a href=\"/2020-modern-slavery-act-transparency-statement.html\">Modern Slavery Act Statement</a></span></p>\\r\\n      </div>\\r\\n\\r\\n    </div>\\r\\n  </footer>\\r\\n\\r\\n  <script src=\"https://cdn.oreillystatic.com/ajax/libs/jquery/3.3.1/jquery.min.js\"></script>\\r\\n\\r\\n  \\r\\n\\r\\n  <script>\\r\\n  $(function() {\\r\\n    //Toggle isActive and mobileHidden classes for mobileNavButton\\r\\n    $(\\'nav #mobileNavButton\\').on(\\'click\\', function() {\\r\\n      var expanded = $(this).attr(\\'aria-expanded\\') === \\'true\\' || false;\\r\\n      $(this).attr(\\'aria-expanded\\', !expanded);\\r\\n      $(this).toggleClass(\"isActive\");\\r\\n      $(this).next().toggleClass(\"mobileHidden\");\\r\\n    });\\r\\n\\r\\n    //Toggle isFocused class for keyboard navigation of submenus\\r\\n    $(\\'nav #menuList .menuList-subItem a\\').each(function(navItem) {\\r\\n      $(this).on(\\'focus\\', function() {\\r\\n        $(this).parent().parent().toggleClass(\\'isFocused\\');\\r\\n      });\\r\\n      $(this).on(\\'blur\\', function() {\\r\\n        $(this).parent().parent().toggleClass(\\'isFocused\\');\\r\\n      });\\r\\n    });\\r\\n\\r\\n    //Toggle mobileHidden class accordian elements\\r\\n    $(\\'.mobileAccordian\\').each(function() {\\r\\n      var $btn = $(this).find(\\'button\\');\\r\\n      var $target =  $(this).next();\\r\\n      $btn.on(\\'click\\', function() {\\r\\n        var expanded = $btn.attr(\\'aria-expanded\\') === \\'true\\' || false;\\r\\n\\r\\n        $btn.attr(\\'aria-expanded\\', !expanded);\\r\\n        $target.toggleClass(\"mobileHidden\");  \\r\\n      });\\r\\n    });\\r\\n\\r\\n    //Search platform form action\\r\\n    function searchSubmit(e) {\\r\\n      e.preventDefault();\\r\\n      sParameter = searchForm.search.value;\\r\\n      sParameter = encodeURIComponent(sParameter.trim());\\r\\n      sURL = searchForm.action + \\'?query=\\' + sParameter;\\r\\n      window.location = sURL;\\r\\n\\r\\n      //GA event for search\\r\\n      dataLayer.push({\\r\\n        \\'event\\': \\'eventTracker\\',\\r\\n        \\'eventCat\\':\\'site search\\',\\r\\n        \\'eventAct\\':\\'search box\\',\\r\\n        \\'eventLbl\\':\\'explore our content\\',\\r\\n        \\'eventVal\\':0, \\r\\n        \\'nonInteraction\\': 0,\\r\\n      });\\r\\n    }\\r\\n    const searchForm = document.getElementById(\\'js-searchForm\\');\\r\\n    searchForm.addEventListener(\\'submit\\', searchSubmit);\\r\\n\\r\\n\\r\\n    //Search button action\\r\\n    function showNavSearch(e) {\\r\\n      $(\\'.menuList-item-search\\').addClass(\\'overlay\\');\\r\\n      $(\\'.menuList-item-search input#search\\').focus();\\r\\n    }\\r\\n    const searchButton = document.getElementById(\\'js-searchButton\\');\\r\\n    searchButton.addEventListener(\\'click\\', showNavSearch);\\r\\n\\r\\n\\r\\n    //Close search button action\\r\\n    function hideNavSearch(e) {\\r\\n      $(\\'.menuList-item-search\\').removeClass(\\'overlay\\');\\r\\n    }\\r\\n    const searchCloseButton = document.getElementById(\\'js-searchCloseButton\\');\\r\\n    searchCloseButton.addEventListener(\\'click\\', hideNavSearch);\\r\\n  });\\r\\n\\r\\n  (function(document, history, location) {\\r\\n    var HISTORY_SUPPORT = !!(history && history.pushState);\\r\\n    FIXED_HEADER_HEIGHT = document.querySelector(\\'body > header\\').offsetHeight;\\r\\n    FIXED_HEADER_HEIGHT += 20;\\r\\n    var anchorScrolls = {\\r\\n      ANCHOR_REGEX: /^#[^ ]+$/,\\r\\n      OFFSET_HEIGHT_PX: FIXED_HEADER_HEIGHT,\\r\\n\\r\\n      /**\\r\\n       * Establish events, and fix initial scroll position if a hash is provided.\\r\\n       */\\r\\n      init: function() {\\r\\n        this.scrollToCurrent();\\r\\n        window.addEventListener(\\'hashchange\\', this.scrollToCurrent.bind(this));\\r\\n        document.body.addEventListener(\\'click\\', this.delegateAnchors.bind(this));\\r\\n      },\\r\\n\\r\\n      /**\\r\\n       * Return the offset amount to deduct from the normal scroll position.\\r\\n       * Modify as appropriate to allow for dynamic calculations\\r\\n       */\\r\\n      getFixedOffset: function() {\\r\\n        return this.OFFSET_HEIGHT_PX;\\r\\n      },\\r\\n\\r\\n      /**\\r\\n       * If the provided href is an anchor which resolves to an element on the\\r\\n       * page, scroll to it.\\r\\n       * @param  {String} href\\r\\n       * @return {Boolean} - Was the href an anchor.\\r\\n       */\\r\\n      scrollIfAnchor: function(href, pushToHistory) {\\r\\n        var match, rect, anchorOffset;\\r\\n\\r\\n        if(!this.ANCHOR_REGEX.test(href)) {\\r\\n          return false;\\r\\n        }\\r\\n\\r\\n        match = document.getElementById(href.slice(1));\\r\\n\\r\\n        if(match) {\\r\\n          rect = match.getBoundingClientRect();\\r\\n          anchorOffset = window.pageYOffset + rect.top - this.getFixedOffset();\\r\\n          window.scrollTo(window.pageXOffset, anchorOffset);\\r\\n\\r\\n          // Add the state to history as-per normal anchor links\\r\\n          if(HISTORY_SUPPORT && pushToHistory) {\\r\\n            history.pushState({}, document.title, location.pathname + href);\\r\\n          }\\r\\n        }\\r\\n\\r\\n        return !!match;\\r\\n      },\\r\\n\\r\\n      /**\\r\\n       * Attempt to scroll to the current location\\'s hash.\\r\\n       */\\r\\n      scrollToCurrent: function() {\\r\\n        this.scrollIfAnchor(window.location.hash);\\r\\n      },\\r\\n\\r\\n      /**\\r\\n       * If the click event\\'s target was an anchor, fix the scroll position.\\r\\n       */\\r\\n      delegateAnchors: function(e) {\\r\\n        var elem = e.target;\\r\\n\\r\\n        if(\\r\\n          elem.nodeName === \\'A\\' &&\\r\\n          this.scrollIfAnchor(elem.getAttribute(\\'href\\'), true)\\r\\n        ) {\\r\\n          e.preventDefault();\\r\\n        }\\r\\n      }\\r\\n    };\\r\\n\\r\\n    window.addEventListener(\\r\\n      \\'DOMContentLoaded\\', anchorScrolls.init.bind(anchorScrolls)\\r\\n    );\\r\\n  })(window.document, window.history, window.location);\\r\\n  </script></body>\\r\\n\\r\\n\\r\\n</html>\\n'"
      ]
     },
     "execution_count": 122,
     "metadata": {},
     "output_type": "execute_result"
    }
   ],
   "source": [
    "r.content"
   ]
  },
  {
   "cell_type": "markdown",
   "metadata": {},
   "source": [
    "# Exercise: Using `requests`\n",
    "\n",
    "1. Download and install `requests` from PyPI using `pip`.\n",
    "    If `pip` is broken, try instead `python3 -m pip install WHATEVER`\n",
    "2. In a Python program, `import requests`\n",
    "3. Use `requests.get` to retrieve from your favorite Web site.\n",
    "4. Check the status code\n",
    "5. Print the first 100 bytes of the content (`r.content`)\n",
    "6. Use `requests.get` to try to get information from a URL that does not exist.\n",
    "7. Show the status code."
   ]
  },
  {
   "cell_type": "code",
   "execution_count": null,
   "metadata": {},
   "outputs": [],
   "source": [
    "import "
   ]
  }
 ],
 "metadata": {
  "kernelspec": {
   "display_name": "Python 3",
   "language": "python",
   "name": "python3"
  },
  "language_info": {
   "codemirror_mode": {
    "name": "ipython",
    "version": 3
   },
   "file_extension": ".py",
   "mimetype": "text/x-python",
   "name": "python",
   "nbconvert_exporter": "python",
   "pygments_lexer": "ipython3",
   "version": "3.9.5"
  }
 },
 "nbformat": 4,
 "nbformat_minor": 4
}
