{
 "cells": [
  {
   "cell_type": "markdown",
   "metadata": {},
   "source": [
    "# Agenda\n",
    "\n",
    "1. Dictionaries\n",
    "    - What are they?  How are they different from strings/lists/tuples?\n",
    "    - Creating them\n",
    "    - Searching in them\n",
    "    - Modifying them\n",
    "    - Looping over them\n",
    "    - A little about how they work behind the scenes\n",
    "\n",
    "2. Files (text files)\n",
    "    - File objects\n",
    "    - Reading from files\n",
    "    - Looping over files\n",
    "    - Writing to files\n",
    "    - `with` statement and files\n",
    "    "
   ]
  },
  {
   "cell_type": "code",
   "execution_count": 2,
   "metadata": {},
   "outputs": [
    {
     "name": "stdout",
     "output_type": "stream",
     "text": [
      "Enter your name: Reuven\n",
      "Hello, Reuven!\n",
      "Enter your name: world\n",
      "Hello, world!\n",
      "Enter your name: \n"
     ]
    }
   ],
   "source": [
    "while True:\n",
    "    name = input('Enter your name: ').strip()\n",
    "\n",
    "    if not name:  # if name == '':\n",
    "        break\n",
    "        \n",
    "    print(f'Hello, {name}!')"
   ]
  },
  {
   "cell_type": "code",
   "execution_count": 3,
   "metadata": {},
   "outputs": [
    {
     "name": "stdout",
     "output_type": "stream",
     "text": [
      "Enter your name: Reuven\n",
      "Hello, Reuven!\n",
      "Enter your name: world\n",
      "Hello, world!\n",
      "Enter your name: quit\n"
     ]
    }
   ],
   "source": [
    "while True:\n",
    "    name = input('Enter your name: ').strip()\n",
    "\n",
    "    if name == 'quit':\n",
    "        break\n",
    "        \n",
    "    print(f'Hello, {name}!')"
   ]
  },
  {
   "cell_type": "code",
   "execution_count": 4,
   "metadata": {},
   "outputs": [
    {
     "data": {
      "text/plain": [
       "'a'"
      ]
     },
     "execution_count": 4,
     "metadata": {},
     "output_type": "execute_result"
    }
   ],
   "source": [
    "# if I have a string\n",
    "s = 'abcde'\n",
    "\n",
    "s[0]"
   ]
  },
  {
   "cell_type": "code",
   "execution_count": 5,
   "metadata": {},
   "outputs": [
    {
     "data": {
      "text/plain": [
       "'b'"
      ]
     },
     "execution_count": 5,
     "metadata": {},
     "output_type": "execute_result"
    }
   ],
   "source": [
    "s[1]"
   ]
  },
  {
   "cell_type": "code",
   "execution_count": 6,
   "metadata": {},
   "outputs": [
    {
     "data": {
      "text/plain": [
       "'c'"
      ]
     },
     "execution_count": 6,
     "metadata": {},
     "output_type": "execute_result"
    }
   ],
   "source": [
    "s[2]"
   ]
  },
  {
   "cell_type": "code",
   "execution_count": 7,
   "metadata": {},
   "outputs": [
    {
     "data": {
      "text/plain": [
       "5"
      ]
     },
     "execution_count": 7,
     "metadata": {},
     "output_type": "execute_result"
    }
   ],
   "source": [
    "# max index in a string is len(s) - 1\n",
    "len(s)"
   ]
  },
  {
   "cell_type": "code",
   "execution_count": 8,
   "metadata": {},
   "outputs": [
    {
     "data": {
      "text/plain": [
       "'e'"
      ]
     },
     "execution_count": 8,
     "metadata": {},
     "output_type": "execute_result"
    }
   ],
   "source": [
    "s[4]"
   ]
  },
  {
   "cell_type": "code",
   "execution_count": 9,
   "metadata": {},
   "outputs": [],
   "source": [
    "# the numeric index of 0 - len(thing)-1 is true for:\n",
    "# - strings\n",
    "# - lists\n",
    "# - tuples"
   ]
  },
  {
   "cell_type": "code",
   "execution_count": 10,
   "metadata": {},
   "outputs": [],
   "source": [
    "# sometimes, I might want to have an index that isn't\n",
    "# numeric, or that has a different value\n",
    "\n",
    "# - ID numbers\n",
    "# - product numbers\n",
    "# - names\n",
    "# - dates"
   ]
  },
  {
   "cell_type": "markdown",
   "metadata": {},
   "source": [
    "# Dictionaries!\n",
    "\n",
    "Not unique to Python -- in other languages, we call them:\n",
    "\n",
    "- Hashes\n",
    "- Hash tables\n",
    "- Hash maps\n",
    "- Maps\n",
    "- Associative arrays\n",
    "- Key-value stores\n",
    "- Name-value stores\n",
    "\n",
    "The idea is: We can store *pairs* of data.\n",
    "- Key (instead of a numeric index) -- can be anything *IMMUTABLE*\n",
    "- Value -- can be anything at all\n",
    "\n",
    "Python uses dictionaries *EVERYWHERE*\n",
    "- Every object is a dict\n",
    "- Every namespace is a dict\n"
   ]
  },
  {
   "cell_type": "code",
   "execution_count": 13,
   "metadata": {},
   "outputs": [],
   "source": [
    "# creating a dictionary\n",
    "\n",
    "# use curly braces on the outside \n",
    "# we have key-value pairs separated by commas\n",
    "# the key is separated from the value with :\n",
    "\n",
    "#   3 key-value pairs in d:\n",
    "#   key:value,  key:value,  key:value\n",
    "d = {'a':1, 'b':2, 'c':3}"
   ]
  },
  {
   "cell_type": "code",
   "execution_count": 12,
   "metadata": {},
   "outputs": [
    {
     "data": {
      "text/plain": [
       "3"
      ]
     },
     "execution_count": 12,
     "metadata": {},
     "output_type": "execute_result"
    }
   ],
   "source": [
    "# how big is my dict?\n",
    "len(d)"
   ]
  },
  {
   "cell_type": "code",
   "execution_count": 14,
   "metadata": {},
   "outputs": [
    {
     "data": {
      "text/plain": [
       "1"
      ]
     },
     "execution_count": 14,
     "metadata": {},
     "output_type": "execute_result"
    }
   ],
   "source": [
    "# to retrieve from a dict, put the key in square brackets!\n",
    "d['a']"
   ]
  },
  {
   "cell_type": "code",
   "execution_count": 15,
   "metadata": {},
   "outputs": [
    {
     "data": {
      "text/plain": [
       "2"
      ]
     },
     "execution_count": 15,
     "metadata": {},
     "output_type": "execute_result"
    }
   ],
   "source": [
    "d['b']"
   ]
  },
  {
   "cell_type": "code",
   "execution_count": 16,
   "metadata": {},
   "outputs": [
    {
     "data": {
      "text/plain": [
       "3"
      ]
     },
     "execution_count": 16,
     "metadata": {},
     "output_type": "execute_result"
    }
   ],
   "source": [
    "d['c']"
   ]
  },
  {
   "cell_type": "code",
   "execution_count": 17,
   "metadata": {},
   "outputs": [
    {
     "ename": "KeyError",
     "evalue": "'q'",
     "output_type": "error",
     "traceback": [
      "\u001b[0;31m---------------------------------------------------------------------------\u001b[0m",
      "\u001b[0;31mKeyError\u001b[0m                                  Traceback (most recent call last)",
      "\u001b[0;32m<ipython-input-17-93588c49ffc3>\u001b[0m in \u001b[0;36m<module>\u001b[0;34m\u001b[0m\n\u001b[0;32m----> 1\u001b[0;31m \u001b[0md\u001b[0m\u001b[0;34m[\u001b[0m\u001b[0;34m'q'\u001b[0m\u001b[0;34m]\u001b[0m  \u001b[0;31m# does this exist?  no, so I get...\u001b[0m\u001b[0;34m\u001b[0m\u001b[0;34m\u001b[0m\u001b[0m\n\u001b[0m",
      "\u001b[0;31mKeyError\u001b[0m: 'q'"
     ]
    }
   ],
   "source": [
    "d['q']  # does this exist?  no, so I get..."
   ]
  },
  {
   "cell_type": "code",
   "execution_count": 18,
   "metadata": {},
   "outputs": [
    {
     "data": {
      "text/plain": [
       "{'a': 1, 'b': 2, 'c': 3}"
      ]
     },
     "execution_count": 18,
     "metadata": {},
     "output_type": "execute_result"
    }
   ],
   "source": [
    "d"
   ]
  },
  {
   "cell_type": "code",
   "execution_count": 19,
   "metadata": {},
   "outputs": [],
   "source": [
    "# keys are unique! \n",
    "# not a surprise -- indexes in str/list/tuple are also unique\n",
    "\n",
    "# keys must be immutable -- basically, numbers and strings\n",
    "#  (you can use tuples if you want, but only if they contain \n",
    "#   immutable data)"
   ]
  },
  {
   "cell_type": "markdown",
   "metadata": {},
   "source": [
    "# Indexes vs. keys\n",
    "\n",
    "We often think about dict keys as string versions of list indexes.  But they aren't quite like that.\n",
    "\n",
    "There is no \"max\" key.  Nor is there a \"min\" key.  They are unordered!"
   ]
  },
  {
   "cell_type": "code",
   "execution_count": 20,
   "metadata": {},
   "outputs": [
    {
     "data": {
      "text/plain": [
       "{'a': 1, 'b': 2, 'c': 3}"
      ]
     },
     "execution_count": 20,
     "metadata": {},
     "output_type": "execute_result"
    }
   ],
   "source": [
    "d"
   ]
  },
  {
   "cell_type": "code",
   "execution_count": 21,
   "metadata": {},
   "outputs": [
    {
     "data": {
      "text/plain": [
       "True"
      ]
     },
     "execution_count": 21,
     "metadata": {},
     "output_type": "execute_result"
    }
   ],
   "source": [
    "# I can ask if a key is in the dict with \"in\"\n",
    "\n",
    "'a' in d  # is the string 'a' a key in d?"
   ]
  },
  {
   "cell_type": "code",
   "execution_count": 22,
   "metadata": {},
   "outputs": [
    {
     "data": {
      "text/plain": [
       "False"
      ]
     },
     "execution_count": 22,
     "metadata": {},
     "output_type": "execute_result"
    }
   ],
   "source": [
    "'q' in d"
   ]
  },
  {
   "cell_type": "code",
   "execution_count": 23,
   "metadata": {},
   "outputs": [
    {
     "data": {
      "text/plain": [
       "False"
      ]
     },
     "execution_count": 23,
     "metadata": {},
     "output_type": "execute_result"
    }
   ],
   "source": [
    "# the string must match EXACTLY!\n",
    "\n",
    "' a' in d"
   ]
  },
  {
   "cell_type": "code",
   "execution_count": 24,
   "metadata": {},
   "outputs": [
    {
     "data": {
      "text/plain": [
       "False"
      ]
     },
     "execution_count": 24,
     "metadata": {},
     "output_type": "execute_result"
    }
   ],
   "source": [
    "'a ' in d"
   ]
  },
  {
   "cell_type": "code",
   "execution_count": 25,
   "metadata": {},
   "outputs": [
    {
     "data": {
      "text/plain": [
       "False"
      ]
     },
     "execution_count": 25,
     "metadata": {},
     "output_type": "execute_result"
    }
   ],
   "source": [
    "'A' in d"
   ]
  },
  {
   "cell_type": "code",
   "execution_count": 26,
   "metadata": {},
   "outputs": [
    {
     "data": {
      "text/plain": [
       "True"
      ]
     },
     "execution_count": 26,
     "metadata": {},
     "output_type": "execute_result"
    }
   ],
   "source": [
    "# define the dict \n",
    "d = {'a':1, 'b':2, 'c':3}\n",
    "\n",
    "'a' in d"
   ]
  },
  {
   "cell_type": "code",
   "execution_count": 27,
   "metadata": {},
   "outputs": [
    {
     "data": {
      "text/plain": [
       "False"
      ]
     },
     "execution_count": 27,
     "metadata": {},
     "output_type": "execute_result"
    }
   ],
   "source": [
    "'q' in d"
   ]
  },
  {
   "cell_type": "code",
   "execution_count": 28,
   "metadata": {},
   "outputs": [
    {
     "data": {
      "text/plain": [
       "1"
      ]
     },
     "execution_count": 28,
     "metadata": {},
     "output_type": "execute_result"
    }
   ],
   "source": [
    "d['a']"
   ]
  },
  {
   "cell_type": "markdown",
   "metadata": {},
   "source": [
    "# Exercise: Restaurant \n",
    "\n",
    "1. Define a dict called `menu` in which the keys are the items you can order at the restaurant, and the values are the prices.\n",
    "2. Define `total` to be 0.\n",
    "3. Ask the user, repeatedly, to enter what they want to order.\n",
    "    - If they enter an empty string, stop asking and print the total bill.\n",
    "    - If they enter an item that *is* on the menu, then print the item, its price, and the new total.\n",
    "    - If they enter something that is *not* on the menu, then say that you don't have that.\n",
    "    \n",
    "Example:\n",
    "\n",
    "    Order: sandwich\n",
    "    sandwich is 10, total is 10\n",
    "    Order: tea\n",
    "    tea is 5, total is 15\n",
    "    Order: elephant\n",
    "    Sorry, we are fresh out of elephant today!\n",
    "    Order: [ENTER]\n",
    "    Your total is 15\n",
    "    \n",
    "### Hints/notes    \n",
    "\n",
    "- Define the `menu` dict at the top with keys and values\n",
    "- Use a `while` loop to get the user's input, since we don't know how many we're going to get.\n",
    "- Use `in` to check if a key is in the dict\n",
    "\n"
   ]
  },
  {
   "cell_type": "code",
   "execution_count": 31,
   "metadata": {},
   "outputs": [
    {
     "name": "stdout",
     "output_type": "stream",
     "text": [
      "Order: tea\n",
      "tea is 5; total is now 5\n",
      "Order: \n",
      "Your total is 5.\n"
     ]
    }
   ],
   "source": [
    "menu = {'sandwich':10, 'tea':5, 'apple':1, 'cake':3}\n",
    "total = 0\n",
    "\n",
    "while True:\n",
    "    order = input('Order: ').strip()\n",
    "    \n",
    "    if order == '':  # empty order? exit the loop\n",
    "        break\n",
    "        \n",
    "    if order in menu:  # meaning: if the order is a key in \"menu\"\n",
    "        price = menu[order]\n",
    "        total += price\n",
    "        print(f'{order} is {price}; total is now {total}')\n",
    "    else:\n",
    "        print(f'We are fresh out of {order} today!')\n",
    "        \n",
    "print(f'Your total is {total}.')"
   ]
  },
  {
   "cell_type": "code",
   "execution_count": 33,
   "metadata": {},
   "outputs": [
    {
     "name": "stdout",
     "output_type": "stream",
     "text": [
      "Order: tea\n",
      "tea is $5; total is now 5\n",
      "Order: \n",
      "Your total is 5.\n"
     ]
    }
   ],
   "source": [
    "menu = {'sandwich':10, 'tea':5, 'apple':1, 'cake':3}\n",
    "total = 0\n",
    "\n",
    "while True:\n",
    "    order = input('Order: ').strip()\n",
    "    \n",
    "    if order == '':  # empty order? exit the loop\n",
    "        break\n",
    "        \n",
    "    if order in menu:  # meaning: if the order is a key in \"menu\"\n",
    "        price = menu[order]\n",
    "        total += price\n",
    "        print(f'{order} is ${price}; total is now ${total}')\n",
    "    else:\n",
    "        print(f'We are fresh out of {order} today!')\n",
    "        \n",
    "print(f'Your total is ${total}.')"
   ]
  },
  {
   "cell_type": "code",
   "execution_count": 34,
   "metadata": {},
   "outputs": [
    {
     "name": "stdout",
     "output_type": "stream",
     "text": [
      "{'sandwich': 10, 'tea': 5, 'apple': 1, 'cake': 3}\n"
     ]
    }
   ],
   "source": [
    "print(menu)"
   ]
  },
  {
   "cell_type": "code",
   "execution_count": 35,
   "metadata": {},
   "outputs": [],
   "source": [
    "d = {'a':1, 'b':2, 'c':3}\n",
    "\n",
    "# can I change my dict?\n",
    "# answer: YES!\n",
    "\n",
    "# first way to change: add a new key-value pair\n",
    "# how? by assigning to it\n",
    "d['x'] = 100"
   ]
  },
  {
   "cell_type": "code",
   "execution_count": 36,
   "metadata": {},
   "outputs": [
    {
     "data": {
      "text/plain": [
       "{'a': 1, 'b': 2, 'c': 3, 'x': 100}"
      ]
     },
     "execution_count": 36,
     "metadata": {},
     "output_type": "execute_result"
    }
   ],
   "source": [
    "d"
   ]
  },
  {
   "cell_type": "code",
   "execution_count": 37,
   "metadata": {},
   "outputs": [
    {
     "data": {
      "text/plain": [
       "{'a': 1, 'b': 2, 'c': 3, 'x': 100, 'y': 123.456}"
      ]
     },
     "execution_count": 37,
     "metadata": {},
     "output_type": "execute_result"
    }
   ],
   "source": [
    "d['y'] = 123.456\n",
    "d"
   ]
  },
  {
   "cell_type": "code",
   "execution_count": 38,
   "metadata": {},
   "outputs": [
    {
     "name": "stdout",
     "output_type": "stream",
     "text": [
      "Variable   Type    Data/Info\n",
      "----------------------------\n",
      "d          dict    n=5\n",
      "menu       dict    n=4\n",
      "name       str     quit\n",
      "order      str     \n",
      "price      int     5\n",
      "s          str     abcde\n",
      "total      int     5\n"
     ]
    }
   ],
   "source": [
    "# if you're in Jupyter, then you can use the %whos\n",
    "# magic command to get a table of all global variables\n",
    "\n",
    "%whos"
   ]
  },
  {
   "cell_type": "code",
   "execution_count": 39,
   "metadata": {},
   "outputs": [
    {
     "data": {
      "text/plain": [
       "{'a': 1, 'b': 2, 'c': 3, 'x': 99999, 'y': 123.456}"
      ]
     },
     "execution_count": 39,
     "metadata": {},
     "output_type": "execute_result"
    }
   ],
   "source": [
    "# how can I modify a value associated with a dict key?\n",
    "# I just assign to it!\n",
    "# Yes, same as adding a key-value pair\n",
    "\n",
    "d['x'] = 99999\n",
    "d"
   ]
  },
  {
   "cell_type": "code",
   "execution_count": 40,
   "metadata": {},
   "outputs": [
    {
     "data": {
      "text/plain": [
       "{'a': 12345, 'b': 2, 'c': 3, 'x': 99999, 'y': 123.456}"
      ]
     },
     "execution_count": 40,
     "metadata": {},
     "output_type": "execute_result"
    }
   ],
   "source": [
    "d['a'] = 12345\n",
    "d"
   ]
  },
  {
   "cell_type": "code",
   "execution_count": 41,
   "metadata": {},
   "outputs": [
    {
     "data": {
      "text/plain": [
       "{'a': 12345, 'b': 'hello', 'c': 3, 'x': 99999, 'y': 123.456}"
      ]
     },
     "execution_count": 41,
     "metadata": {},
     "output_type": "execute_result"
    }
   ],
   "source": [
    "d['b'] = 'hello'\n",
    "d"
   ]
  },
  {
   "cell_type": "code",
   "execution_count": 42,
   "metadata": {},
   "outputs": [],
   "source": [
    "d['c'] = {'q':999, 'r':888, 's':777}"
   ]
  },
  {
   "cell_type": "code",
   "execution_count": 43,
   "metadata": {},
   "outputs": [
    {
     "data": {
      "text/plain": [
       "{'a': 12345,\n",
       " 'b': 'hello',\n",
       " 'c': {'q': 999, 'r': 888, 's': 777},\n",
       " 'x': 99999,\n",
       " 'y': 123.456}"
      ]
     },
     "execution_count": 43,
     "metadata": {},
     "output_type": "execute_result"
    }
   ],
   "source": [
    "d"
   ]
  },
  {
   "cell_type": "code",
   "execution_count": 44,
   "metadata": {},
   "outputs": [
    {
     "data": {
      "text/plain": [
       "{'': 1, ' ': 2, '  ': 3, '   ': 4}"
      ]
     },
     "execution_count": 44,
     "metadata": {},
     "output_type": "execute_result"
    }
   ],
   "source": [
    "# any string can be a key\n",
    "# any string can be a value\n",
    "\n",
    "# you could do this (but don't, please!)\n",
    "\n",
    "d = {'':1, ' ':2, '  ':3, '   ':4}\n",
    "d"
   ]
  },
  {
   "cell_type": "code",
   "execution_count": 45,
   "metadata": {},
   "outputs": [
    {
     "data": {
      "text/plain": [
       "4"
      ]
     },
     "execution_count": 45,
     "metadata": {},
     "output_type": "execute_result"
    }
   ],
   "source": [
    "d['   ']"
   ]
  },
  {
   "cell_type": "code",
   "execution_count": 46,
   "metadata": {},
   "outputs": [
    {
     "data": {
      "text/plain": [
       "3"
      ]
     },
     "execution_count": 46,
     "metadata": {},
     "output_type": "execute_result"
    }
   ],
   "source": [
    "d['  ']"
   ]
  },
  {
   "cell_type": "code",
   "execution_count": 47,
   "metadata": {},
   "outputs": [],
   "source": [
    "# keys are unique!\n",
    "# so a key can only appear once in a dict\n",
    "# but values can appear as often as you want"
   ]
  },
  {
   "cell_type": "code",
   "execution_count": 48,
   "metadata": {},
   "outputs": [],
   "source": [
    "d = {'a':1, 'b':2, 'c':3}\n",
    "\n",
    "# I can add key-value pairs\n",
    "# I can modify values associated with keys\n",
    "\n",
    "# I can also remove key-value pairs, but that's pretty rare"
   ]
  },
  {
   "cell_type": "code",
   "execution_count": 49,
   "metadata": {},
   "outputs": [
    {
     "data": {
      "text/plain": [
       "3"
      ]
     },
     "execution_count": 49,
     "metadata": {},
     "output_type": "execute_result"
    }
   ],
   "source": [
    "# you can remove a key-value pair with the \"pop\" method\n",
    "d.pop('c')  # returns c's value, and removes the pair"
   ]
  },
  {
   "cell_type": "code",
   "execution_count": 50,
   "metadata": {},
   "outputs": [
    {
     "data": {
      "text/plain": [
       "{'a': 1, 'b': 2}"
      ]
     },
     "execution_count": 50,
     "metadata": {},
     "output_type": "execute_result"
    }
   ],
   "source": [
    "d"
   ]
  },
  {
   "cell_type": "code",
   "execution_count": 51,
   "metadata": {},
   "outputs": [
    {
     "data": {
      "text/plain": [
       "dict_keys(['a', 'b', 'c'])"
      ]
     },
     "execution_count": 51,
     "metadata": {},
     "output_type": "execute_result"
    }
   ],
   "source": [
    "d = {'a':1, 'b':2, 'c':3}\n",
    "\n",
    "d.keys()  # this returns an (almost) list of keys"
   ]
  },
  {
   "cell_type": "code",
   "execution_count": 52,
   "metadata": {},
   "outputs": [],
   "source": [
    "# some order to \"pop\"\n",
    "\n",
    "# list.pop() -- returns and removes the final element\n",
    "# list.pop(n) -- returns and removes the element at index n\n",
    "\n",
    "# dict.pop(k) -- returns and removes the pair with key k"
   ]
  },
  {
   "cell_type": "code",
   "execution_count": 53,
   "metadata": {},
   "outputs": [
    {
     "data": {
      "text/plain": [
       "dict_values([1, 2, 3])"
      ]
     },
     "execution_count": 53,
     "metadata": {},
     "output_type": "execute_result"
    }
   ],
   "source": [
    "d.values()   # this returns an (almost) list of values"
   ]
  },
  {
   "cell_type": "code",
   "execution_count": 54,
   "metadata": {},
   "outputs": [
    {
     "data": {
      "text/plain": [
       "True"
      ]
     },
     "execution_count": 54,
     "metadata": {},
     "output_type": "execute_result"
    }
   ],
   "source": [
    "# if you want to search the values, you *could* say\n",
    "3 in d.values()"
   ]
  },
  {
   "cell_type": "code",
   "execution_count": 56,
   "metadata": {},
   "outputs": [
    {
     "name": "stdout",
     "output_type": "stream",
     "text": [
      "1\n",
      "2\n",
      "3\n"
     ]
    }
   ],
   "source": [
    "for one_item in d.values():\n",
    "    print(one_item)"
   ]
  },
  {
   "cell_type": "code",
   "execution_count": 57,
   "metadata": {},
   "outputs": [
    {
     "data": {
      "text/plain": [
       "dict_keys(['a', 'b', 'c'])"
      ]
     },
     "execution_count": 57,
     "metadata": {},
     "output_type": "execute_result"
    }
   ],
   "source": [
    "d.keys()"
   ]
  },
  {
   "cell_type": "code",
   "execution_count": 58,
   "metadata": {},
   "outputs": [
    {
     "data": {
      "text/plain": [
       "dict_values([1, 2, 3])"
      ]
     },
     "execution_count": 58,
     "metadata": {},
     "output_type": "execute_result"
    }
   ],
   "source": [
    "d.values()"
   ]
  },
  {
   "cell_type": "code",
   "execution_count": 59,
   "metadata": {},
   "outputs": [
    {
     "data": {
      "text/plain": [
       "{'a': 1, 'b': 2, 'c': 3}"
      ]
     },
     "execution_count": 59,
     "metadata": {},
     "output_type": "execute_result"
    }
   ],
   "source": [
    "# as of Python 3.7, dicts guarantee key-value pairs \n",
    "# will be in insertion order.  (Before that, this was\n",
    "# *DEFINITELY* not the case!)\n",
    "\n",
    "d = {}   # empty dict\n",
    "d['a'] = 1\n",
    "d['b'] = 2\n",
    "d['c'] = 3\n",
    "\n",
    "d"
   ]
  },
  {
   "cell_type": "code",
   "execution_count": 61,
   "metadata": {},
   "outputs": [
    {
     "data": {
      "text/plain": [
       "2"
      ]
     },
     "execution_count": 61,
     "metadata": {},
     "output_type": "execute_result"
    }
   ],
   "source": [
    "d.pop('b')  # remove the key-value pair with 'b'"
   ]
  },
  {
   "cell_type": "code",
   "execution_count": 62,
   "metadata": {},
   "outputs": [
    {
     "data": {
      "text/plain": [
       "{'a': 1, 'c': 3, 'b': 999}"
      ]
     },
     "execution_count": 62,
     "metadata": {},
     "output_type": "execute_result"
    }
   ],
   "source": [
    "d['b'] = 999\n",
    "d"
   ]
  },
  {
   "cell_type": "code",
   "execution_count": 63,
   "metadata": {},
   "outputs": [
    {
     "data": {
      "text/plain": [
       "dict_keys(['a', 'c', 'b'])"
      ]
     },
     "execution_count": 63,
     "metadata": {},
     "output_type": "execute_result"
    }
   ],
   "source": [
    "d.keys()"
   ]
  },
  {
   "cell_type": "code",
   "execution_count": 64,
   "metadata": {},
   "outputs": [
    {
     "data": {
      "text/plain": [
       "dict_values([1, 3, 999])"
      ]
     },
     "execution_count": 64,
     "metadata": {},
     "output_type": "execute_result"
    }
   ],
   "source": [
    "d.values()"
   ]
  },
  {
   "cell_type": "code",
   "execution_count": 65,
   "metadata": {},
   "outputs": [
    {
     "data": {
      "text/plain": [
       "{'a': 1, 'b': 2, 'c': 3}"
      ]
     },
     "execution_count": 65,
     "metadata": {},
     "output_type": "execute_result"
    }
   ],
   "source": [
    "d = {'a':0, 'b':0, 'c':0}\n",
    "\n",
    "d['a'] += 1\n",
    "d['b'] += 2\n",
    "d['c'] += 3\n",
    "\n",
    "d"
   ]
  },
  {
   "cell_type": "markdown",
   "metadata": {},
   "source": [
    "# Exercise: Vowels, digits, and others\n",
    "\n",
    "1. Set up a dict, `counts`, in which there are three keys, `vowels`, `digits`, and `others`. Their values should all be set to 0.\n",
    "2. Ask the user to enter a string.\n",
    "3. Go through the string, one character at a time.\n",
    "   - If the character is a digit, add 1 to that count.\n",
    "   - If the character is a vowel, add 1 to that count.\n",
    "   - Otherwise, add 1 to the `others` count.\n",
    "4. Print the dict, so we can see the counts.   "
   ]
  },
  {
   "cell_type": "code",
   "execution_count": 67,
   "metadata": {},
   "outputs": [
    {
     "name": "stdout",
     "output_type": "stream",
     "text": [
      "Enter a string: hello 1234\n",
      "{'vowels': 2, 'digits': 4, 'others': 4}\n"
     ]
    }
   ],
   "source": [
    "counts = {'vowels':0, 'digits':0, 'others':0}\n",
    "\n",
    "s = input('Enter a string: ').strip()\n",
    "\n",
    "for one_character in s:\n",
    "    if one_character.isdigit():\n",
    "        counts['digits'] += 1\n",
    "    elif one_character.lower() in 'aeiou':\n",
    "        counts['vowels'] += 1\n",
    "    else:\n",
    "        counts['others'] += 1\n",
    "        \n",
    "print(counts)"
   ]
  },
  {
   "cell_type": "code",
   "execution_count": 74,
   "metadata": {},
   "outputs": [
    {
     "name": "stdout",
     "output_type": "stream",
     "text": [
      "Yes!\n"
     ]
    }
   ],
   "source": [
    "s = 'x'\n",
    "\n",
    "# make sure to use () when you want to run a function!\n",
    "\n",
    "if s.isdigit: # without parens, it's asking: does the function exist?\n",
    "    print('Yes!')\n",
    "else:\n",
    "    print('No!')"
   ]
  },
  {
   "cell_type": "code",
   "execution_count": 71,
   "metadata": {},
   "outputs": [],
   "source": [
    "x = 10\n",
    "y = [10, 20, 30]\n",
    "z = (100, 200, 300, 400, 500)"
   ]
  },
  {
   "cell_type": "code",
   "execution_count": 72,
   "metadata": {
    "collapsed": true
   },
   "outputs": [
    {
     "data": {
      "text/plain": [
       "{'__name__': '__main__',\n",
       " '__doc__': 'Automatically created module for IPython interactive environment',\n",
       " '__package__': None,\n",
       " '__loader__': None,\n",
       " '__spec__': None,\n",
       " '__builtin__': <module 'builtins' (built-in)>,\n",
       " '__builtins__': <module 'builtins' (built-in)>,\n",
       " '_ih': ['',\n",
       "  '# hello!',\n",
       "  \"while True:\\n    name = input('Enter your name: ').strip()\\n\\n    if not name:  # if name == '':\\n        break\\n        \\n    print(f'Hello, {name}!')\",\n",
       "  \"while True:\\n    name = input('Enter your name: ').strip()\\n\\n    if name == 'quit':\\n        break\\n        \\n    print(f'Hello, {name}!')\",\n",
       "  \"# if I have a string\\ns = 'abcde'\\n\\ns[0]\",\n",
       "  's[1]',\n",
       "  's[2]',\n",
       "  '# max index in a string is len(s) - 1\\nlen(s)',\n",
       "  's[4]',\n",
       "  '# the numeric index of 0 - len(thing)-1 is true for:\\n# - strings\\n# - lists\\n# - tuples',\n",
       "  \"# sometimes, I might want to have an index that isn't\\n# numeric, or that has a different value\\n\\n# - ID numbers\\n# - product numbers\\n# - names\\n# - dates\",\n",
       "  \"# creating a dictionary\\n\\n# use curly braces on the outside \\n# we have key-value pairs separated by commas\\n# the key is separated from the value with :\\n\\nd = {'a':1, 'b':2, 'c':3}\",\n",
       "  '# how big is my dict?\\nlen(d)',\n",
       "  \"# creating a dictionary\\n\\n# use curly braces on the outside \\n# we have key-value pairs separated by commas\\n# the key is separated from the value with :\\n\\n#   3 key-value pairs in d:\\n#   key:value,  key:value,  key:value\\nd = {'a':1, 'b':2, 'c':3}\",\n",
       "  \"# to retrieve from a dict, put the key in square brackets!\\nd['a']\",\n",
       "  \"d['b']\",\n",
       "  \"d['c']\",\n",
       "  \"d['q']  # does this exist?  no, so I get...\",\n",
       "  'd',\n",
       "  '# keys are unique! \\n# not a surprise -- indexes in str/list/tuple are also unique\\n\\n# keys must be immutable -- basically, numbers and strings\\n#  (you can use tuples if you want, but only if they contain \\n#   immutable data)',\n",
       "  'd',\n",
       "  '# I can ask if a key is in the dict with \"in\"\\n\\n\\'a\\' in d  # is the string \\'a\\' a key in d?',\n",
       "  \"'q' in d\",\n",
       "  \"# the string must match EXACTLY!\\n\\n' a' in d\",\n",
       "  \"'a ' in d\",\n",
       "  \"'A' in d\",\n",
       "  \"# define the dict \\nd = {'a':1, 'b':2, 'c':3}\\n\\n'a' in d\",\n",
       "  \"'q' in d\",\n",
       "  \"d['a']\",\n",
       "  'menu = {\\'sandwich\\':10, \\'tea\\':5, \\'apple\\':1, \\'cake\\':3}\\ntotal = 0\\n\\nwhile True:\\n    order = input(\\'Order: \\').strip()\\n    \\n    if order == \\'\\':\\n        break\\n        \\n    if order in menu:  # meaning: if the order is a key in \"menu\"\\n        price = menu[order]\\n        total += price\\n        print(f\\'{order} is {price}; total is now {total}\\')\\n    else:\\n        print(f\\'We are fresh out of {order} today!\\')\\n        \\nprint(f\\'Your total is {total}.\\')',\n",
       "  'menu = {\\'sandwich\\':10, \\'tea\\':5, \\'apple\\':1, \\'cake\\':3}\\ntotal = 0\\n\\nwhile True:\\n    order = input(\\'Order: \\').strip()\\n    \\n    if order == \\'\\':  # empty order? exit the loop\\n        break\\n        \\n    if order.lower() in menu:  # meaning: if the order is a key in \"menu\"\\n        price = menu[order]\\n        total += price\\n        print(f\\'{order} is {price}; total is now {total}\\')\\n    else:\\n        print(f\\'We are fresh out of {order} today!\\')\\n        \\nprint(f\\'Your total is {total}.\\')',\n",
       "  'menu = {\\'sandwich\\':10, \\'tea\\':5, \\'apple\\':1, \\'cake\\':3}\\ntotal = 0\\n\\nwhile True:\\n    order = input(\\'Order: \\').strip()\\n    \\n    if order == \\'\\':  # empty order? exit the loop\\n        break\\n        \\n    if order in menu:  # meaning: if the order is a key in \"menu\"\\n        price = menu[order]\\n        total += price\\n        print(f\\'{order} is {price}; total is now {total}\\')\\n    else:\\n        print(f\\'We are fresh out of {order} today!\\')\\n        \\nprint(f\\'Your total is {total}.\\')',\n",
       "  'menu = {\\'sandwich\\':10, \\'tea\\':5, \\'apple\\':1, \\'cake\\':3}\\ntotal = 0\\n\\nwhile True:\\n    order = input(\\'Order: \\').strip()\\n    \\n    if order == \\'\\':  # empty order? exit the loop\\n        break\\n        \\n    if order in menu:  # meaning: if the order is a key in \"menu\"\\n        price = menu[order]\\n        total += price\\n        print(f\\'{order} is ${price:5.2}; total is now {total}\\')\\n    else:\\n        print(f\\'We are fresh out of {order} today!\\')\\n        \\nprint(f\\'Your total is {total}.\\')',\n",
       "  'menu = {\\'sandwich\\':10, \\'tea\\':5, \\'apple\\':1, \\'cake\\':3}\\ntotal = 0\\n\\nwhile True:\\n    order = input(\\'Order: \\').strip()\\n    \\n    if order == \\'\\':  # empty order? exit the loop\\n        break\\n        \\n    if order in menu:  # meaning: if the order is a key in \"menu\"\\n        price = menu[order]\\n        total += price\\n        print(f\\'{order} is ${price}; total is now {total}\\')\\n    else:\\n        print(f\\'We are fresh out of {order} today!\\')\\n        \\nprint(f\\'Your total is {total}.\\')',\n",
       "  'print(menu)',\n",
       "  \"d = {'a':1, 'b':2, 'c':3}\\n\\n# can I change my dict?\\n# answer: YES!\\n\\n# first way to change: add a new key-value pair\\n# how? by assigning to it\\nd['x'] = 100\",\n",
       "  'd',\n",
       "  \"d['y'] = 123.456\\nd\",\n",
       "  \"# if you're in Jupyter, then you can use the %whos\\n# magic command to get a table of all global variables\\n\\nget_ipython().run_line_magic('whos', '')\",\n",
       "  \"# how can I modify a value associated with a dict key?\\n# I just assign to it!\\n# Yes, same as adding a key-value pair\\n\\nd['x'] = 99999\\nd\",\n",
       "  \"d['a'] = 12345\\nd\",\n",
       "  \"d['b'] = 'hello'\\nd\",\n",
       "  \"d['c'] = {'q':999, 'r':888, 's':777}\",\n",
       "  'd',\n",
       "  \"# any string can be a key\\n# any string can be a value\\n\\n# you could do this (but don't, please!)\\n\\nd = {'':1, ' ':2, '  ':3, '   ':4}\\nd\",\n",
       "  \"d['   ']\",\n",
       "  \"d['  ']\",\n",
       "  '# keys are unique!\\n# so a key can only appear once in a dict\\n# but values can appear as often as you want',\n",
       "  \"d = {'a':1, 'b':2, 'c':3}\\n\\n# I can add key-value pairs\\n# I can modify values associated with keys\\n\\n# I can also remove key-value pairs, but that's pretty rare\",\n",
       "  '# you can remove a key-value pair with the \"pop\" method\\nd.pop(\\'c\\')  # returns c\\'s value, and removes the pair',\n",
       "  'd',\n",
       "  \"d = {'a':1, 'b':2, 'c':3}\\n\\nd.keys()  # this returns an (almost) list of keys\",\n",
       "  '# some order to \"pop\"\\n\\n# list.pop() -- returns and removes the final element\\n# list.pop(n) -- returns and removes the element at index n\\n\\n# dict.pop(k) -- returns and removes the pair with key k',\n",
       "  'd.values()   # this returns an (almost) list of values',\n",
       "  '# if you want to search the values, you *could* say\\n3 in d.values()',\n",
       "  'd.values()[2]',\n",
       "  'for one_item in d.values():\\n    print(one_item)',\n",
       "  'd.keys()',\n",
       "  'd.values()',\n",
       "  \"# as of Python 3.7, dicts guarantee key-value pairs \\n# will be in insertion order.  (Before that, this was\\n# *DEFINITELY* not the case!)\\n\\nd = {}   # empty dict\\nd['a'] = 1\\nd['b'] = 2\\nd['c'] = 3\\n\\nd\",\n",
       "  \"d.pop(b)  # remove the key-value pair with 'b'\",\n",
       "  \"d.pop('b')  # remove the key-value pair with 'b'\",\n",
       "  \"d['b'] = 999\\nd\",\n",
       "  'd.keys()',\n",
       "  'd.values()',\n",
       "  \"d = {'a':0, 'b':0, 'c':0}\\n\\nd['a'] += 1\\nd['b'] += 2\\nd['c'] += 3\\n\\nd\",\n",
       "  \"counts = {'vowels':0, 'digits':0, 'others':0}\\n\\ns = input('Enter a string: ').strip()\\n\\nfor one_character in s:\\n    if s.isdigit():\\n        counts['digits'] += 1\\n    elif s.lower() in 'aeiou':\\n        counts['vowels'] += 1\\n    else:\\n        counts['others'] += 1\\n        \\nprint(counts)\",\n",
       "  \"counts = {'vowels':0, 'digits':0, 'others':0}\\n\\ns = input('Enter a string: ').strip()\\n\\nfor one_character in s:\\n    if one_character.isdigit():\\n        counts['digits'] += 1\\n    elif one_character.lower() in 'aeiou':\\n        counts['vowels'] += 1\\n    else:\\n        counts['others'] += 1\\n        \\nprint(counts)\",\n",
       "  \"s = '1'\\n\\nif s.isdigit():\\n    print('Yes!')\\nelse:\\n    print('No!')\",\n",
       "  \"s = 'x'\\n\\nif s.isdigit():\\n    print('Yes!')\\nelse:\\n    print('No!')\",\n",
       "  \"s = 'x'\\n\\nif s.isdigit:\\n    print('Yes!')\\nelse:\\n    print('No!')\",\n",
       "  'x = 10\\ny = [10, 20, 30]\\nz = (100, 200, 300, 400, 500)',\n",
       "  '# call the \"globals()\" function, and get a dict with *all* global variables!\\nglobals()'],\n",
       " '_oh': {4: 'a',\n",
       "  5: 'b',\n",
       "  6: 'c',\n",
       "  7: 5,\n",
       "  8: 'e',\n",
       "  12: 3,\n",
       "  14: 1,\n",
       "  15: 2,\n",
       "  16: 3,\n",
       "  18: {'a': 1, 'b': 2, 'c': 3},\n",
       "  20: {'a': 1, 'b': 2, 'c': 3},\n",
       "  21: True,\n",
       "  22: False,\n",
       "  23: False,\n",
       "  24: False,\n",
       "  25: False,\n",
       "  26: True,\n",
       "  27: False,\n",
       "  28: 1,\n",
       "  36: {'a': 12345,\n",
       "   'b': 'hello',\n",
       "   'c': {'q': 999, 'r': 888, 's': 777},\n",
       "   'x': 99999,\n",
       "   'y': 123.456},\n",
       "  37: {'a': 12345,\n",
       "   'b': 'hello',\n",
       "   'c': {'q': 999, 'r': 888, 's': 777},\n",
       "   'x': 99999,\n",
       "   'y': 123.456},\n",
       "  39: {'a': 12345,\n",
       "   'b': 'hello',\n",
       "   'c': {'q': 999, 'r': 888, 's': 777},\n",
       "   'x': 99999,\n",
       "   'y': 123.456},\n",
       "  40: {'a': 12345,\n",
       "   'b': 'hello',\n",
       "   'c': {'q': 999, 'r': 888, 's': 777},\n",
       "   'x': 99999,\n",
       "   'y': 123.456},\n",
       "  41: {'a': 12345,\n",
       "   'b': 'hello',\n",
       "   'c': {'q': 999, 'r': 888, 's': 777},\n",
       "   'x': 99999,\n",
       "   'y': 123.456},\n",
       "  43: {'a': 12345,\n",
       "   'b': 'hello',\n",
       "   'c': {'q': 999, 'r': 888, 's': 777},\n",
       "   'x': 99999,\n",
       "   'y': 123.456},\n",
       "  44: {'': 1, ' ': 2, '  ': 3, '   ': 4},\n",
       "  45: 4,\n",
       "  46: 3,\n",
       "  49: 3,\n",
       "  50: {'a': 1, 'b': 2},\n",
       "  51: dict_keys(['a', 'b', 'c']),\n",
       "  53: dict_values([1, 2, 3]),\n",
       "  54: True,\n",
       "  57: dict_keys(['a', 'b', 'c']),\n",
       "  58: dict_values([1, 2, 3]),\n",
       "  59: {'a': 1, 'c': 3, 'b': 999},\n",
       "  61: 2,\n",
       "  62: {'a': 1, 'c': 3, 'b': 999},\n",
       "  63: dict_keys(['a', 'c', 'b']),\n",
       "  64: dict_values([1, 3, 999]),\n",
       "  65: {'a': 1, 'b': 2, 'c': 3}},\n",
       " '_dh': [\"/Users/reuven/Courses/Current/O'Reilly-2021-q2-first-steps\"],\n",
       " 'In': ['',\n",
       "  '# hello!',\n",
       "  \"while True:\\n    name = input('Enter your name: ').strip()\\n\\n    if not name:  # if name == '':\\n        break\\n        \\n    print(f'Hello, {name}!')\",\n",
       "  \"while True:\\n    name = input('Enter your name: ').strip()\\n\\n    if name == 'quit':\\n        break\\n        \\n    print(f'Hello, {name}!')\",\n",
       "  \"# if I have a string\\ns = 'abcde'\\n\\ns[0]\",\n",
       "  's[1]',\n",
       "  's[2]',\n",
       "  '# max index in a string is len(s) - 1\\nlen(s)',\n",
       "  's[4]',\n",
       "  '# the numeric index of 0 - len(thing)-1 is true for:\\n# - strings\\n# - lists\\n# - tuples',\n",
       "  \"# sometimes, I might want to have an index that isn't\\n# numeric, or that has a different value\\n\\n# - ID numbers\\n# - product numbers\\n# - names\\n# - dates\",\n",
       "  \"# creating a dictionary\\n\\n# use curly braces on the outside \\n# we have key-value pairs separated by commas\\n# the key is separated from the value with :\\n\\nd = {'a':1, 'b':2, 'c':3}\",\n",
       "  '# how big is my dict?\\nlen(d)',\n",
       "  \"# creating a dictionary\\n\\n# use curly braces on the outside \\n# we have key-value pairs separated by commas\\n# the key is separated from the value with :\\n\\n#   3 key-value pairs in d:\\n#   key:value,  key:value,  key:value\\nd = {'a':1, 'b':2, 'c':3}\",\n",
       "  \"# to retrieve from a dict, put the key in square brackets!\\nd['a']\",\n",
       "  \"d['b']\",\n",
       "  \"d['c']\",\n",
       "  \"d['q']  # does this exist?  no, so I get...\",\n",
       "  'd',\n",
       "  '# keys are unique! \\n# not a surprise -- indexes in str/list/tuple are also unique\\n\\n# keys must be immutable -- basically, numbers and strings\\n#  (you can use tuples if you want, but only if they contain \\n#   immutable data)',\n",
       "  'd',\n",
       "  '# I can ask if a key is in the dict with \"in\"\\n\\n\\'a\\' in d  # is the string \\'a\\' a key in d?',\n",
       "  \"'q' in d\",\n",
       "  \"# the string must match EXACTLY!\\n\\n' a' in d\",\n",
       "  \"'a ' in d\",\n",
       "  \"'A' in d\",\n",
       "  \"# define the dict \\nd = {'a':1, 'b':2, 'c':3}\\n\\n'a' in d\",\n",
       "  \"'q' in d\",\n",
       "  \"d['a']\",\n",
       "  'menu = {\\'sandwich\\':10, \\'tea\\':5, \\'apple\\':1, \\'cake\\':3}\\ntotal = 0\\n\\nwhile True:\\n    order = input(\\'Order: \\').strip()\\n    \\n    if order == \\'\\':\\n        break\\n        \\n    if order in menu:  # meaning: if the order is a key in \"menu\"\\n        price = menu[order]\\n        total += price\\n        print(f\\'{order} is {price}; total is now {total}\\')\\n    else:\\n        print(f\\'We are fresh out of {order} today!\\')\\n        \\nprint(f\\'Your total is {total}.\\')',\n",
       "  'menu = {\\'sandwich\\':10, \\'tea\\':5, \\'apple\\':1, \\'cake\\':3}\\ntotal = 0\\n\\nwhile True:\\n    order = input(\\'Order: \\').strip()\\n    \\n    if order == \\'\\':  # empty order? exit the loop\\n        break\\n        \\n    if order.lower() in menu:  # meaning: if the order is a key in \"menu\"\\n        price = menu[order]\\n        total += price\\n        print(f\\'{order} is {price}; total is now {total}\\')\\n    else:\\n        print(f\\'We are fresh out of {order} today!\\')\\n        \\nprint(f\\'Your total is {total}.\\')',\n",
       "  'menu = {\\'sandwich\\':10, \\'tea\\':5, \\'apple\\':1, \\'cake\\':3}\\ntotal = 0\\n\\nwhile True:\\n    order = input(\\'Order: \\').strip()\\n    \\n    if order == \\'\\':  # empty order? exit the loop\\n        break\\n        \\n    if order in menu:  # meaning: if the order is a key in \"menu\"\\n        price = menu[order]\\n        total += price\\n        print(f\\'{order} is {price}; total is now {total}\\')\\n    else:\\n        print(f\\'We are fresh out of {order} today!\\')\\n        \\nprint(f\\'Your total is {total}.\\')',\n",
       "  'menu = {\\'sandwich\\':10, \\'tea\\':5, \\'apple\\':1, \\'cake\\':3}\\ntotal = 0\\n\\nwhile True:\\n    order = input(\\'Order: \\').strip()\\n    \\n    if order == \\'\\':  # empty order? exit the loop\\n        break\\n        \\n    if order in menu:  # meaning: if the order is a key in \"menu\"\\n        price = menu[order]\\n        total += price\\n        print(f\\'{order} is ${price:5.2}; total is now {total}\\')\\n    else:\\n        print(f\\'We are fresh out of {order} today!\\')\\n        \\nprint(f\\'Your total is {total}.\\')',\n",
       "  'menu = {\\'sandwich\\':10, \\'tea\\':5, \\'apple\\':1, \\'cake\\':3}\\ntotal = 0\\n\\nwhile True:\\n    order = input(\\'Order: \\').strip()\\n    \\n    if order == \\'\\':  # empty order? exit the loop\\n        break\\n        \\n    if order in menu:  # meaning: if the order is a key in \"menu\"\\n        price = menu[order]\\n        total += price\\n        print(f\\'{order} is ${price}; total is now {total}\\')\\n    else:\\n        print(f\\'We are fresh out of {order} today!\\')\\n        \\nprint(f\\'Your total is {total}.\\')',\n",
       "  'print(menu)',\n",
       "  \"d = {'a':1, 'b':2, 'c':3}\\n\\n# can I change my dict?\\n# answer: YES!\\n\\n# first way to change: add a new key-value pair\\n# how? by assigning to it\\nd['x'] = 100\",\n",
       "  'd',\n",
       "  \"d['y'] = 123.456\\nd\",\n",
       "  \"# if you're in Jupyter, then you can use the %whos\\n# magic command to get a table of all global variables\\n\\nget_ipython().run_line_magic('whos', '')\",\n",
       "  \"# how can I modify a value associated with a dict key?\\n# I just assign to it!\\n# Yes, same as adding a key-value pair\\n\\nd['x'] = 99999\\nd\",\n",
       "  \"d['a'] = 12345\\nd\",\n",
       "  \"d['b'] = 'hello'\\nd\",\n",
       "  \"d['c'] = {'q':999, 'r':888, 's':777}\",\n",
       "  'd',\n",
       "  \"# any string can be a key\\n# any string can be a value\\n\\n# you could do this (but don't, please!)\\n\\nd = {'':1, ' ':2, '  ':3, '   ':4}\\nd\",\n",
       "  \"d['   ']\",\n",
       "  \"d['  ']\",\n",
       "  '# keys are unique!\\n# so a key can only appear once in a dict\\n# but values can appear as often as you want',\n",
       "  \"d = {'a':1, 'b':2, 'c':3}\\n\\n# I can add key-value pairs\\n# I can modify values associated with keys\\n\\n# I can also remove key-value pairs, but that's pretty rare\",\n",
       "  '# you can remove a key-value pair with the \"pop\" method\\nd.pop(\\'c\\')  # returns c\\'s value, and removes the pair',\n",
       "  'd',\n",
       "  \"d = {'a':1, 'b':2, 'c':3}\\n\\nd.keys()  # this returns an (almost) list of keys\",\n",
       "  '# some order to \"pop\"\\n\\n# list.pop() -- returns and removes the final element\\n# list.pop(n) -- returns and removes the element at index n\\n\\n# dict.pop(k) -- returns and removes the pair with key k',\n",
       "  'd.values()   # this returns an (almost) list of values',\n",
       "  '# if you want to search the values, you *could* say\\n3 in d.values()',\n",
       "  'd.values()[2]',\n",
       "  'for one_item in d.values():\\n    print(one_item)',\n",
       "  'd.keys()',\n",
       "  'd.values()',\n",
       "  \"# as of Python 3.7, dicts guarantee key-value pairs \\n# will be in insertion order.  (Before that, this was\\n# *DEFINITELY* not the case!)\\n\\nd = {}   # empty dict\\nd['a'] = 1\\nd['b'] = 2\\nd['c'] = 3\\n\\nd\",\n",
       "  \"d.pop(b)  # remove the key-value pair with 'b'\",\n",
       "  \"d.pop('b')  # remove the key-value pair with 'b'\",\n",
       "  \"d['b'] = 999\\nd\",\n",
       "  'd.keys()',\n",
       "  'd.values()',\n",
       "  \"d = {'a':0, 'b':0, 'c':0}\\n\\nd['a'] += 1\\nd['b'] += 2\\nd['c'] += 3\\n\\nd\",\n",
       "  \"counts = {'vowels':0, 'digits':0, 'others':0}\\n\\ns = input('Enter a string: ').strip()\\n\\nfor one_character in s:\\n    if s.isdigit():\\n        counts['digits'] += 1\\n    elif s.lower() in 'aeiou':\\n        counts['vowels'] += 1\\n    else:\\n        counts['others'] += 1\\n        \\nprint(counts)\",\n",
       "  \"counts = {'vowels':0, 'digits':0, 'others':0}\\n\\ns = input('Enter a string: ').strip()\\n\\nfor one_character in s:\\n    if one_character.isdigit():\\n        counts['digits'] += 1\\n    elif one_character.lower() in 'aeiou':\\n        counts['vowels'] += 1\\n    else:\\n        counts['others'] += 1\\n        \\nprint(counts)\",\n",
       "  \"s = '1'\\n\\nif s.isdigit():\\n    print('Yes!')\\nelse:\\n    print('No!')\",\n",
       "  \"s = 'x'\\n\\nif s.isdigit():\\n    print('Yes!')\\nelse:\\n    print('No!')\",\n",
       "  \"s = 'x'\\n\\nif s.isdigit:\\n    print('Yes!')\\nelse:\\n    print('No!')\",\n",
       "  'x = 10\\ny = [10, 20, 30]\\nz = (100, 200, 300, 400, 500)',\n",
       "  '# call the \"globals()\" function, and get a dict with *all* global variables!\\nglobals()'],\n",
       " 'Out': {4: 'a',\n",
       "  5: 'b',\n",
       "  6: 'c',\n",
       "  7: 5,\n",
       "  8: 'e',\n",
       "  12: 3,\n",
       "  14: 1,\n",
       "  15: 2,\n",
       "  16: 3,\n",
       "  18: {'a': 1, 'b': 2, 'c': 3},\n",
       "  20: {'a': 1, 'b': 2, 'c': 3},\n",
       "  21: True,\n",
       "  22: False,\n",
       "  23: False,\n",
       "  24: False,\n",
       "  25: False,\n",
       "  26: True,\n",
       "  27: False,\n",
       "  28: 1,\n",
       "  36: {'a': 12345,\n",
       "   'b': 'hello',\n",
       "   'c': {'q': 999, 'r': 888, 's': 777},\n",
       "   'x': 99999,\n",
       "   'y': 123.456},\n",
       "  37: {'a': 12345,\n",
       "   'b': 'hello',\n",
       "   'c': {'q': 999, 'r': 888, 's': 777},\n",
       "   'x': 99999,\n",
       "   'y': 123.456},\n",
       "  39: {'a': 12345,\n",
       "   'b': 'hello',\n",
       "   'c': {'q': 999, 'r': 888, 's': 777},\n",
       "   'x': 99999,\n",
       "   'y': 123.456},\n",
       "  40: {'a': 12345,\n",
       "   'b': 'hello',\n",
       "   'c': {'q': 999, 'r': 888, 's': 777},\n",
       "   'x': 99999,\n",
       "   'y': 123.456},\n",
       "  41: {'a': 12345,\n",
       "   'b': 'hello',\n",
       "   'c': {'q': 999, 'r': 888, 's': 777},\n",
       "   'x': 99999,\n",
       "   'y': 123.456},\n",
       "  43: {'a': 12345,\n",
       "   'b': 'hello',\n",
       "   'c': {'q': 999, 'r': 888, 's': 777},\n",
       "   'x': 99999,\n",
       "   'y': 123.456},\n",
       "  44: {'': 1, ' ': 2, '  ': 3, '   ': 4},\n",
       "  45: 4,\n",
       "  46: 3,\n",
       "  49: 3,\n",
       "  50: {'a': 1, 'b': 2},\n",
       "  51: dict_keys(['a', 'b', 'c']),\n",
       "  53: dict_values([1, 2, 3]),\n",
       "  54: True,\n",
       "  57: dict_keys(['a', 'b', 'c']),\n",
       "  58: dict_values([1, 2, 3]),\n",
       "  59: {'a': 1, 'c': 3, 'b': 999},\n",
       "  61: 2,\n",
       "  62: {'a': 1, 'c': 3, 'b': 999},\n",
       "  63: dict_keys(['a', 'c', 'b']),\n",
       "  64: dict_values([1, 3, 999]),\n",
       "  65: {'a': 1, 'b': 2, 'c': 3}},\n",
       " 'get_ipython': <bound method InteractiveShell.get_ipython of <ipykernel.zmqshell.ZMQInteractiveShell object at 0x106eee6d0>>,\n",
       " 'exit': <IPython.core.autocall.ZMQExitAutocall at 0x106fa7790>,\n",
       " 'quit': <IPython.core.autocall.ZMQExitAutocall at 0x106fa7790>,\n",
       " '_': {'a': 1, 'b': 2, 'c': 3},\n",
       " '__': dict_values([1, 3, 999]),\n",
       " '___': dict_keys(['a', 'c', 'b']),\n",
       " '_i': 'x = 10\\ny = [10, 20, 30]\\nz = (100, 200, 300, 400, 500)',\n",
       " '_ii': \"s = 'x'\\n\\nif s.isdigit:\\n    print('Yes!')\\nelse:\\n    print('No!')\",\n",
       " '_iii': \"s = 'x'\\n\\nif s.isdigit():\\n    print('Yes!')\\nelse:\\n    print('No!')\",\n",
       " '_i1': '# hello!',\n",
       " '_i2': \"while True:\\n    name = input('Enter your name: ').strip()\\n\\n    if not name:  # if name == '':\\n        break\\n        \\n    print(f'Hello, {name}!')\",\n",
       " 'name': 'quit',\n",
       " '_i3': \"while True:\\n    name = input('Enter your name: ').strip()\\n\\n    if name == 'quit':\\n        break\\n        \\n    print(f'Hello, {name}!')\",\n",
       " '_i4': \"# if I have a string\\ns = 'abcde'\\n\\ns[0]\",\n",
       " 's': 'x',\n",
       " '_4': 'a',\n",
       " '_i5': 's[1]',\n",
       " '_5': 'b',\n",
       " '_i6': 's[2]',\n",
       " '_6': 'c',\n",
       " '_i7': '# max index in a string is len(s) - 1\\nlen(s)',\n",
       " '_7': 5,\n",
       " '_i8': 's[4]',\n",
       " '_8': 'e',\n",
       " '_i9': '# the numeric index of 0 - len(thing)-1 is true for:\\n# - strings\\n# - lists\\n# - tuples',\n",
       " '_i10': \"# sometimes, I might want to have an index that isn't\\n# numeric, or that has a different value\\n\\n# - ID numbers\\n# - product numbers\\n# - names\\n# - dates\",\n",
       " '_i11': \"# creating a dictionary\\n\\n# use curly braces on the outside \\n# we have key-value pairs separated by commas\\n# the key is separated from the value with :\\n\\nd = {'a':1, 'b':2, 'c':3}\",\n",
       " 'd': {'a': 1, 'b': 2, 'c': 3},\n",
       " '_i12': '# how big is my dict?\\nlen(d)',\n",
       " '_12': 3,\n",
       " '_i13': \"# creating a dictionary\\n\\n# use curly braces on the outside \\n# we have key-value pairs separated by commas\\n# the key is separated from the value with :\\n\\n#   3 key-value pairs in d:\\n#   key:value,  key:value,  key:value\\nd = {'a':1, 'b':2, 'c':3}\",\n",
       " '_i14': \"# to retrieve from a dict, put the key in square brackets!\\nd['a']\",\n",
       " '_14': 1,\n",
       " '_i15': \"d['b']\",\n",
       " '_15': 2,\n",
       " '_i16': \"d['c']\",\n",
       " '_16': 3,\n",
       " '_i17': \"d['q']  # does this exist?  no, so I get...\",\n",
       " '_i18': 'd',\n",
       " '_18': {'a': 1, 'b': 2, 'c': 3},\n",
       " '_i19': '# keys are unique! \\n# not a surprise -- indexes in str/list/tuple are also unique\\n\\n# keys must be immutable -- basically, numbers and strings\\n#  (you can use tuples if you want, but only if they contain \\n#   immutable data)',\n",
       " '_i20': 'd',\n",
       " '_20': {'a': 1, 'b': 2, 'c': 3},\n",
       " '_i21': '# I can ask if a key is in the dict with \"in\"\\n\\n\\'a\\' in d  # is the string \\'a\\' a key in d?',\n",
       " '_21': True,\n",
       " '_i22': \"'q' in d\",\n",
       " '_22': False,\n",
       " '_i23': \"# the string must match EXACTLY!\\n\\n' a' in d\",\n",
       " '_23': False,\n",
       " '_i24': \"'a ' in d\",\n",
       " '_24': False,\n",
       " '_i25': \"'A' in d\",\n",
       " '_25': False,\n",
       " '_i26': \"# define the dict \\nd = {'a':1, 'b':2, 'c':3}\\n\\n'a' in d\",\n",
       " '_26': True,\n",
       " '_i27': \"'q' in d\",\n",
       " '_27': False,\n",
       " '_i28': \"d['a']\",\n",
       " '_28': 1,\n",
       " '_i29': 'menu = {\\'sandwich\\':10, \\'tea\\':5, \\'apple\\':1, \\'cake\\':3}\\ntotal = 0\\n\\nwhile True:\\n    order = input(\\'Order: \\').strip()\\n    \\n    if order == \\'\\':\\n        break\\n        \\n    if order in menu:  # meaning: if the order is a key in \"menu\"\\n        price = menu[order]\\n        total += price\\n        print(f\\'{order} is {price}; total is now {total}\\')\\n    else:\\n        print(f\\'We are fresh out of {order} today!\\')\\n        \\nprint(f\\'Your total is {total}.\\')',\n",
       " 'menu': {'sandwich': 10, 'tea': 5, 'apple': 1, 'cake': 3},\n",
       " 'total': 5,\n",
       " 'order': '',\n",
       " 'price': 5,\n",
       " '_i30': 'menu = {\\'sandwich\\':10, \\'tea\\':5, \\'apple\\':1, \\'cake\\':3}\\ntotal = 0\\n\\nwhile True:\\n    order = input(\\'Order: \\').strip()\\n    \\n    if order == \\'\\':  # empty order? exit the loop\\n        break\\n        \\n    if order.lower() in menu:  # meaning: if the order is a key in \"menu\"\\n        price = menu[order]\\n        total += price\\n        print(f\\'{order} is {price}; total is now {total}\\')\\n    else:\\n        print(f\\'We are fresh out of {order} today!\\')\\n        \\nprint(f\\'Your total is {total}.\\')',\n",
       " '_i31': 'menu = {\\'sandwich\\':10, \\'tea\\':5, \\'apple\\':1, \\'cake\\':3}\\ntotal = 0\\n\\nwhile True:\\n    order = input(\\'Order: \\').strip()\\n    \\n    if order == \\'\\':  # empty order? exit the loop\\n        break\\n        \\n    if order in menu:  # meaning: if the order is a key in \"menu\"\\n        price = menu[order]\\n        total += price\\n        print(f\\'{order} is {price}; total is now {total}\\')\\n    else:\\n        print(f\\'We are fresh out of {order} today!\\')\\n        \\nprint(f\\'Your total is {total}.\\')',\n",
       " '_i32': 'menu = {\\'sandwich\\':10, \\'tea\\':5, \\'apple\\':1, \\'cake\\':3}\\ntotal = 0\\n\\nwhile True:\\n    order = input(\\'Order: \\').strip()\\n    \\n    if order == \\'\\':  # empty order? exit the loop\\n        break\\n        \\n    if order in menu:  # meaning: if the order is a key in \"menu\"\\n        price = menu[order]\\n        total += price\\n        print(f\\'{order} is ${price:5.2}; total is now {total}\\')\\n    else:\\n        print(f\\'We are fresh out of {order} today!\\')\\n        \\nprint(f\\'Your total is {total}.\\')',\n",
       " '_i33': 'menu = {\\'sandwich\\':10, \\'tea\\':5, \\'apple\\':1, \\'cake\\':3}\\ntotal = 0\\n\\nwhile True:\\n    order = input(\\'Order: \\').strip()\\n    \\n    if order == \\'\\':  # empty order? exit the loop\\n        break\\n        \\n    if order in menu:  # meaning: if the order is a key in \"menu\"\\n        price = menu[order]\\n        total += price\\n        print(f\\'{order} is ${price}; total is now {total}\\')\\n    else:\\n        print(f\\'We are fresh out of {order} today!\\')\\n        \\nprint(f\\'Your total is {total}.\\')',\n",
       " '_i34': 'print(menu)',\n",
       " '_i35': \"d = {'a':1, 'b':2, 'c':3}\\n\\n# can I change my dict?\\n# answer: YES!\\n\\n# first way to change: add a new key-value pair\\n# how? by assigning to it\\nd['x'] = 100\",\n",
       " '_i36': 'd',\n",
       " '_36': {'a': 12345,\n",
       "  'b': 'hello',\n",
       "  'c': {'q': 999, 'r': 888, 's': 777},\n",
       "  'x': 99999,\n",
       "  'y': 123.456},\n",
       " '_i37': \"d['y'] = 123.456\\nd\",\n",
       " '_37': {'a': 12345,\n",
       "  'b': 'hello',\n",
       "  'c': {'q': 999, 'r': 888, 's': 777},\n",
       "  'x': 99999,\n",
       "  'y': 123.456},\n",
       " '_i38': \"# if you're in Jupyter, then you can use the %whos\\n# magic command to get a table of all global variables\\n\\n%whos\",\n",
       " '_i39': \"# how can I modify a value associated with a dict key?\\n# I just assign to it!\\n# Yes, same as adding a key-value pair\\n\\nd['x'] = 99999\\nd\",\n",
       " '_39': {'a': 12345,\n",
       "  'b': 'hello',\n",
       "  'c': {'q': 999, 'r': 888, 's': 777},\n",
       "  'x': 99999,\n",
       "  'y': 123.456},\n",
       " '_i40': \"d['a'] = 12345\\nd\",\n",
       " '_40': {'a': 12345,\n",
       "  'b': 'hello',\n",
       "  'c': {'q': 999, 'r': 888, 's': 777},\n",
       "  'x': 99999,\n",
       "  'y': 123.456},\n",
       " '_i41': \"d['b'] = 'hello'\\nd\",\n",
       " '_41': {'a': 12345,\n",
       "  'b': 'hello',\n",
       "  'c': {'q': 999, 'r': 888, 's': 777},\n",
       "  'x': 99999,\n",
       "  'y': 123.456},\n",
       " '_i42': \"d['c'] = {'q':999, 'r':888, 's':777}\",\n",
       " '_i43': 'd',\n",
       " '_43': {'a': 12345,\n",
       "  'b': 'hello',\n",
       "  'c': {'q': 999, 'r': 888, 's': 777},\n",
       "  'x': 99999,\n",
       "  'y': 123.456},\n",
       " '_i44': \"# any string can be a key\\n# any string can be a value\\n\\n# you could do this (but don't, please!)\\n\\nd = {'':1, ' ':2, '  ':3, '   ':4}\\nd\",\n",
       " '_44': {'': 1, ' ': 2, '  ': 3, '   ': 4},\n",
       " '_i45': \"d['   ']\",\n",
       " '_45': 4,\n",
       " '_i46': \"d['  ']\",\n",
       " '_46': 3,\n",
       " '_i47': '# keys are unique!\\n# so a key can only appear once in a dict\\n# but values can appear as often as you want',\n",
       " '_i48': \"d = {'a':1, 'b':2, 'c':3}\\n\\n# I can add key-value pairs\\n# I can modify values associated with keys\\n\\n# I can also remove key-value pairs, but that's pretty rare\",\n",
       " '_i49': '# you can remove a key-value pair with the \"pop\" method\\nd.pop(\\'c\\')  # returns c\\'s value, and removes the pair',\n",
       " '_49': 3,\n",
       " '_i50': 'd',\n",
       " '_50': {'a': 1, 'b': 2},\n",
       " '_i51': \"d = {'a':1, 'b':2, 'c':3}\\n\\nd.keys()  # this returns an (almost) list of keys\",\n",
       " '_51': dict_keys(['a', 'b', 'c']),\n",
       " '_i52': '# some order to \"pop\"\\n\\n# list.pop() -- returns and removes the final element\\n# list.pop(n) -- returns and removes the element at index n\\n\\n# dict.pop(k) -- returns and removes the pair with key k',\n",
       " '_i53': 'd.values()   # this returns an (almost) list of values',\n",
       " '_53': dict_values([1, 2, 3]),\n",
       " '_i54': '# if you want to search the values, you *could* say\\n3 in d.values()',\n",
       " '_54': True,\n",
       " '_i55': 'd.values()[2]',\n",
       " '_i56': 'for one_item in d.values():\\n    print(one_item)',\n",
       " 'one_item': 3,\n",
       " '_i57': 'd.keys()',\n",
       " '_57': dict_keys(['a', 'b', 'c']),\n",
       " '_i58': 'd.values()',\n",
       " '_58': dict_values([1, 2, 3]),\n",
       " '_i59': \"# as of Python 3.7, dicts guarantee key-value pairs \\n# will be in insertion order.  (Before that, this was\\n# *DEFINITELY* not the case!)\\n\\nd = {}   # empty dict\\nd['a'] = 1\\nd['b'] = 2\\nd['c'] = 3\\n\\nd\",\n",
       " '_59': {'a': 1, 'c': 3, 'b': 999},\n",
       " '_i60': \"d.pop(b)  # remove the key-value pair with 'b'\",\n",
       " '_i61': \"d.pop('b')  # remove the key-value pair with 'b'\",\n",
       " '_61': 2,\n",
       " '_i62': \"d['b'] = 999\\nd\",\n",
       " '_62': {'a': 1, 'c': 3, 'b': 999},\n",
       " '_i63': 'd.keys()',\n",
       " '_63': dict_keys(['a', 'c', 'b']),\n",
       " '_i64': 'd.values()',\n",
       " '_64': dict_values([1, 3, 999]),\n",
       " '_i65': \"d = {'a':0, 'b':0, 'c':0}\\n\\nd['a'] += 1\\nd['b'] += 2\\nd['c'] += 3\\n\\nd\",\n",
       " '_65': {'a': 1, 'b': 2, 'c': 3},\n",
       " '_i66': \"counts = {'vowels':0, 'digits':0, 'others':0}\\n\\ns = input('Enter a string: ').strip()\\n\\nfor one_character in s:\\n    if s.isdigit():\\n        counts['digits'] += 1\\n    elif s.lower() in 'aeiou':\\n        counts['vowels'] += 1\\n    else:\\n        counts['others'] += 1\\n        \\nprint(counts)\",\n",
       " 'counts': {'vowels': 2, 'digits': 4, 'others': 4},\n",
       " 'one_character': '4',\n",
       " '_i67': \"counts = {'vowels':0, 'digits':0, 'others':0}\\n\\ns = input('Enter a string: ').strip()\\n\\nfor one_character in s:\\n    if one_character.isdigit():\\n        counts['digits'] += 1\\n    elif one_character.lower() in 'aeiou':\\n        counts['vowels'] += 1\\n    else:\\n        counts['others'] += 1\\n        \\nprint(counts)\",\n",
       " '_i68': \"s = '1'\\n\\nif s.isdigit():\\n    print('Yes!')\\nelse:\\n    print('No!')\",\n",
       " '_i69': \"s = 'x'\\n\\nif s.isdigit():\\n    print('Yes!')\\nelse:\\n    print('No!')\",\n",
       " '_i70': \"s = 'x'\\n\\nif s.isdigit:\\n    print('Yes!')\\nelse:\\n    print('No!')\",\n",
       " '_i71': 'x = 10\\ny = [10, 20, 30]\\nz = (100, 200, 300, 400, 500)',\n",
       " 'x': 10,\n",
       " 'y': [10, 20, 30],\n",
       " 'z': (100, 200, 300, 400, 500),\n",
       " '_i72': '# call the \"globals()\" function, and get a dict with *all* global variables!\\nglobals()'}"
      ]
     },
     "execution_count": 72,
     "metadata": {},
     "output_type": "execute_result"
    }
   ],
   "source": [
    "# call the \"globals()\" function, and get a dict with *all* global variables!\n",
    "\n",
    "# don't use globals() in a real program!\n",
    "globals()"
   ]
  },
  {
   "cell_type": "markdown",
   "metadata": {},
   "source": [
    "# Parentheses in Python\n",
    "\n",
    "- `()` (regular, round)\n",
    "    - define tuples\n",
    "    - execute functions/classes\n",
    "    - grouping of math\n",
    "- `[]` (square brackets)\n",
    "    - define lists\n",
    "    - retrieve from strings, lists, tuples, and dicts\n",
    "- `{}` (curly braces)\n",
    "    - in f-strings\n",
    "    - in defining dicts"
   ]
  },
  {
   "cell_type": "markdown",
   "metadata": {},
   "source": [
    "# Using `continue` in a loop\n",
    "\n",
    "In either a `for` or `while` loop, you can use `break` to exit the loop immediately.\n",
    "\n",
    "\n"
   ]
  },
  {
   "cell_type": "code",
   "execution_count": 75,
   "metadata": {
    "scrolled": true
   },
   "outputs": [
    {
     "name": "stdout",
     "output_type": "stream",
     "text": [
      "Enter your name: world\n",
      "Hello, world!\n",
      "Enter your name: Reuven\n",
      "Hello, Reuven!\n",
      "Enter your name: \n",
      "Whew!  Done with that loop!\n"
     ]
    }
   ],
   "source": [
    "while True:\n",
    "    name = input('Enter your name: ').strip()\n",
    "    \n",
    "    if name == '':\n",
    "        break   # leaves the loop immediately!\n",
    "        \n",
    "    print(f'Hello, {name}!')\n",
    "    \n",
    "print('Whew!  Done with that loop!')    \n",
    "        "
   ]
  },
  {
   "cell_type": "markdown",
   "metadata": {},
   "source": [
    "# What about `continue`?\n",
    "\n",
    "`continue` means: finish this iteration right away, and go immediately to the next one. \n",
    "\n",
    "I often want "
   ]
  },
  {
   "cell_type": "code",
   "execution_count": null,
   "metadata": {},
   "outputs": [],
   "source": [
    "while True:\n",
    "    name = input('Enter your name: ').strip()\n",
    "    \n",
    "    if name == '':\n",
    "        break   # leaves the loop immediately!\n",
    "        \n",
    "    print(f'Hello, {name}!')\n",
    "    \n",
    "print('Whew!  Done with that loop!')    \n",
    "        "
   ]
  }
 ],
 "metadata": {
  "kernelspec": {
   "display_name": "Python 3",
   "language": "python",
   "name": "python3"
  },
  "language_info": {
   "codemirror_mode": {
    "name": "ipython",
    "version": 3
   },
   "file_extension": ".py",
   "mimetype": "text/x-python",
   "name": "python",
   "nbconvert_exporter": "python",
   "pygments_lexer": "ipython3",
   "version": "3.9.5"
  }
 },
 "nbformat": 4,
 "nbformat_minor": 4
}
