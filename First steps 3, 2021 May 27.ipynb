{
 "cells": [
  {
   "cell_type": "markdown",
   "metadata": {},
   "source": [
    "# Agenda\n",
    "\n",
    "1. Dictionaries\n",
    "    - What are they?  How are they different from strings/lists/tuples?\n",
    "    - Creating them\n",
    "    - Searching in them\n",
    "    - Modifying them\n",
    "    - Looping over them\n",
    "    - A little about how they work behind the scenes\n",
    "\n",
    "2. Files (text files)\n",
    "    - File objects\n",
    "    - Reading from files\n",
    "    - Looping over files\n",
    "    - Writing to files\n",
    "    - `with` statement and files\n",
    "    "
   ]
  },
  {
   "cell_type": "code",
   "execution_count": null,
   "metadata": {},
   "outputs": [],
   "source": [
    "while True:\n",
    "    "
   ]
  }
 ],
 "metadata": {
  "kernelspec": {
   "display_name": "Python 3",
   "language": "python",
   "name": "python3"
  },
  "language_info": {
   "codemirror_mode": {
    "name": "ipython",
    "version": 3
   },
   "file_extension": ".py",
   "mimetype": "text/x-python",
   "name": "python",
   "nbconvert_exporter": "python",
   "pygments_lexer": "ipython3",
   "version": "3.9.5"
  }
 },
 "nbformat": 4,
 "nbformat_minor": 4
}
