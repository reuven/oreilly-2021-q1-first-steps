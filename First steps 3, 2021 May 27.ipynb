{
 "cells": [
  {
   "cell_type": "markdown",
   "metadata": {},
   "source": [
    "# Agenda\n",
    "\n",
    "1. Dictionaries\n",
    "    - What are they?  How are they different from strings/lists/tuples?\n",
    "    - Creating them\n",
    "    - Searching in them\n",
    "    - Modifying them\n",
    "    - Looping over them\n",
    "    - A little about how they work behind the scenes\n",
    "\n",
    "2. Files (text files)\n",
    "    - File objects\n",
    "    - Reading from files\n",
    "    - Looping over files\n",
    "    - Writing to files\n",
    "    - `with` statement and files\n",
    "    "
   ]
  },
  {
   "cell_type": "code",
   "execution_count": 2,
   "metadata": {},
   "outputs": [
    {
     "name": "stdout",
     "output_type": "stream",
     "text": [
      "Enter your name: Reuven\n",
      "Hello, Reuven!\n",
      "Enter your name: world\n",
      "Hello, world!\n",
      "Enter your name: \n"
     ]
    }
   ],
   "source": [
    "while True:\n",
    "    name = input('Enter your name: ').strip()\n",
    "\n",
    "    if not name:  # if name == '':\n",
    "        break\n",
    "        \n",
    "    print(f'Hello, {name}!')"
   ]
  },
  {
   "cell_type": "code",
   "execution_count": 3,
   "metadata": {},
   "outputs": [
    {
     "name": "stdout",
     "output_type": "stream",
     "text": [
      "Enter your name: Reuven\n",
      "Hello, Reuven!\n",
      "Enter your name: world\n",
      "Hello, world!\n",
      "Enter your name: quit\n"
     ]
    }
   ],
   "source": [
    "while True:\n",
    "    name = input('Enter your name: ').strip()\n",
    "\n",
    "    if name == 'quit':\n",
    "        break\n",
    "        \n",
    "    print(f'Hello, {name}!')"
   ]
  },
  {
   "cell_type": "code",
   "execution_count": 4,
   "metadata": {},
   "outputs": [
    {
     "data": {
      "text/plain": [
       "'a'"
      ]
     },
     "execution_count": 4,
     "metadata": {},
     "output_type": "execute_result"
    }
   ],
   "source": [
    "# if I have a string\n",
    "s = 'abcde'\n",
    "\n",
    "s[0]"
   ]
  },
  {
   "cell_type": "code",
   "execution_count": 5,
   "metadata": {},
   "outputs": [
    {
     "data": {
      "text/plain": [
       "'b'"
      ]
     },
     "execution_count": 5,
     "metadata": {},
     "output_type": "execute_result"
    }
   ],
   "source": [
    "s[1]"
   ]
  },
  {
   "cell_type": "code",
   "execution_count": 6,
   "metadata": {},
   "outputs": [
    {
     "data": {
      "text/plain": [
       "'c'"
      ]
     },
     "execution_count": 6,
     "metadata": {},
     "output_type": "execute_result"
    }
   ],
   "source": [
    "s[2]"
   ]
  },
  {
   "cell_type": "code",
   "execution_count": 7,
   "metadata": {},
   "outputs": [
    {
     "data": {
      "text/plain": [
       "5"
      ]
     },
     "execution_count": 7,
     "metadata": {},
     "output_type": "execute_result"
    }
   ],
   "source": [
    "# max index in a string is len(s) - 1\n",
    "len(s)"
   ]
  },
  {
   "cell_type": "code",
   "execution_count": 8,
   "metadata": {},
   "outputs": [
    {
     "data": {
      "text/plain": [
       "'e'"
      ]
     },
     "execution_count": 8,
     "metadata": {},
     "output_type": "execute_result"
    }
   ],
   "source": [
    "s[4]"
   ]
  },
  {
   "cell_type": "code",
   "execution_count": 9,
   "metadata": {},
   "outputs": [],
   "source": [
    "# the numeric index of 0 - len(thing)-1 is true for:\n",
    "# - strings\n",
    "# - lists\n",
    "# - tuples"
   ]
  },
  {
   "cell_type": "code",
   "execution_count": 10,
   "metadata": {},
   "outputs": [],
   "source": [
    "# sometimes, I might want to have an index that isn't\n",
    "# numeric, or that has a different value\n",
    "\n",
    "# - ID numbers\n",
    "# - product numbers\n",
    "# - names\n",
    "# - dates"
   ]
  },
  {
   "cell_type": "markdown",
   "metadata": {},
   "source": [
    "# Dictionaries!\n",
    "\n",
    "Not unique to Python -- in other languages, we call them:\n",
    "\n",
    "- Hashes\n",
    "- Hash tables\n",
    "- Hash maps\n",
    "- Maps\n",
    "- Associative arrays\n",
    "- Key-value stores\n",
    "- Name-value stores\n",
    "\n",
    "The idea is: We can store *pairs* of data.\n",
    "- Key (instead of a numeric index) -- can be anything *IMMUTABLE*\n",
    "- Value -- can be anything at all\n",
    "\n",
    "Python uses dictionaries *EVERYWHERE*\n",
    "- Every object is a dict\n",
    "- Every namespace is a dict\n"
   ]
  },
  {
   "cell_type": "code",
   "execution_count": 13,
   "metadata": {},
   "outputs": [],
   "source": [
    "# creating a dictionary\n",
    "\n",
    "# use curly braces on the outside \n",
    "# we have key-value pairs separated by commas\n",
    "# the key is separated from the value with :\n",
    "\n",
    "#   3 key-value pairs in d:\n",
    "#   key:value,  key:value,  key:value\n",
    "d = {'a':1, 'b':2, 'c':3}"
   ]
  },
  {
   "cell_type": "code",
   "execution_count": 12,
   "metadata": {},
   "outputs": [
    {
     "data": {
      "text/plain": [
       "3"
      ]
     },
     "execution_count": 12,
     "metadata": {},
     "output_type": "execute_result"
    }
   ],
   "source": [
    "# how big is my dict?\n",
    "len(d)"
   ]
  },
  {
   "cell_type": "code",
   "execution_count": 14,
   "metadata": {},
   "outputs": [
    {
     "data": {
      "text/plain": [
       "1"
      ]
     },
     "execution_count": 14,
     "metadata": {},
     "output_type": "execute_result"
    }
   ],
   "source": [
    "# to retrieve from a dict, put the key in square brackets!\n",
    "d['a']"
   ]
  },
  {
   "cell_type": "code",
   "execution_count": 15,
   "metadata": {},
   "outputs": [
    {
     "data": {
      "text/plain": [
       "2"
      ]
     },
     "execution_count": 15,
     "metadata": {},
     "output_type": "execute_result"
    }
   ],
   "source": [
    "d['b']"
   ]
  },
  {
   "cell_type": "code",
   "execution_count": 16,
   "metadata": {},
   "outputs": [
    {
     "data": {
      "text/plain": [
       "3"
      ]
     },
     "execution_count": 16,
     "metadata": {},
     "output_type": "execute_result"
    }
   ],
   "source": [
    "d['c']"
   ]
  },
  {
   "cell_type": "code",
   "execution_count": 17,
   "metadata": {},
   "outputs": [
    {
     "ename": "KeyError",
     "evalue": "'q'",
     "output_type": "error",
     "traceback": [
      "\u001b[0;31m---------------------------------------------------------------------------\u001b[0m",
      "\u001b[0;31mKeyError\u001b[0m                                  Traceback (most recent call last)",
      "\u001b[0;32m<ipython-input-17-93588c49ffc3>\u001b[0m in \u001b[0;36m<module>\u001b[0;34m\u001b[0m\n\u001b[0;32m----> 1\u001b[0;31m \u001b[0md\u001b[0m\u001b[0;34m[\u001b[0m\u001b[0;34m'q'\u001b[0m\u001b[0;34m]\u001b[0m  \u001b[0;31m# does this exist?  no, so I get...\u001b[0m\u001b[0;34m\u001b[0m\u001b[0;34m\u001b[0m\u001b[0m\n\u001b[0m",
      "\u001b[0;31mKeyError\u001b[0m: 'q'"
     ]
    }
   ],
   "source": [
    "d['q']  # does this exist?  no, so I get..."
   ]
  },
  {
   "cell_type": "code",
   "execution_count": 18,
   "metadata": {},
   "outputs": [
    {
     "data": {
      "text/plain": [
       "{'a': 1, 'b': 2, 'c': 3}"
      ]
     },
     "execution_count": 18,
     "metadata": {},
     "output_type": "execute_result"
    }
   ],
   "source": [
    "d"
   ]
  },
  {
   "cell_type": "code",
   "execution_count": 19,
   "metadata": {},
   "outputs": [],
   "source": [
    "# keys are unique! \n",
    "# not a surprise -- indexes in str/list/tuple are also unique\n",
    "\n",
    "# keys must be immutable -- basically, numbers and strings\n",
    "#  (you can use tuples if you want, but only if they contain \n",
    "#   immutable data)"
   ]
  },
  {
   "cell_type": "markdown",
   "metadata": {},
   "source": [
    "# Indexes vs. keys\n",
    "\n",
    "We often think about dict keys as string versions of list indexes.  But they aren't quite like that.\n",
    "\n",
    "There is no \"max\" key.  Nor is there a \"min\" key.  They are unordered!"
   ]
  },
  {
   "cell_type": "code",
   "execution_count": 20,
   "metadata": {},
   "outputs": [
    {
     "data": {
      "text/plain": [
       "{'a': 1, 'b': 2, 'c': 3}"
      ]
     },
     "execution_count": 20,
     "metadata": {},
     "output_type": "execute_result"
    }
   ],
   "source": [
    "d"
   ]
  },
  {
   "cell_type": "code",
   "execution_count": 21,
   "metadata": {},
   "outputs": [
    {
     "data": {
      "text/plain": [
       "True"
      ]
     },
     "execution_count": 21,
     "metadata": {},
     "output_type": "execute_result"
    }
   ],
   "source": [
    "# I can ask if a key is in the dict with \"in\"\n",
    "\n",
    "'a' in d  # is the string 'a' a key in d?"
   ]
  },
  {
   "cell_type": "code",
   "execution_count": 22,
   "metadata": {},
   "outputs": [
    {
     "data": {
      "text/plain": [
       "False"
      ]
     },
     "execution_count": 22,
     "metadata": {},
     "output_type": "execute_result"
    }
   ],
   "source": [
    "'q' in d"
   ]
  },
  {
   "cell_type": "code",
   "execution_count": 23,
   "metadata": {},
   "outputs": [
    {
     "data": {
      "text/plain": [
       "False"
      ]
     },
     "execution_count": 23,
     "metadata": {},
     "output_type": "execute_result"
    }
   ],
   "source": [
    "# the string must match EXACTLY!\n",
    "\n",
    "' a' in d"
   ]
  },
  {
   "cell_type": "code",
   "execution_count": 24,
   "metadata": {},
   "outputs": [
    {
     "data": {
      "text/plain": [
       "False"
      ]
     },
     "execution_count": 24,
     "metadata": {},
     "output_type": "execute_result"
    }
   ],
   "source": [
    "'a ' in d"
   ]
  },
  {
   "cell_type": "code",
   "execution_count": 25,
   "metadata": {},
   "outputs": [
    {
     "data": {
      "text/plain": [
       "False"
      ]
     },
     "execution_count": 25,
     "metadata": {},
     "output_type": "execute_result"
    }
   ],
   "source": [
    "'A' in d"
   ]
  },
  {
   "cell_type": "code",
   "execution_count": 26,
   "metadata": {},
   "outputs": [
    {
     "data": {
      "text/plain": [
       "True"
      ]
     },
     "execution_count": 26,
     "metadata": {},
     "output_type": "execute_result"
    }
   ],
   "source": [
    "# define the dict \n",
    "d = {'a':1, 'b':2, 'c':3}\n",
    "\n",
    "'a' in d"
   ]
  },
  {
   "cell_type": "code",
   "execution_count": 27,
   "metadata": {},
   "outputs": [
    {
     "data": {
      "text/plain": [
       "False"
      ]
     },
     "execution_count": 27,
     "metadata": {},
     "output_type": "execute_result"
    }
   ],
   "source": [
    "'q' in d"
   ]
  },
  {
   "cell_type": "code",
   "execution_count": 28,
   "metadata": {},
   "outputs": [
    {
     "data": {
      "text/plain": [
       "1"
      ]
     },
     "execution_count": 28,
     "metadata": {},
     "output_type": "execute_result"
    }
   ],
   "source": [
    "d['a']"
   ]
  },
  {
   "cell_type": "markdown",
   "metadata": {},
   "source": [
    "# Exercise: Restaurant \n",
    "\n",
    "1. Define a dict called `menu` in which the keys are the items you can order at the restaurant, and the values are the prices.\n",
    "2. Define `total` to be 0.\n",
    "3. Ask the user, repeatedly, to enter what they want to order.\n",
    "    - If they enter an empty string, stop asking and print the total bill.\n",
    "    - If they enter an item that *is* on the menu, then print the item, its price, and the new total.\n",
    "    - If they enter something that is *not* on the menu, then say that you don't have that.\n",
    "    \n",
    "Example:\n",
    "\n",
    "    Order: sandwich\n",
    "    sandwich is 10, total is 10\n",
    "    Order: tea\n",
    "    tea is 5, total is 15\n",
    "    Order: elephant\n",
    "    Sorry, we are fresh out of elephant today!\n",
    "    Order: [ENTER]\n",
    "    Your total is 15\n",
    "    \n",
    "### Hints/notes    \n",
    "\n",
    "- Define the `menu` dict at the top with keys and values\n",
    "- Use a `while` loop to get the user's input, since we don't know how many we're going to get.\n",
    "- Use `in` to check if a key is in the dict\n",
    "\n"
   ]
  },
  {
   "cell_type": "code",
   "execution_count": 31,
   "metadata": {},
   "outputs": [
    {
     "name": "stdout",
     "output_type": "stream",
     "text": [
      "Order: tea\n",
      "tea is 5; total is now 5\n",
      "Order: \n",
      "Your total is 5.\n"
     ]
    }
   ],
   "source": [
    "menu = {'sandwich':10, 'tea':5, 'apple':1, 'cake':3}\n",
    "total = 0\n",
    "\n",
    "while True:\n",
    "    order = input('Order: ').strip()\n",
    "    \n",
    "    if order == '':  # empty order? exit the loop\n",
    "        break\n",
    "        \n",
    "    if order in menu:  # meaning: if the order is a key in \"menu\"\n",
    "        price = menu[order]\n",
    "        total += price\n",
    "        print(f'{order} is {price}; total is now {total}')\n",
    "    else:\n",
    "        print(f'We are fresh out of {order} today!')\n",
    "        \n",
    "print(f'Your total is {total}.')"
   ]
  },
  {
   "cell_type": "code",
   "execution_count": 33,
   "metadata": {},
   "outputs": [
    {
     "name": "stdout",
     "output_type": "stream",
     "text": [
      "Order: tea\n",
      "tea is $5; total is now 5\n",
      "Order: \n",
      "Your total is 5.\n"
     ]
    }
   ],
   "source": [
    "menu = {'sandwich':10, 'tea':5, 'apple':1, 'cake':3}\n",
    "total = 0\n",
    "\n",
    "while True:\n",
    "    order = input('Order: ').strip()\n",
    "    \n",
    "    if order == '':  # empty order? exit the loop\n",
    "        break\n",
    "        \n",
    "    if order in menu:  # meaning: if the order is a key in \"menu\"\n",
    "        price = menu[order]\n",
    "        total += price\n",
    "        print(f'{order} is ${price}; total is now ${total}')\n",
    "    else:\n",
    "        print(f'We are fresh out of {order} today!')\n",
    "        \n",
    "print(f'Your total is ${total}.')"
   ]
  },
  {
   "cell_type": "code",
   "execution_count": 34,
   "metadata": {},
   "outputs": [
    {
     "name": "stdout",
     "output_type": "stream",
     "text": [
      "{'sandwich': 10, 'tea': 5, 'apple': 1, 'cake': 3}\n"
     ]
    }
   ],
   "source": [
    "print(menu)"
   ]
  },
  {
   "cell_type": "code",
   "execution_count": 35,
   "metadata": {},
   "outputs": [],
   "source": [
    "d = {'a':1, 'b':2, 'c':3}\n",
    "\n",
    "# can I change my dict?\n",
    "# answer: YES!\n",
    "\n",
    "# first way to change: add a new key-value pair\n",
    "# how? by assigning to it\n",
    "d['x'] = 100"
   ]
  },
  {
   "cell_type": "code",
   "execution_count": 36,
   "metadata": {},
   "outputs": [
    {
     "data": {
      "text/plain": [
       "{'a': 1, 'b': 2, 'c': 3, 'x': 100}"
      ]
     },
     "execution_count": 36,
     "metadata": {},
     "output_type": "execute_result"
    }
   ],
   "source": [
    "d"
   ]
  },
  {
   "cell_type": "code",
   "execution_count": 37,
   "metadata": {},
   "outputs": [
    {
     "data": {
      "text/plain": [
       "{'a': 1, 'b': 2, 'c': 3, 'x': 100, 'y': 123.456}"
      ]
     },
     "execution_count": 37,
     "metadata": {},
     "output_type": "execute_result"
    }
   ],
   "source": [
    "d['y'] = 123.456\n",
    "d"
   ]
  },
  {
   "cell_type": "code",
   "execution_count": 38,
   "metadata": {},
   "outputs": [
    {
     "name": "stdout",
     "output_type": "stream",
     "text": [
      "Variable   Type    Data/Info\n",
      "----------------------------\n",
      "d          dict    n=5\n",
      "menu       dict    n=4\n",
      "name       str     quit\n",
      "order      str     \n",
      "price      int     5\n",
      "s          str     abcde\n",
      "total      int     5\n"
     ]
    }
   ],
   "source": [
    "# if you're in Jupyter, then you can use the %whos\n",
    "# magic command to get a table of all global variables\n",
    "\n",
    "%whos"
   ]
  },
  {
   "cell_type": "code",
   "execution_count": 39,
   "metadata": {},
   "outputs": [
    {
     "data": {
      "text/plain": [
       "{'a': 1, 'b': 2, 'c': 3, 'x': 99999, 'y': 123.456}"
      ]
     },
     "execution_count": 39,
     "metadata": {},
     "output_type": "execute_result"
    }
   ],
   "source": [
    "# how can I modify a value associated with a dict key?\n",
    "# I just assign to it!\n",
    "# Yes, same as adding a key-value pair\n",
    "\n",
    "d['x'] = 99999\n",
    "d"
   ]
  },
  {
   "cell_type": "code",
   "execution_count": 40,
   "metadata": {},
   "outputs": [
    {
     "data": {
      "text/plain": [
       "{'a': 12345, 'b': 2, 'c': 3, 'x': 99999, 'y': 123.456}"
      ]
     },
     "execution_count": 40,
     "metadata": {},
     "output_type": "execute_result"
    }
   ],
   "source": [
    "d['a'] = 12345\n",
    "d"
   ]
  },
  {
   "cell_type": "code",
   "execution_count": 41,
   "metadata": {},
   "outputs": [
    {
     "data": {
      "text/plain": [
       "{'a': 12345, 'b': 'hello', 'c': 3, 'x': 99999, 'y': 123.456}"
      ]
     },
     "execution_count": 41,
     "metadata": {},
     "output_type": "execute_result"
    }
   ],
   "source": [
    "d['b'] = 'hello'\n",
    "d"
   ]
  },
  {
   "cell_type": "code",
   "execution_count": 42,
   "metadata": {},
   "outputs": [],
   "source": [
    "d['c'] = {'q':999, 'r':888, 's':777}"
   ]
  },
  {
   "cell_type": "code",
   "execution_count": 43,
   "metadata": {},
   "outputs": [
    {
     "data": {
      "text/plain": [
       "{'a': 12345,\n",
       " 'b': 'hello',\n",
       " 'c': {'q': 999, 'r': 888, 's': 777},\n",
       " 'x': 99999,\n",
       " 'y': 123.456}"
      ]
     },
     "execution_count": 43,
     "metadata": {},
     "output_type": "execute_result"
    }
   ],
   "source": [
    "d"
   ]
  },
  {
   "cell_type": "code",
   "execution_count": 44,
   "metadata": {},
   "outputs": [
    {
     "data": {
      "text/plain": [
       "{'': 1, ' ': 2, '  ': 3, '   ': 4}"
      ]
     },
     "execution_count": 44,
     "metadata": {},
     "output_type": "execute_result"
    }
   ],
   "source": [
    "# any string can be a key\n",
    "# any string can be a value\n",
    "\n",
    "# you could do this (but don't, please!)\n",
    "\n",
    "d = {'':1, ' ':2, '  ':3, '   ':4}\n",
    "d"
   ]
  },
  {
   "cell_type": "code",
   "execution_count": 45,
   "metadata": {},
   "outputs": [
    {
     "data": {
      "text/plain": [
       "4"
      ]
     },
     "execution_count": 45,
     "metadata": {},
     "output_type": "execute_result"
    }
   ],
   "source": [
    "d['   ']"
   ]
  },
  {
   "cell_type": "code",
   "execution_count": 46,
   "metadata": {},
   "outputs": [
    {
     "data": {
      "text/plain": [
       "3"
      ]
     },
     "execution_count": 46,
     "metadata": {},
     "output_type": "execute_result"
    }
   ],
   "source": [
    "d['  ']"
   ]
  },
  {
   "cell_type": "code",
   "execution_count": 47,
   "metadata": {},
   "outputs": [],
   "source": [
    "# keys are unique!\n",
    "# so a key can only appear once in a dict\n",
    "# but values can appear as often as you want"
   ]
  },
  {
   "cell_type": "code",
   "execution_count": 48,
   "metadata": {},
   "outputs": [],
   "source": [
    "d = {'a':1, 'b':2, 'c':3}\n",
    "\n",
    "# I can add key-value pairs\n",
    "# I can modify values associated with keys\n",
    "\n",
    "# I can also remove key-value pairs, but that's pretty rare"
   ]
  },
  {
   "cell_type": "code",
   "execution_count": 49,
   "metadata": {},
   "outputs": [
    {
     "data": {
      "text/plain": [
       "3"
      ]
     },
     "execution_count": 49,
     "metadata": {},
     "output_type": "execute_result"
    }
   ],
   "source": [
    "# you can remove a key-value pair with the \"pop\" method\n",
    "d.pop('c')  # returns c's value, and removes the pair"
   ]
  },
  {
   "cell_type": "code",
   "execution_count": 50,
   "metadata": {},
   "outputs": [
    {
     "data": {
      "text/plain": [
       "{'a': 1, 'b': 2}"
      ]
     },
     "execution_count": 50,
     "metadata": {},
     "output_type": "execute_result"
    }
   ],
   "source": [
    "d"
   ]
  },
  {
   "cell_type": "code",
   "execution_count": 51,
   "metadata": {},
   "outputs": [
    {
     "data": {
      "text/plain": [
       "dict_keys(['a', 'b', 'c'])"
      ]
     },
     "execution_count": 51,
     "metadata": {},
     "output_type": "execute_result"
    }
   ],
   "source": [
    "d = {'a':1, 'b':2, 'c':3}\n",
    "\n",
    "d.keys()  # this returns an (almost) list of keys"
   ]
  },
  {
   "cell_type": "code",
   "execution_count": 52,
   "metadata": {},
   "outputs": [],
   "source": [
    "# some order to \"pop\"\n",
    "\n",
    "# list.pop() -- returns and removes the final element\n",
    "# list.pop(n) -- returns and removes the element at index n\n",
    "\n",
    "# dict.pop(k) -- returns and removes the pair with key k"
   ]
  },
  {
   "cell_type": "code",
   "execution_count": 53,
   "metadata": {},
   "outputs": [
    {
     "data": {
      "text/plain": [
       "dict_values([1, 2, 3])"
      ]
     },
     "execution_count": 53,
     "metadata": {},
     "output_type": "execute_result"
    }
   ],
   "source": [
    "d.values()   # this returns an (almost) list of values"
   ]
  },
  {
   "cell_type": "code",
   "execution_count": 54,
   "metadata": {},
   "outputs": [
    {
     "data": {
      "text/plain": [
       "True"
      ]
     },
     "execution_count": 54,
     "metadata": {},
     "output_type": "execute_result"
    }
   ],
   "source": [
    "# if you want to search the values, you *could* say\n",
    "3 in d.values()"
   ]
  },
  {
   "cell_type": "code",
   "execution_count": 56,
   "metadata": {},
   "outputs": [
    {
     "name": "stdout",
     "output_type": "stream",
     "text": [
      "1\n",
      "2\n",
      "3\n"
     ]
    }
   ],
   "source": [
    "for one_item in d.values():\n",
    "    print(one_item)"
   ]
  },
  {
   "cell_type": "code",
   "execution_count": 57,
   "metadata": {},
   "outputs": [
    {
     "data": {
      "text/plain": [
       "dict_keys(['a', 'b', 'c'])"
      ]
     },
     "execution_count": 57,
     "metadata": {},
     "output_type": "execute_result"
    }
   ],
   "source": [
    "d.keys()"
   ]
  },
  {
   "cell_type": "code",
   "execution_count": 58,
   "metadata": {},
   "outputs": [
    {
     "data": {
      "text/plain": [
       "dict_values([1, 2, 3])"
      ]
     },
     "execution_count": 58,
     "metadata": {},
     "output_type": "execute_result"
    }
   ],
   "source": [
    "d.values()"
   ]
  },
  {
   "cell_type": "code",
   "execution_count": 59,
   "metadata": {},
   "outputs": [
    {
     "data": {
      "text/plain": [
       "{'a': 1, 'b': 2, 'c': 3}"
      ]
     },
     "execution_count": 59,
     "metadata": {},
     "output_type": "execute_result"
    }
   ],
   "source": [
    "# as of Python 3.7, dicts guarantee key-value pairs \n",
    "# will be in insertion order.  (Before that, this was\n",
    "# *DEFINITELY* not the case!)\n",
    "\n",
    "d = {}   # empty dict\n",
    "d['a'] = 1\n",
    "d['b'] = 2\n",
    "d['c'] = 3\n",
    "\n",
    "d"
   ]
  },
  {
   "cell_type": "code",
   "execution_count": 61,
   "metadata": {},
   "outputs": [
    {
     "data": {
      "text/plain": [
       "2"
      ]
     },
     "execution_count": 61,
     "metadata": {},
     "output_type": "execute_result"
    }
   ],
   "source": [
    "d.pop('b')  # remove the key-value pair with 'b'"
   ]
  },
  {
   "cell_type": "code",
   "execution_count": 62,
   "metadata": {},
   "outputs": [
    {
     "data": {
      "text/plain": [
       "{'a': 1, 'c': 3, 'b': 999}"
      ]
     },
     "execution_count": 62,
     "metadata": {},
     "output_type": "execute_result"
    }
   ],
   "source": [
    "d['b'] = 999\n",
    "d"
   ]
  },
  {
   "cell_type": "code",
   "execution_count": 63,
   "metadata": {},
   "outputs": [
    {
     "data": {
      "text/plain": [
       "dict_keys(['a', 'c', 'b'])"
      ]
     },
     "execution_count": 63,
     "metadata": {},
     "output_type": "execute_result"
    }
   ],
   "source": [
    "d.keys()"
   ]
  },
  {
   "cell_type": "code",
   "execution_count": 64,
   "metadata": {},
   "outputs": [
    {
     "data": {
      "text/plain": [
       "dict_values([1, 3, 999])"
      ]
     },
     "execution_count": 64,
     "metadata": {},
     "output_type": "execute_result"
    }
   ],
   "source": [
    "d.values()"
   ]
  },
  {
   "cell_type": "code",
   "execution_count": 65,
   "metadata": {},
   "outputs": [
    {
     "data": {
      "text/plain": [
       "{'a': 1, 'b': 2, 'c': 3}"
      ]
     },
     "execution_count": 65,
     "metadata": {},
     "output_type": "execute_result"
    }
   ],
   "source": [
    "d = {'a':0, 'b':0, 'c':0}\n",
    "\n",
    "d['a'] += 1\n",
    "d['b'] += 2\n",
    "d['c'] += 3\n",
    "\n",
    "d"
   ]
  },
  {
   "cell_type": "markdown",
   "metadata": {},
   "source": [
    "# Exercise: Vowels, digits, and others\n",
    "\n",
    "1. Set up a dict, `counts`, in which there are three keys, `vowels`, `digits`, and `others`. Their values should all be set to 0.\n",
    "2. Ask the user to enter a string.\n",
    "3. Go through the string, one character at a time.\n",
    "   - If the character is a digit, add 1 to that count.\n",
    "   - If the character is a vowel, add 1 to that count.\n",
    "   - Otherwise, add 1 to the `others` count.\n",
    "4. Print the dict, so we can see the counts.   "
   ]
  },
  {
   "cell_type": "code",
   "execution_count": 67,
   "metadata": {},
   "outputs": [
    {
     "name": "stdout",
     "output_type": "stream",
     "text": [
      "Enter a string: hello 1234\n",
      "{'vowels': 2, 'digits': 4, 'others': 4}\n"
     ]
    }
   ],
   "source": [
    "counts = {'vowels':0, 'digits':0, 'others':0}\n",
    "\n",
    "s = input('Enter a string: ').strip()\n",
    "\n",
    "for one_character in s:\n",
    "    if one_character.isdigit():\n",
    "        counts['digits'] += 1\n",
    "    elif one_character.lower() in 'aeiou':\n",
    "        counts['vowels'] += 1\n",
    "    else:\n",
    "        counts['others'] += 1\n",
    "        \n",
    "print(counts)"
   ]
  },
  {
   "cell_type": "code",
   "execution_count": 74,
   "metadata": {},
   "outputs": [
    {
     "name": "stdout",
     "output_type": "stream",
     "text": [
      "Yes!\n"
     ]
    }
   ],
   "source": [
    "s = 'x'\n",
    "\n",
    "# make sure to use () when you want to run a function!\n",
    "\n",
    "if s.isdigit: # without parens, it's asking: does the function exist?\n",
    "    print('Yes!')\n",
    "else:\n",
    "    print('No!')"
   ]
  },
  {
   "cell_type": "code",
   "execution_count": 71,
   "metadata": {},
   "outputs": [],
   "source": [
    "x = 10\n",
    "y = [10, 20, 30]\n",
    "z = (100, 200, 300, 400, 500)"
   ]
  },
  {
   "cell_type": "markdown",
   "metadata": {},
   "source": [
    "# Parentheses in Python\n",
    "\n",
    "- `()` (regular, round)\n",
    "    - define tuples\n",
    "    - execute functions/classes\n",
    "    - grouping of math\n",
    "- `[]` (square brackets)\n",
    "    - define lists\n",
    "    - retrieve from strings, lists, tuples, and dicts\n",
    "- `{}` (curly braces)\n",
    "    - in f-strings\n",
    "    - in defining dicts"
   ]
  },
  {
   "cell_type": "markdown",
   "metadata": {},
   "source": [
    "# Using `continue` in a loop\n",
    "\n",
    "In either a `for` or `while` loop, you can use `break` to exit the loop immediately.\n",
    "\n",
    "\n"
   ]
  },
  {
   "cell_type": "code",
   "execution_count": 75,
   "metadata": {
    "scrolled": true
   },
   "outputs": [
    {
     "name": "stdout",
     "output_type": "stream",
     "text": [
      "Enter your name: world\n",
      "Hello, world!\n",
      "Enter your name: Reuven\n",
      "Hello, Reuven!\n",
      "Enter your name: \n",
      "Whew!  Done with that loop!\n"
     ]
    }
   ],
   "source": [
    "while True:\n",
    "    name = input('Enter your name: ').strip()\n",
    "    \n",
    "    if name == '':\n",
    "        break   # leaves the loop immediately!\n",
    "        \n",
    "    print(f'Hello, {name}!')\n",
    "    \n",
    "print('Whew!  Done with that loop!')    \n",
    "        "
   ]
  },
  {
   "cell_type": "markdown",
   "metadata": {},
   "source": [
    "# What about `continue`?\n",
    "\n",
    "`continue` means: finish this iteration right away, and go immediately to the next one. \n",
    "\n",
    "I often want that at the top of a loop to check for validity, and go onto the next iteration if the current data is invalid."
   ]
  },
  {
   "cell_type": "code",
   "execution_count": 77,
   "metadata": {},
   "outputs": [
    {
     "name": "stdout",
     "output_type": "stream",
     "text": [
      "Enter your name: Reuven\n",
      "Hello, Reuven!\n",
      "Enter your name: ab\n",
      "You have a short name!  Try again!\n",
      "Enter your name: asdfasfafffa\n",
      "Your name is too long!  Try again!\n",
      "Enter your name: \n",
      "Whew!  Done with that loop!\n"
     ]
    }
   ],
   "source": [
    "while True:\n",
    "    name = input('Enter your name: ').strip()\n",
    "    \n",
    "    if name == '':\n",
    "        break   # leaves the loop immediately!\n",
    "        \n",
    "    if len(name) < 3:\n",
    "        print(f'You have a short name!  Try again!')\n",
    "        continue\n",
    "        \n",
    "    if len(name) > 10:\n",
    "        print(f'Your name is too long!  Try again!')\n",
    "        continue\n",
    "        \n",
    "    print(f'Hello, {name}!')\n",
    "    \n",
    "print('Whew!  Done with that loop!')    \n",
    "        "
   ]
  },
  {
   "cell_type": "code",
   "execution_count": 78,
   "metadata": {},
   "outputs": [
    {
     "name": "stdout",
     "output_type": "stream",
     "text": [
      "Enter a key:a\n",
      "d[a] is 1\n",
      "Enter a key:b\n",
      "d[b] is 2\n",
      "Enter a key:c\n",
      "d[c] is 3\n",
      "Enter a key:q\n",
      "q is not a key in d\n",
      "Enter a key:v\n",
      "v is not a key in d\n",
      "Enter a key:\n"
     ]
    }
   ],
   "source": [
    "d = {'a':1, 'b':2, 'c':3}\n",
    "\n",
    "while True:\n",
    "    k = input('Enter a key:').strip()\n",
    "    \n",
    "    if k == '':\n",
    "        break\n",
    "    elif k in d:\n",
    "        print(f'd[{k}] is {d[k]}')\n",
    "    else:\n",
    "        print(f'{k} is not a key in d')\n",
    "        "
   ]
  },
  {
   "cell_type": "code",
   "execution_count": null,
   "metadata": {},
   "outputs": [],
   "source": [
    "d = {'a':1, 'b':2, 'c':3}\n",
    "\n",
    "while True:\n",
    "    k = input('Enter a key:').strip()\n",
    "    \n",
    "    if k == '':\n",
    "        break\n",
    "        \n",
    "    if k not in d:\n",
    "        print('No such key {k}; try again')\n",
    "        continue\n",
    "        \n",
    "    print(f'd[{k}] is {d[k]}')\n",
    "\n",
    "        "
   ]
  },
  {
   "cell_type": "markdown",
   "metadata": {},
   "source": [
    "# Exercise: Rainfall\n",
    "\n",
    "1. Define an empty dict, called `rainfall`.  Eventually, its keys will be strings (names of cities) and its values will be integers (mm of rain).\n",
    "2. Ask the user repeatedly to enter the name of a city.\n",
    "3. If they enter an empty string, stop asking and print the dict.\n",
    "4. If we did get a city, then ask the user to enter mm rain that fell in that city.\n",
    "5. Accumulate rainfall for this city in the `rainfall` dict.  \n",
    "   - If this is the first time we're hearing of this city, then just assign the value.\n",
    "   - If this is not the first time, then add to the previous value\n",
    "6. Print the dict\n",
    "\n",
    "Example:\n",
    "\n",
    "       City: Jerusalem\n",
    "       Rain: 2\n",
    "       City: Tel Aviv\n",
    "       Rain: 4\n",
    "       City: Jerusalem\n",
    "       Rain: 3\n",
    "       City: [ENTER]\n",
    "       {'Jerusalem':5, 'Tel Aviv':4}"
   ]
  },
  {
   "cell_type": "code",
   "execution_count": 81,
   "metadata": {},
   "outputs": [
    {
     "name": "stdout",
     "output_type": "stream",
     "text": [
      "Enter city name: a\n",
      "Enter mm rain: 5\n",
      "Enter city name: b\n",
      "Enter mm rain: 10\n",
      "Enter city name: a\n",
      "Enter mm rain: 3\n",
      "Enter city name: \n",
      "{'a': 8, 'b': 10}\n"
     ]
    }
   ],
   "source": [
    "# setup\n",
    "rainfall = {}\n",
    "\n",
    "# calculation\n",
    "while True:\n",
    "    city_name = input('Enter city name: ').strip()\n",
    "    \n",
    "    if city_name == '':\n",
    "        break\n",
    "        \n",
    "    mm_rain = input('Enter mm rain: ').strip()\n",
    "    \n",
    "    if not mm_rain.isdigit():\n",
    "        print('Not a number; try again!')\n",
    "        continue\n",
    "        \n",
    "    mm_rain = int(mm_rain)\n",
    "    \n",
    "    if city_name in rainfall:  # have we seen this city before?\n",
    "        rainfall[city_name] += mm_rain  # good; add to existing value\n",
    "    else:\n",
    "        rainfall[city_name] = mm_rain   # also good; assign new key-value\n",
    "    \n",
    "# report\n",
    "print(rainfall)    "
   ]
  },
  {
   "cell_type": "code",
   "execution_count": 82,
   "metadata": {},
   "outputs": [
    {
     "data": {
      "text/plain": [
       "{'a': 6, 'b': 2, 'c': 3}"
      ]
     },
     "execution_count": 82,
     "metadata": {},
     "output_type": "execute_result"
    }
   ],
   "source": [
    "d = {'a':1, 'b':2, 'c':3}\n",
    "\n",
    "d['a'] += 5\n",
    "d"
   ]
  },
  {
   "cell_type": "code",
   "execution_count": 83,
   "metadata": {},
   "outputs": [
    {
     "ename": "KeyError",
     "evalue": "'q'",
     "output_type": "error",
     "traceback": [
      "\u001b[0;31m---------------------------------------------------------------------------\u001b[0m",
      "\u001b[0;31mKeyError\u001b[0m                                  Traceback (most recent call last)",
      "\u001b[0;32m<ipython-input-83-94fa7ebda1eb>\u001b[0m in \u001b[0;36m<module>\u001b[0;34m\u001b[0m\n\u001b[0;32m----> 1\u001b[0;31m \u001b[0md\u001b[0m\u001b[0;34m[\u001b[0m\u001b[0;34m'q'\u001b[0m\u001b[0;34m]\u001b[0m \u001b[0;34m+=\u001b[0m \u001b[0;36m5\u001b[0m\u001b[0;34m\u001b[0m\u001b[0;34m\u001b[0m\u001b[0m\n\u001b[0m",
      "\u001b[0;31mKeyError\u001b[0m: 'q'"
     ]
    }
   ],
   "source": [
    "d['q'] += 5"
   ]
  },
  {
   "cell_type": "code",
   "execution_count": 84,
   "metadata": {},
   "outputs": [
    {
     "name": "stdout",
     "output_type": "stream",
     "text": [
      "a\n",
      "b\n",
      "c\n",
      "d\n"
     ]
    }
   ],
   "source": [
    "# how to iterate over a dictionary\n",
    "\n",
    "for one_item in 'abcd':\n",
    "    print(one_item)"
   ]
  },
  {
   "cell_type": "code",
   "execution_count": 85,
   "metadata": {},
   "outputs": [
    {
     "name": "stdout",
     "output_type": "stream",
     "text": [
      "10\n",
      "20\n",
      "30\n"
     ]
    }
   ],
   "source": [
    "for one_item in [10, 20, 30]:\n",
    "    print(one_item)"
   ]
  },
  {
   "cell_type": "code",
   "execution_count": 86,
   "metadata": {},
   "outputs": [
    {
     "name": "stdout",
     "output_type": "stream",
     "text": [
      "a\n",
      "b\n",
      "c\n"
     ]
    }
   ],
   "source": [
    "# iterating over a dict means: you iterate over the keys\n",
    "\n",
    "d = {'a':1, 'b':2, 'c':3}\n",
    "for one_item in d:\n",
    "    print(one_item)"
   ]
  },
  {
   "cell_type": "code",
   "execution_count": 87,
   "metadata": {},
   "outputs": [
    {
     "name": "stdout",
     "output_type": "stream",
     "text": [
      "a: 1\n",
      "b: 2\n",
      "c: 3\n"
     ]
    }
   ],
   "source": [
    "# traditional way to print a dict\n",
    "for key in d:\n",
    "    print(f'{key}: {d[key]}')"
   ]
  },
  {
   "cell_type": "code",
   "execution_count": 88,
   "metadata": {},
   "outputs": [
    {
     "name": "stdout",
     "output_type": "stream",
     "text": [
      "a: 1\n",
      "b: 2\n",
      "c: 3\n"
     ]
    }
   ],
   "source": [
    "# there's another way, too!\n",
    "# use d.items() -- it returns *both* a key and a value in each iteration\n",
    "\n",
    "for key, value in d.items():\n",
    "    print(f'{key}: {value}')"
   ]
  },
  {
   "cell_type": "code",
   "execution_count": 89,
   "metadata": {},
   "outputs": [
    {
     "name": "stdout",
     "output_type": "stream",
     "text": [
      "a: 1\n",
      "b: 2\n",
      "c: 3\n"
     ]
    }
   ],
   "source": [
    "# You *could* iterate over d.keys()... but why?\n",
    "# it's slower than iterating over d, and takes more time to write\n",
    "for key in d.keys():\n",
    "    print(f'{key}: {d[key]}')"
   ]
  },
  {
   "cell_type": "code",
   "execution_count": 90,
   "metadata": {},
   "outputs": [
    {
     "name": "stdout",
     "output_type": "stream",
     "text": [
      "Enter city name: a\n",
      "Enter mm rain: 5\n",
      "Enter city name: b\n",
      "Enter mm rain: 6\n",
      "Enter city name: a\n",
      "Enter mm rain: 3\n",
      "Enter city name: \n",
      "a: 8\n",
      "b: 6\n"
     ]
    }
   ],
   "source": [
    "# setup\n",
    "rainfall = {}\n",
    "\n",
    "# calculation\n",
    "while True:\n",
    "    city_name = input('Enter city name: ').strip()\n",
    "    \n",
    "    if city_name == '':\n",
    "        break\n",
    "        \n",
    "    mm_rain = input('Enter mm rain: ').strip()\n",
    "    \n",
    "    if not mm_rain.isdigit():\n",
    "        print('Not a number; try again!')\n",
    "        continue\n",
    "        \n",
    "    mm_rain = int(mm_rain)\n",
    "    \n",
    "    if city_name in rainfall:  # have we seen this city before?\n",
    "        rainfall[city_name] += mm_rain  # good; add to existing value\n",
    "    else:\n",
    "        rainfall[city_name] = mm_rain   # also good; assign new key-value\n",
    "    \n",
    "# report\n",
    "for key, value in rainfall.items():\n",
    "    print(f'{key}: {value}')"
   ]
  },
  {
   "cell_type": "code",
   "execution_count": 91,
   "metadata": {},
   "outputs": [
    {
     "data": {
      "text/plain": [
       "{'a': 1, 'b': 2, 'c': 3}"
      ]
     },
     "execution_count": 91,
     "metadata": {},
     "output_type": "execute_result"
    }
   ],
   "source": [
    "d"
   ]
  },
  {
   "cell_type": "markdown",
   "metadata": {},
   "source": [
    "# 4 ways to iterate over dicts\n",
    "\n",
    "1. `for key in d`\n",
    "    - Fastest, because no method is being called\n",
    "    - But you only get the key\n",
    "    - To get the values, you need to say `d[key]`\n",
    "2. `for key in d.keys()`\n",
    "    - Gives the same results as #1, but it's slower because you're calling a method. Don't do this!\n",
    "3. `for key, value in d.items()`\n",
    "    - A bit slower, but you get the key and value passed to you in the loop, which is convenient\n",
    "4. `for one_value in d.values()`\n",
    "    - Iterate over the values\n",
    "    \n",
    "All of these also work with the `in` operator. So if you want to search in the values, you say `x in d.values()`.    \n"
   ]
  },
  {
   "cell_type": "markdown",
   "metadata": {},
   "source": [
    "# Things to notice about dicts\n",
    " \n",
    "1. Keys can be any immutable type\n",
    "2. Values can be any type at all\n",
    "3. Keys are unique\n",
    "4. Values don't have to be unique\n",
    "5. (You probably don't know this) lookup of a key in the dict is super fast, regardless of how many items are in the dictionary."
   ]
  },
  {
   "cell_type": "code",
   "execution_count": 92,
   "metadata": {},
   "outputs": [
    {
     "data": {
      "text/plain": [
       "True"
      ]
     },
     "execution_count": 92,
     "metadata": {},
     "output_type": "execute_result"
    }
   ],
   "source": [
    "# dicts use a \"hash function\" which calculates a value\n",
    "# based on the key\n",
    "\n",
    "# that value tells Python where to look in memory\n",
    "\n",
    "'a' in d  # Python calculates hash('a'), and looks there for 'a'"
   ]
  },
  {
   "cell_type": "code",
   "execution_count": 93,
   "metadata": {},
   "outputs": [
    {
     "data": {
      "text/plain": [
       "-3508769491418989232"
      ]
     },
     "execution_count": 93,
     "metadata": {},
     "output_type": "execute_result"
    }
   ],
   "source": [
    "hash('a')"
   ]
  },
  {
   "cell_type": "code",
   "execution_count": 94,
   "metadata": {},
   "outputs": [
    {
     "data": {
      "text/plain": [
       "-2409286454983581968"
      ]
     },
     "execution_count": 94,
     "metadata": {},
     "output_type": "execute_result"
    }
   ],
   "source": [
    "hash('b')"
   ]
  },
  {
   "cell_type": "code",
   "execution_count": 95,
   "metadata": {},
   "outputs": [
    {
     "data": {
      "text/plain": [
       "{'a': 1, 'b': 2, 'c': 3}"
      ]
     },
     "execution_count": 95,
     "metadata": {},
     "output_type": "execute_result"
    }
   ],
   "source": [
    "d"
   ]
  },
  {
   "cell_type": "code",
   "execution_count": 99,
   "metadata": {},
   "outputs": [
    {
     "data": {
      "text/plain": [
       "('a', 1)"
      ]
     },
     "execution_count": 99,
     "metadata": {},
     "output_type": "execute_result"
    }
   ],
   "source": [
    "# get a tuple with the first key-value pair\n",
    "list(d.items())[0]"
   ]
  },
  {
   "cell_type": "code",
   "execution_count": 100,
   "metadata": {},
   "outputs": [],
   "source": [
    "# tuple unpacking\n",
    "\n",
    "t = (100, 200, 300)\n",
    "\n",
    "x,y,z = t"
   ]
  },
  {
   "cell_type": "code",
   "execution_count": 101,
   "metadata": {},
   "outputs": [
    {
     "data": {
      "text/plain": [
       "100"
      ]
     },
     "execution_count": 101,
     "metadata": {},
     "output_type": "execute_result"
    }
   ],
   "source": [
    "x"
   ]
  },
  {
   "cell_type": "code",
   "execution_count": 102,
   "metadata": {},
   "outputs": [
    {
     "data": {
      "text/plain": [
       "200"
      ]
     },
     "execution_count": 102,
     "metadata": {},
     "output_type": "execute_result"
    }
   ],
   "source": [
    "y\n"
   ]
  },
  {
   "cell_type": "code",
   "execution_count": 103,
   "metadata": {},
   "outputs": [
    {
     "data": {
      "text/plain": [
       "300"
      ]
     },
     "execution_count": 103,
     "metadata": {},
     "output_type": "execute_result"
    }
   ],
   "source": [
    "z"
   ]
  },
  {
   "cell_type": "code",
   "execution_count": 105,
   "metadata": {},
   "outputs": [
    {
     "name": "stdout",
     "output_type": "stream",
     "text": [
      "('a', 1)\n",
      "('b', 2)\n",
      "('c', 3)\n"
     ]
    }
   ],
   "source": [
    "for t in d.items():\n",
    "    print(t)"
   ]
  },
  {
   "cell_type": "code",
   "execution_count": null,
   "metadata": {},
   "outputs": [],
   "source": []
  }
 ],
 "metadata": {
  "kernelspec": {
   "display_name": "Python 3",
   "language": "python",
   "name": "python3"
  },
  "language_info": {
   "codemirror_mode": {
    "name": "ipython",
    "version": 3
   },
   "file_extension": ".py",
   "mimetype": "text/x-python",
   "name": "python",
   "nbconvert_exporter": "python",
   "pygments_lexer": "ipython3",
   "version": "3.9.5"
  }
 },
 "nbformat": 4,
 "nbformat_minor": 4
}
